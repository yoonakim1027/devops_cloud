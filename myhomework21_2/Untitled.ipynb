{
 "cells": [
  {
   "cell_type": "code",
   "execution_count": 1,
   "id": "f5b44592",
   "metadata": {},
   "outputs": [],
   "source": [
    "import os\n",
    "\n",
    "os.environ[\"DJANGO_SETTINGS_MODULE\"] = \"myhomework21_2.settings\"\n",
    "os.environ[\"DJANGO_ALLOW_ASYNC_UNSAFE\"] = \"true\"\n",
    "\n",
    "import django\n",
    "django.setup()"
   ]
  },
  {
   "cell_type": "code",
   "execution_count": null,
   "id": "98c73b5d",
   "metadata": {},
   "outputs": [],
   "source": [
    "saved_post = form이 가지고 있는 값\n",
    "cleaned_data -> 유효성 검사에서 통과한 값들을 사전의 형태로 가지고 잇음\n",
    "is_valid 가 유효성 검사를 호출하는 것 \n",
    "tags에 해당하는 키의 값을 가져오고, 키의 값이 없으면 \"\"qksabswjdyf \n",
    "콤마를 구분자로한 리스트를 가져오고\n",
    "좌우 공백 제거 \n",
    "제거된걸 tag_name으로 저장\n",
    "tag_name이 있으면 가져오고 없으면 생성해서 가져오고 \n",
    "get_or_create의 값은 항상 2개 \n",
    "그래서 tag는 가져온 인스턴스, 두번째는 생성여부.(있으면 거짓, 없으어서 생생성했을 경우 참)\n",
    "\n",
    "tags라는 문자열에 맛집, 식당 이렇게 두개면? ,를 구분자로 해서 두개를 나눠서 tag_list에 append\n",
    "\n",
    "\n",
    "저장하는 로직은 save에 구현\n",
    "이 save로직을 오버라이딩 overriding\n",
    "자식 클래스가 부모클래스에서 제공한 메소드를 특정한 형태로 구현하는 것 \n",
    "원래 부모가 제공하는 save라는 기능 + 자식클래스에서 추가적인 기능을 추가하고 싶음 \n",
    "\n",
    "\n",
    "\n",
    "\n"
   ]
  },
  {
   "cell_type": "code",
   "execution_count": null,
   "id": "f72bb8b2",
   "metadata": {},
   "outputs": [],
   "source": [
    "생성자 __init__ : 뭔가를 초기화 하는 역할\n",
    "    \n",
    "초기값을 채워넣을 때, 무조건 부모는 소환시켜서 일을 시키고\n",
    "디비에 저장이되면 pk가 있고, 저장이 안되었으면 없음\n",
    "\n"
   ]
  }
 ],
 "metadata": {
  "kernelspec": {
   "display_name": "Python 3 (ipykernel)",
   "language": "python",
   "name": "python3"
  },
  "language_info": {
   "codemirror_mode": {
    "name": "ipython",
    "version": 3
   },
   "file_extension": ".py",
   "mimetype": "text/x-python",
   "name": "python",
   "nbconvert_exporter": "python",
   "pygments_lexer": "ipython3",
   "version": "3.10.0"
  }
 },
 "nbformat": 4,
 "nbformat_minor": 5
}
