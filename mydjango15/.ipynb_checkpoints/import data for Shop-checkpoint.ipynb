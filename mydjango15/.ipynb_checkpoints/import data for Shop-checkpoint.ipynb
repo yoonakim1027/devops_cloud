{
 "cells": [
  {
   "cell_type": "code",
   "execution_count": 1,
   "id": "7f8330bd",
   "metadata": {},
   "outputs": [],
   "source": [
    "import os\n",
    "os.environ[\"DJANGO_SETTINGS_MODULE\"] = \"mydjango15.settings\"\n",
    "os.environ[\"DJANGO_ALLOW_ASYNC_UNSAFE\"] = \"true\"\n",
    "\n",
    "import django\n",
    "django.setup()\n"
   ]
  },
  {
   "cell_type": "code",
   "execution_count": 2,
   "id": "b87957bc",
   "metadata": {},
   "outputs": [
    {
     "data": {
      "text/plain": [
       "[['name', 'description', 'address', 'coordinates', 'telephone'],\n",
       " ['파리바게뜨 대전판암점',\n",
       "  '베이커리',\n",
       "  '대전 동구 옥천로 178-1',\n",
       "  '36.3170396,127.4602147',\n",
       "  '042-272-8838'],\n",
       " ['어글리딜리셔스',\n",
       "  '스파게티,파스타전문',\n",
       "  '대전 동구 대동 357-1',\n",
       "  '36.3331706,127.4470956',\n",
       "  '0507-1376-7459'],\n",
       " ['파이브퍼센트',\n",
       "  '대동 야경 카페',\n",
       "  '대전 동구 대동 1-364',\n",
       "  '36.3315208,127.4512942',\n",
       "  '010-6464-4646'],\n",
       " ['대동골순대',\n",
       "  '순대, 순댓국',\n",
       "  '대전 동구 대동 63-1',\n",
       "  '36.3314381,127.445085',\n",
       "  '042-257-7648'],\n",
       " ['Poguu',\n",
       "  '대동하늘공원뷰가 다 보이는 카페',\n",
       "  '대전 동구 대동 1-350 Poguu',\n",
       "  '36.332223,127.450338',\n",
       "  '0507-1309-8461'],\n",
       " ['신선칼국수',\n",
       "  '칼국수, 만두',\n",
       "  '대전 동구 대동 178-4 신선칼국수',\n",
       "  '36.3303181,127.4422267',\n",
       "  '042-335-5252'],\n",
       " ['스테이셔너리베이커리',\n",
       "  '베이커리. 맛잇어보임',\n",
       "  '대전 동구 대동 66-14 1층',\n",
       "  '36.3312624,127.443929',\n",
       "  '010-9554-9738'],\n",
       " ['낭만커피',\n",
       "  '대동 최고의 카페',\n",
       "  '대전 동구 대동 159-16 1층',\n",
       "  '36.3286197,127.4411722',\n",
       "  '042-346-1010'],\n",
       " ['웰빙김밥천국',\n",
       "  '김밥천국이 제일 맛있다',\n",
       "  '대전 동구 대동 192-1',\n",
       "  '36.3307326,127.443573',\n",
       "  '042-635-8677'],\n",
       " ['파운드',\n",
       "  '이탈리아음식',\n",
       "  '대전 동구 소제동 299-71 파운드',\n",
       "  '36.3366868,127.4365686',\n",
       "  '070-4449-8381'],\n",
       " ['보문산호랭이',\n",
       "  '대흥동 맛집',\n",
       "  '대전 중구 대흥동 147-4',\n",
       "  '36.3268776,127.4287748',\n",
       "  '0507-1328-3805'],\n",
       " ['육형제',\n",
       "  '우송대 학생들이 하는 곳이 아닌가 하는 생각',\n",
       "  '대전 동구 자양동 155-3 1층',\n",
       "  '36.3381738,127.4458014',\n",
       "  '010-3996-3549'],\n",
       " ['BHC치킨 대전대동점',\n",
       "  '맛있는 치킨 깨끗한 치킨!',\n",
       "  '대전 동구 대동 180-21',\n",
       "  '36.3297929,127.4434516',\n",
       "  '042-673-1588']]"
      ]
     },
     "execution_count": 2,
     "metadata": {},
     "output_type": "execute_result"
    }
   ],
   "source": [
    "\n",
    "from openpyxl import load_workbook\n",
    "wb = load_workbook('mydjango15-data.xlsx')\n",
    "sheet = wb.active\n",
    "rows = [\n",
    "\t[column.value for column in row]\n",
    "\tfor row in sheet\n",
    "]\n",
    "rows"
   ]
  },
  {
   "cell_type": "code",
   "execution_count": 3,
   "id": "95ebd87d",
   "metadata": {},
   "outputs": [
    {
     "data": {
      "text/plain": [
       "['name', 'description', 'address', 'coordinates', 'telephone']"
      ]
     },
     "execution_count": 3,
     "metadata": {},
     "output_type": "execute_result"
    }
   ],
   "source": [
    "column_names = rows[0]\n",
    "column_names"
   ]
  },
  {
   "cell_type": "code",
   "execution_count": 4,
   "id": "0d65506a",
   "metadata": {},
   "outputs": [
    {
     "data": {
      "text/plain": [
       "[['파리바게뜨 대전판암점',\n",
       "  '베이커리',\n",
       "  '대전 동구 옥천로 178-1',\n",
       "  '36.3170396,127.4602147',\n",
       "  '042-272-8838'],\n",
       " ['어글리딜리셔스',\n",
       "  '스파게티,파스타전문',\n",
       "  '대전 동구 대동 357-1',\n",
       "  '36.3331706,127.4470956',\n",
       "  '0507-1376-7459'],\n",
       " ['파이브퍼센트',\n",
       "  '대동 야경 카페',\n",
       "  '대전 동구 대동 1-364',\n",
       "  '36.3315208,127.4512942',\n",
       "  '010-6464-4646'],\n",
       " ['대동골순대',\n",
       "  '순대, 순댓국',\n",
       "  '대전 동구 대동 63-1',\n",
       "  '36.3314381,127.445085',\n",
       "  '042-257-7648'],\n",
       " ['Poguu',\n",
       "  '대동하늘공원뷰가 다 보이는 카페',\n",
       "  '대전 동구 대동 1-350 Poguu',\n",
       "  '36.332223,127.450338',\n",
       "  '0507-1309-8461'],\n",
       " ['신선칼국수',\n",
       "  '칼국수, 만두',\n",
       "  '대전 동구 대동 178-4 신선칼국수',\n",
       "  '36.3303181,127.4422267',\n",
       "  '042-335-5252'],\n",
       " ['스테이셔너리베이커리',\n",
       "  '베이커리. 맛잇어보임',\n",
       "  '대전 동구 대동 66-14 1층',\n",
       "  '36.3312624,127.443929',\n",
       "  '010-9554-9738'],\n",
       " ['낭만커피',\n",
       "  '대동 최고의 카페',\n",
       "  '대전 동구 대동 159-16 1층',\n",
       "  '36.3286197,127.4411722',\n",
       "  '042-346-1010'],\n",
       " ['웰빙김밥천국',\n",
       "  '김밥천국이 제일 맛있다',\n",
       "  '대전 동구 대동 192-1',\n",
       "  '36.3307326,127.443573',\n",
       "  '042-635-8677'],\n",
       " ['파운드',\n",
       "  '이탈리아음식',\n",
       "  '대전 동구 소제동 299-71 파운드',\n",
       "  '36.3366868,127.4365686',\n",
       "  '070-4449-8381'],\n",
       " ['보문산호랭이',\n",
       "  '대흥동 맛집',\n",
       "  '대전 중구 대흥동 147-4',\n",
       "  '36.3268776,127.4287748',\n",
       "  '0507-1328-3805'],\n",
       " ['육형제',\n",
       "  '우송대 학생들이 하는 곳이 아닌가 하는 생각',\n",
       "  '대전 동구 자양동 155-3 1층',\n",
       "  '36.3381738,127.4458014',\n",
       "  '010-3996-3549'],\n",
       " ['BHC치킨 대전대동점',\n",
       "  '맛있는 치킨 깨끗한 치킨!',\n",
       "  '대전 동구 대동 180-21',\n",
       "  '36.3297929,127.4434516',\n",
       "  '042-673-1588']]"
      ]
     },
     "execution_count": 4,
     "metadata": {},
     "output_type": "execute_result"
    }
   ],
   "source": [
    "rows[1:]"
   ]
  },
  {
   "cell_type": "code",
   "execution_count": 16,
   "id": "8ba482db",
   "metadata": {},
   "outputs": [
    {
     "data": {
      "text/plain": [
       "[{'name': '파리바게뜨 대전판암점',\n",
       "  'description': '베이커리',\n",
       "  'address': '대전 동구 옥천로 178-1',\n",
       "  'telephone': '042-272-8838',\n",
       "  'latitude': '36.3170396',\n",
       "  'longitude': '127.4602147'},\n",
       " {'name': '어글리딜리셔스',\n",
       "  'description': '스파게티,파스타전문',\n",
       "  'address': '대전 동구 대동 357-1',\n",
       "  'telephone': '0507-1376-7459',\n",
       "  'latitude': '36.3331706',\n",
       "  'longitude': '127.4470956'},\n",
       " {'name': '파이브퍼센트',\n",
       "  'description': '대동 야경 카페',\n",
       "  'address': '대전 동구 대동 1-364',\n",
       "  'telephone': '010-6464-4646',\n",
       "  'latitude': '36.3315208',\n",
       "  'longitude': '127.4512942'},\n",
       " {'name': '대동골순대',\n",
       "  'description': '순대, 순댓국',\n",
       "  'address': '대전 동구 대동 63-1',\n",
       "  'telephone': '042-257-7648',\n",
       "  'latitude': '36.3314381',\n",
       "  'longitude': '127.445085'},\n",
       " {'name': 'Poguu',\n",
       "  'description': '대동하늘공원뷰가 다 보이는 카페',\n",
       "  'address': '대전 동구 대동 1-350 Poguu',\n",
       "  'telephone': '0507-1309-8461',\n",
       "  'latitude': '36.332223',\n",
       "  'longitude': '127.450338'},\n",
       " {'name': '신선칼국수',\n",
       "  'description': '칼국수, 만두',\n",
       "  'address': '대전 동구 대동 178-4 신선칼국수',\n",
       "  'telephone': '042-335-5252',\n",
       "  'latitude': '36.3303181',\n",
       "  'longitude': '127.4422267'},\n",
       " {'name': '스테이셔너리베이커리',\n",
       "  'description': '베이커리. 맛잇어보임',\n",
       "  'address': '대전 동구 대동 66-14 1층',\n",
       "  'telephone': '010-9554-9738',\n",
       "  'latitude': '36.3312624',\n",
       "  'longitude': '127.443929'},\n",
       " {'name': '낭만커피',\n",
       "  'description': '대동 최고의 카페',\n",
       "  'address': '대전 동구 대동 159-16 1층',\n",
       "  'telephone': '042-346-1010',\n",
       "  'latitude': '36.3286197',\n",
       "  'longitude': '127.4411722'},\n",
       " {'name': '웰빙김밥천국',\n",
       "  'description': '김밥천국이 제일 맛있다',\n",
       "  'address': '대전 동구 대동 192-1',\n",
       "  'telephone': '042-635-8677',\n",
       "  'latitude': '36.3307326',\n",
       "  'longitude': '127.443573'},\n",
       " {'name': '파운드',\n",
       "  'description': '이탈리아음식',\n",
       "  'address': '대전 동구 소제동 299-71 파운드',\n",
       "  'telephone': '070-4449-8381',\n",
       "  'latitude': '36.3366868',\n",
       "  'longitude': '127.4365686'},\n",
       " {'name': '보문산호랭이',\n",
       "  'description': '대흥동 맛집',\n",
       "  'address': '대전 중구 대흥동 147-4',\n",
       "  'telephone': '0507-1328-3805',\n",
       "  'latitude': '36.3268776',\n",
       "  'longitude': '127.4287748'},\n",
       " {'name': '육형제',\n",
       "  'description': '우송대 학생들이 하는 곳이 아닌가 하는 생각',\n",
       "  'address': '대전 동구 자양동 155-3 1층',\n",
       "  'telephone': '010-3996-3549',\n",
       "  'latitude': '36.3381738',\n",
       "  'longitude': '127.4458014'},\n",
       " {'name': 'BHC치킨 대전대동점',\n",
       "  'description': '맛있는 치킨 깨끗한 치킨!',\n",
       "  'address': '대전 동구 대동 180-21',\n",
       "  'telephone': '042-673-1588',\n",
       "  'latitude': '36.3297929',\n",
       "  'longitude': '127.4434516'}]"
      ]
     },
     "execution_count": 16,
     "metadata": {},
     "output_type": "execute_result"
    }
   ],
   "source": [
    "# 순회돌기 가능\n",
    "row_list = []\n",
    "\n",
    "for row in rows[1:]:\n",
    "    if row[0] is None:\n",
    "        break\n",
    "    row_dict = dict(zip(column_names, row))\n",
    "    latitude, longitude = row_dict[\"coordinates\"].split(\",\")\n",
    "    row_dict[\"latitude\"] = latitude\n",
    "    row_dict[\"longitude\"] = longitude\n",
    "    del row_dict['coordinates']\n",
    "    row_list.append(row_dict)\n",
    "\n",
    "row_list"
   ]
  },
  {
   "cell_type": "code",
   "execution_count": 12,
   "id": "391f522a",
   "metadata": {},
   "outputs": [],
   "source": [
    "from delicious.models import Shop"
   ]
  },
  {
   "cell_type": "code",
   "execution_count": 18,
   "id": "393c8573",
   "metadata": {},
   "outputs": [
    {
     "name": "stdout",
     "output_type": "stream",
     "text": [
      "Shop object (1)\n",
      "Shop object (2)\n",
      "Shop object (3)\n",
      "Shop object (4)\n",
      "Shop object (5)\n",
      "Shop object (6)\n",
      "Shop object (7)\n",
      "Shop object (8)\n",
      "Shop object (9)\n",
      "Shop object (10)\n",
      "Shop object (11)\n",
      "Shop object (12)\n",
      "Shop object (13)\n"
     ]
    }
   ],
   "source": [
    "# 한번만 실행하기 \n",
    "for row_dict in row_list:\n",
    "    shop = Shop(**row_dict) # unpack\n",
    "    shop.save()\n",
    "    print(shop) "
   ]
  },
  {
   "cell_type": "code",
   "execution_count": 14,
   "id": "fee06f1f",
   "metadata": {},
   "outputs": [],
   "source": [
    "# 사전을 가지고 Shop model에 \n"
   ]
  },
  {
   "cell_type": "markdown",
   "id": "8926f377",
   "metadata": {},
   "source": [
    "model타입의 새로운 변수는 소문자! 원래는 대문자(클래스라서)"
   ]
  },
  {
   "cell_type": "code",
   "execution_count": null,
   "id": "dbf9def1",
   "metadata": {},
   "outputs": [],
   "source": [
    "# 데이터 정제, 데이터 전처리, data cleaning\n"
   ]
  }
 ],
 "metadata": {
  "kernelspec": {
   "display_name": "Python 3 (ipykernel)",
   "language": "python",
   "name": "python3"
  },
  "language_info": {
   "codemirror_mode": {
    "name": "ipython",
    "version": 3
   },
   "file_extension": ".py",
   "mimetype": "text/x-python",
   "name": "python",
   "nbconvert_exporter": "python",
   "pygments_lexer": "ipython3",
   "version": "3.10.0"
  }
 },
 "nbformat": 4,
 "nbformat_minor": 5
}
