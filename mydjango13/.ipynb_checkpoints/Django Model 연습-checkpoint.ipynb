{
 "cells": [
  {
   "cell_type": "markdown",
   "id": "91106269",
   "metadata": {},
   "source": [
    "# 장고 환경로딩"
   ]
  },
  {
   "cell_type": "code",
   "execution_count": 1,
   "id": "f3ecf5a4",
   "metadata": {},
   "outputs": [],
   "source": [
    "import os\n",
    "os.environ[\"DJANGO_SETTINGS_MODULE\"] = \"mydjango13.settings\"\n",
    "os.environ[\"DJANGO_ALLOW_ASYNC_UNSAFE\"] = \"true\"\n",
    "\n",
    "import django\n",
    "django.setup()"
   ]
  },
  {
   "cell_type": "code",
   "execution_count": 2,
   "id": "5a9a0b2b",
   "metadata": {},
   "outputs": [],
   "source": [
    "from mall.models import Shop"
   ]
  },
  {
   "cell_type": "code",
   "execution_count": 3,
   "id": "04231206",
   "metadata": {},
   "outputs": [
    {
     "name": "stderr",
     "output_type": "stream",
     "text": [
      "(0.000) SELECT \"mall_shop\".\"id\", \"mall_shop\".\"name\", \"mall_shop\".\"description\", \"mall_shop\".\"telephone\", \"mall_shop\".\"photo\", \"mall_shop\".\"created_at\", \"mall_shop\".\"updated_at\" FROM \"mall_shop\" ORDER BY \"mall_shop\".\"id\" DESC LIMIT 21; args=()\n"
     ]
    },
    {
     "data": {
      "text/plain": [
       "<QuerySet [<Shop: Shop object (104)>, <Shop: Shop object (103)>, <Shop: Shop object (102)>, <Shop: Shop object (101)>, <Shop: Shop object (100)>, <Shop: Shop object (99)>, <Shop: Shop object (98)>, <Shop: Shop object (97)>, <Shop: Shop object (96)>, <Shop: Shop object (95)>, <Shop: Shop object (94)>, <Shop: Shop object (93)>, <Shop: Shop object (92)>, <Shop: Shop object (91)>, <Shop: Shop object (90)>, <Shop: Shop object (89)>, <Shop: Shop object (88)>, <Shop: Shop object (87)>, <Shop: Shop object (86)>, <Shop: Shop object (85)>, '...(remaining elements truncated)...']>"
      ]
     },
     "execution_count": 3,
     "metadata": {},
     "output_type": "execute_result"
    }
   ],
   "source": [
    "Shop.objects.all() # 어떤 쿼리가 실행 되는지 좀 더 직관적으로 알 수 있음"
   ]
  },
  {
   "cell_type": "code",
   "execution_count": 4,
   "id": "c5fa6381",
   "metadata": {},
   "outputs": [
    {
     "data": {
      "text/plain": [
       "mall.models.Shop"
      ]
     },
     "execution_count": 4,
     "metadata": {},
     "output_type": "execute_result"
    }
   ],
   "source": [
    "# 주피터 노트북 사용시, 처음부터 순차적으로 실행되어야 함 .\n",
    "Shop"
   ]
  },
  {
   "cell_type": "markdown",
   "id": "c1875aa0",
   "metadata": {},
   "source": [
    "# create\n",
    "\n",
    "   "
   ]
  },
  {
   "cell_type": "code",
   "execution_count": 5,
   "id": "3f4a5e41",
   "metadata": {},
   "outputs": [],
   "source": [
    "shop = Shop()\n",
    "# Shop -> class명 . class명은 보통 첫글자가 대문자임 \n",
    "# FirstShop(O) , first_shop(X) , firstShop(X) , first_Shop(X)\n",
    "\n",
    "shop.name = \"투썸플레이스\"\n",
    "shop.telephone = \"042-1234-1234\"\n",
    "\n"
   ]
  },
  {
   "cell_type": "code",
   "execution_count": 6,
   "id": "8e641207",
   "metadata": {},
   "outputs": [
    {
     "name": "stderr",
     "output_type": "stream",
     "text": [
      "(0.031) INSERT INTO \"mall_shop\" (\"name\", \"description\", \"telephone\", \"photo\", \"created_at\", \"updated_at\") VALUES ('투썸플레이스', '', '042-1234-1234', '', '2021-12-01 06:48:29.437787', '2021-12-01 06:48:29.437787'); args=['투썸플레이스', '', '042-1234-1234', '', '2021-12-01 06:48:29.437787', '2021-12-01 06:48:29.437787']\n"
     ]
    }
   ],
   "source": [
    "shop.save()"
   ]
  },
  {
   "cell_type": "code",
   "execution_count": 7,
   "id": "8dea055f",
   "metadata": {},
   "outputs": [
    {
     "name": "stderr",
     "output_type": "stream",
     "text": [
      "(0.046) INSERT INTO \"mall_shop\" (\"name\", \"description\", \"telephone\", \"photo\", \"created_at\", \"updated_at\") VALUES ('셀프24시빨래방', '', '010-1234-4321', '', '2021-12-01 06:48:29.760364', '2021-12-01 06:48:29.760364'); args=['셀프24시빨래방', '', '010-1234-4321', '', '2021-12-01 06:48:29.760364', '2021-12-01 06:48:29.760364']\n"
     ]
    },
    {
     "data": {
      "text/plain": [
       "<Shop: Shop object (106)>"
      ]
     },
     "execution_count": 7,
     "metadata": {},
     "output_type": "execute_result"
    }
   ],
   "source": [
    "shop = Shop.objects.create(\n",
    "    name=\"셀프24시빨래방\",\n",
    "    telephone=\"010-1234-4321\",\n",
    ")\n",
    "shop"
   ]
  },
  {
   "cell_type": "code",
   "execution_count": null,
   "id": "f698a5cf",
   "metadata": {},
   "outputs": [],
   "source": [
    "\n"
   ]
  },
  {
   "cell_type": "code",
   "execution_count": null,
   "id": "21678af7",
   "metadata": {},
   "outputs": [],
   "source": []
  },
  {
   "cell_type": "markdown",
   "id": "45b93c00",
   "metadata": {},
   "source": [
    "# Select\n"
   ]
  },
  {
   "cell_type": "code",
   "execution_count": 8,
   "id": "ca10790f",
   "metadata": {},
   "outputs": [],
   "source": [
    "qs = Shop.objects.all() # 이렇게 가져오면 데이터 정렬이 안됨 "
   ]
  },
  {
   "cell_type": "code",
   "execution_count": 9,
   "id": "de449896",
   "metadata": {},
   "outputs": [
    {
     "name": "stderr",
     "output_type": "stream",
     "text": [
      "(0.000) SELECT \"mall_shop\".\"id\", \"mall_shop\".\"name\", \"mall_shop\".\"description\", \"mall_shop\".\"telephone\", \"mall_shop\".\"photo\", \"mall_shop\".\"created_at\", \"mall_shop\".\"updated_at\" FROM \"mall_shop\" ORDER BY \"mall_shop\".\"id\" DESC; args=()\n"
     ]
    },
    {
     "name": "stdout",
     "output_type": "stream",
     "text": [
      "106 셀프24시빨래방 010-1234-4321\n",
      "105 투썸플레이스 042-1234-1234\n",
      "104 가게명#100 042-1234-9100\n",
      "103 가게명#99 042-1234-9099\n",
      "102 가게명#98 042-1234-9098\n",
      "101 가게명#97 042-1234-9097\n",
      "100 가게명#96 042-1234-9096\n",
      "99 가게명#95 042-1234-9095\n",
      "98 가게명#94 042-1234-9094\n",
      "97 가게명#93 042-1234-9093\n",
      "96 가게명#92 042-1234-9092\n",
      "95 가게명#91 042-1234-9091\n",
      "94 가게명#90 042-1234-9090\n",
      "93 가게명#89 042-1234-9089\n",
      "92 가게명#88 042-1234-9088\n",
      "91 가게명#87 042-1234-9087\n",
      "90 가게명#86 042-1234-9086\n",
      "89 가게명#85 042-1234-9085\n",
      "88 가게명#84 042-1234-9084\n",
      "87 가게명#83 042-1234-9083\n",
      "86 가게명#82 042-1234-9082\n",
      "85 가게명#81 042-1234-9081\n",
      "84 가게명#80 042-1234-9080\n",
      "83 가게명#79 042-1234-9079\n",
      "82 가게명#78 042-1234-9078\n",
      "81 가게명#77 042-1234-9077\n",
      "80 가게명#76 042-1234-9076\n",
      "79 가게명#75 042-1234-9075\n",
      "78 가게명#74 042-1234-9074\n",
      "77 가게명#73 042-1234-9073\n",
      "76 가게명#72 042-1234-9072\n",
      "75 가게명#71 042-1234-9071\n",
      "74 가게명#70 042-1234-9070\n",
      "73 가게명#69 042-1234-9069\n",
      "72 가게명#68 042-1234-9068\n",
      "71 가게명#67 042-1234-9067\n",
      "70 가게명#66 042-1234-9066\n",
      "69 가게명#65 042-1234-9065\n",
      "68 가게명#64 042-1234-9064\n",
      "67 가게명#63 042-1234-9063\n",
      "66 가게명#62 042-1234-9062\n",
      "65 가게명#61 042-1234-9061\n",
      "64 가게명#60 042-1234-9060\n",
      "63 가게명#59 042-1234-9059\n",
      "62 가게명#58 042-1234-9058\n",
      "61 가게명#57 042-1234-9057\n",
      "60 가게명#56 042-1234-9056\n",
      "59 가게명#55 042-1234-9055\n",
      "58 가게명#54 042-1234-9054\n",
      "57 가게명#53 042-1234-9053\n",
      "56 가게명#52 042-1234-9052\n",
      "55 가게명#51 042-1234-9051\n",
      "54 가게명#50 042-1234-9050\n",
      "53 가게명#49 042-1234-9049\n",
      "52 가게명#48 042-1234-9048\n",
      "51 가게명#47 042-1234-9047\n",
      "50 가게명#46 042-1234-9046\n",
      "49 가게명#45 042-1234-9045\n",
      "48 가게명#44 042-1234-9044\n",
      "47 가게명#43 042-1234-9043\n",
      "46 가게명#42 042-1234-9042\n",
      "45 가게명#41 042-1234-9041\n",
      "44 가게명#40 042-1234-9040\n",
      "43 가게명#39 042-1234-9039\n",
      "42 가게명#38 042-1234-9038\n",
      "41 가게명#37 042-1234-9037\n",
      "40 가게명#36 042-1234-9036\n",
      "39 가게명#35 042-1234-9035\n",
      "38 가게명#34 042-1234-9034\n",
      "37 가게명#33 042-1234-9033\n",
      "36 가게명#32 042-1234-9032\n",
      "35 가게명#31 042-1234-9031\n",
      "34 가게명#30 042-1234-9030\n",
      "33 가게명#29 042-1234-9029\n",
      "32 가게명#28 042-1234-9028\n",
      "31 가게명#27 042-1234-9027\n",
      "30 가게명#26 042-1234-9026\n",
      "29 가게명#25 042-1234-9025\n",
      "28 가게명#24 042-1234-9024\n",
      "27 가게명#23 042-1234-9023\n",
      "26 가게명#22 042-1234-9022\n",
      "25 가게명#21 042-1234-9021\n",
      "24 가게명#20 042-1234-9020\n",
      "23 가게명#19 042-1234-9019\n",
      "22 가게명#18 042-1234-9018\n",
      "21 가게명#17 042-1234-9017\n",
      "20 가게명#16 042-1234-9016\n",
      "19 가게명#15 042-1234-9015\n",
      "18 가게명#14 042-1234-9014\n",
      "17 가게명#13 042-1234-9013\n",
      "16 가게명#12 042-1234-9012\n",
      "15 가게명#11 042-1234-9011\n",
      "14 가게명#10 042-1234-9010\n",
      "13 가게명#9 042-1234-9009\n",
      "12 가게명#8 042-1234-9008\n",
      "11 가게명#7 042-1234-9007\n",
      "10 가게명#6 042-1234-9006\n",
      "9 가게명#5 042-1234-9005\n",
      "8 가게명#4 042-1234-9004\n",
      "7 가게명#3 042-1234-9003\n",
      "6 가게명#2 042-1234-9002\n",
      "5 가게명#1 042-1234-9001\n",
      "4 셀프24시빨래방 010-1234-4321\n",
      "3 투썸플레이스 042-1234-1234\n",
      "2 셀프24시빨래방 010-1234-4321\n",
      "1 투썸플레이스 042-1234-1234\n"
     ]
    }
   ],
   "source": [
    "for shop in qs:\n",
    "    print(shop.pk, shop.name, shop.telephone)"
   ]
  },
  {
   "cell_type": "code",
   "execution_count": 10,
   "id": "a03a0600",
   "metadata": {},
   "outputs": [
    {
     "name": "stderr",
     "output_type": "stream",
     "text": [
      "(0.000) SELECT \"mall_shop\".\"id\", \"mall_shop\".\"name\", \"mall_shop\".\"description\", \"mall_shop\".\"telephone\", \"mall_shop\".\"photo\", \"mall_shop\".\"created_at\", \"mall_shop\".\"updated_at\" FROM \"mall_shop\" ORDER BY \"mall_shop\".\"id\" ASC LIMIT 21; args=()\n"
     ]
    },
    {
     "data": {
      "text/plain": [
       "<QuerySet [<Shop: Shop object (1)>, <Shop: Shop object (2)>, <Shop: Shop object (3)>, <Shop: Shop object (4)>, <Shop: Shop object (5)>, <Shop: Shop object (6)>, <Shop: Shop object (7)>, <Shop: Shop object (8)>, <Shop: Shop object (9)>, <Shop: Shop object (10)>, <Shop: Shop object (11)>, <Shop: Shop object (12)>, <Shop: Shop object (13)>, <Shop: Shop object (14)>, <Shop: Shop object (15)>, <Shop: Shop object (16)>, <Shop: Shop object (17)>, <Shop: Shop object (18)>, <Shop: Shop object (19)>, <Shop: Shop object (20)>, '...(remaining elements truncated)...']>"
      ]
     },
     "execution_count": 10,
     "metadata": {},
     "output_type": "execute_result"
    }
   ],
   "source": [
    "qs.order_by(\"id\") # id에 ASC 오름차순 정렬 \n"
   ]
  },
  {
   "cell_type": "code",
   "execution_count": 11,
   "id": "37dae5b1",
   "metadata": {},
   "outputs": [
    {
     "name": "stderr",
     "output_type": "stream",
     "text": [
      "(0.000) SELECT \"mall_shop\".\"id\", \"mall_shop\".\"name\", \"mall_shop\".\"description\", \"mall_shop\".\"telephone\", \"mall_shop\".\"photo\", \"mall_shop\".\"created_at\", \"mall_shop\".\"updated_at\" FROM \"mall_shop\" ORDER BY \"mall_shop\".\"id\" DESC LIMIT 21; args=()\n"
     ]
    },
    {
     "data": {
      "text/plain": [
       "<QuerySet [<Shop: Shop object (106)>, <Shop: Shop object (105)>, <Shop: Shop object (104)>, <Shop: Shop object (103)>, <Shop: Shop object (102)>, <Shop: Shop object (101)>, <Shop: Shop object (100)>, <Shop: Shop object (99)>, <Shop: Shop object (98)>, <Shop: Shop object (97)>, <Shop: Shop object (96)>, <Shop: Shop object (95)>, <Shop: Shop object (94)>, <Shop: Shop object (93)>, <Shop: Shop object (92)>, <Shop: Shop object (91)>, <Shop: Shop object (90)>, <Shop: Shop object (89)>, <Shop: Shop object (88)>, <Shop: Shop object (87)>, '...(remaining elements truncated)...']>"
      ]
     },
     "execution_count": 11,
     "metadata": {},
     "output_type": "execute_result"
    }
   ],
   "source": [
    "qs.order_by(\"-id\") # id에 DESC 내림차순 정렬 \n"
   ]
  },
  {
   "cell_type": "code",
   "execution_count": 12,
   "id": "8addc93b",
   "metadata": {},
   "outputs": [
    {
     "name": "stderr",
     "output_type": "stream",
     "text": [
      "(0.000) SELECT \"mall_shop\".\"id\", \"mall_shop\".\"name\", \"mall_shop\".\"description\", \"mall_shop\".\"telephone\", \"mall_shop\".\"photo\", \"mall_shop\".\"created_at\", \"mall_shop\".\"updated_at\" FROM \"mall_shop\" ORDER BY \"mall_shop\".\"id\" DESC, \"mall_shop\".\"created_at\" ASC LIMIT 21; args=()\n"
     ]
    },
    {
     "data": {
      "text/plain": [
       "<QuerySet [<Shop: Shop object (106)>, <Shop: Shop object (105)>, <Shop: Shop object (104)>, <Shop: Shop object (103)>, <Shop: Shop object (102)>, <Shop: Shop object (101)>, <Shop: Shop object (100)>, <Shop: Shop object (99)>, <Shop: Shop object (98)>, <Shop: Shop object (97)>, <Shop: Shop object (96)>, <Shop: Shop object (95)>, <Shop: Shop object (94)>, <Shop: Shop object (93)>, <Shop: Shop object (92)>, <Shop: Shop object (91)>, <Shop: Shop object (90)>, <Shop: Shop object (89)>, <Shop: Shop object (88)>, <Shop: Shop object (87)>, '...(remaining elements truncated)...']>"
      ]
     },
     "execution_count": 12,
     "metadata": {},
     "output_type": "execute_result"
    }
   ],
   "source": [
    "qs.order_by(\"-id\",'created_at')  #2차 기준값이 created_at\n",
    "# 근데 일반적으로 한개의 컬럼을 기준으로만 정렬하는 것이 더 성능이 좋음\n",
    "# 정렬은 가급적 단일 컬럼 기준으로 ~"
   ]
  },
  {
   "cell_type": "code",
   "execution_count": null,
   "id": "dc9f3766",
   "metadata": {},
   "outputs": [],
   "source": [
    "# 정렬을 쓰면 뭐가 좋낭? \n"
   ]
  },
  {
   "cell_type": "markdown",
   "id": "66a5f959",
   "metadata": {},
   "source": [
    "# Delete Rows"
   ]
  },
  {
   "cell_type": "code",
   "execution_count": null,
   "id": "f51df617",
   "metadata": {},
   "outputs": [],
   "source": [
    "# qs = Shop.objects.all()"
   ]
  },
  {
   "cell_type": "code",
   "execution_count": null,
   "id": "2909593c",
   "metadata": {},
   "outputs": [],
   "source": [
    "# qs.delete()\n",
    "#근데 전체삭제는 위험해 ~ 항상 조심 "
   ]
  },
  {
   "cell_type": "code",
   "execution_count": null,
   "id": "59a15c4e",
   "metadata": {},
   "outputs": [],
   "source": []
  },
  {
   "cell_type": "code",
   "execution_count": null,
   "id": "eb290eb1",
   "metadata": {},
   "outputs": [],
   "source": []
  },
  {
   "cell_type": "markdown",
   "id": "ef4690b9",
   "metadata": {},
   "source": [
    "# 데이터 뻥튀기\n"
   ]
  },
  {
   "cell_type": "code",
   "execution_count": 13,
   "id": "b1caff5a",
   "metadata": {
    "collapsed": true
   },
   "outputs": [
    {
     "name": "stdout",
     "output_type": "stream",
     "text": [
      "가게명#1 042-1234-9001\n"
     ]
    },
    {
     "name": "stderr",
     "output_type": "stream",
     "text": [
      "(0.015) INSERT INTO \"mall_shop\" (\"name\", \"description\", \"telephone\", \"photo\", \"created_at\", \"updated_at\") VALUES ('가게명#1', '', '042-1234-9001', '', '2021-12-01 06:48:38.585344', '2021-12-01 06:48:38.585344'); args=['가게명#1', '', '042-1234-9001', '', '2021-12-01 06:48:38.585344', '2021-12-01 06:48:38.585344']\n"
     ]
    },
    {
     "name": "stdout",
     "output_type": "stream",
     "text": [
      "가게명#2 042-1234-9002\n"
     ]
    },
    {
     "name": "stderr",
     "output_type": "stream",
     "text": [
      "(0.016) INSERT INTO \"mall_shop\" (\"name\", \"description\", \"telephone\", \"photo\", \"created_at\", \"updated_at\") VALUES ('가게명#2', '', '042-1234-9002', '', '2021-12-01 06:48:38.601282', '2021-12-01 06:48:38.601282'); args=['가게명#2', '', '042-1234-9002', '', '2021-12-01 06:48:38.601282', '2021-12-01 06:48:38.601282']\n"
     ]
    },
    {
     "name": "stdout",
     "output_type": "stream",
     "text": [
      "가게명#3 042-1234-9003\n"
     ]
    },
    {
     "name": "stderr",
     "output_type": "stream",
     "text": [
      "(0.000) INSERT INTO \"mall_shop\" (\"name\", \"description\", \"telephone\", \"photo\", \"created_at\", \"updated_at\") VALUES ('가게명#3', '', '042-1234-9003', '', '2021-12-01 06:48:38.608263', '2021-12-01 06:48:38.608263'); args=['가게명#3', '', '042-1234-9003', '', '2021-12-01 06:48:38.608263', '2021-12-01 06:48:38.608263']\n"
     ]
    },
    {
     "name": "stdout",
     "output_type": "stream",
     "text": [
      "가게명#4 042-1234-9004\n"
     ]
    },
    {
     "name": "stderr",
     "output_type": "stream",
     "text": [
      "(0.016) INSERT INTO \"mall_shop\" (\"name\", \"description\", \"telephone\", \"photo\", \"created_at\", \"updated_at\") VALUES ('가게명#4', '', '042-1234-9004', '', '2021-12-01 06:48:38.617240', '2021-12-01 06:48:38.617240'); args=['가게명#4', '', '042-1234-9004', '', '2021-12-01 06:48:38.617240', '2021-12-01 06:48:38.617240']\n"
     ]
    },
    {
     "name": "stdout",
     "output_type": "stream",
     "text": [
      "가게명#5 042-1234-9005\n"
     ]
    },
    {
     "name": "stderr",
     "output_type": "stream",
     "text": [
      "(0.031) INSERT INTO \"mall_shop\" (\"name\", \"description\", \"telephone\", \"photo\", \"created_at\", \"updated_at\") VALUES ('가게명#5', '', '042-1234-9005', '', '2021-12-01 06:48:38.626265', '2021-12-01 06:48:38.626265'); args=['가게명#5', '', '042-1234-9005', '', '2021-12-01 06:48:38.626265', '2021-12-01 06:48:38.626265']\n"
     ]
    },
    {
     "name": "stdout",
     "output_type": "stream",
     "text": [
      "가게명#6 042-1234-9006\n"
     ]
    },
    {
     "name": "stderr",
     "output_type": "stream",
     "text": [
      "(0.015) INSERT INTO \"mall_shop\" (\"name\", \"description\", \"telephone\", \"photo\", \"created_at\", \"updated_at\") VALUES ('가게명#6', '', '042-1234-9006', '', '2021-12-01 06:48:38.654289', '2021-12-01 06:48:38.654289'); args=['가게명#6', '', '042-1234-9006', '', '2021-12-01 06:48:38.654289', '2021-12-01 06:48:38.654289']\n"
     ]
    },
    {
     "name": "stdout",
     "output_type": "stream",
     "text": [
      "가게명#7 042-1234-9007\n"
     ]
    },
    {
     "name": "stderr",
     "output_type": "stream",
     "text": [
      "(0.000) INSERT INTO \"mall_shop\" (\"name\", \"description\", \"telephone\", \"photo\", \"created_at\", \"updated_at\") VALUES ('가게명#7', '', '042-1234-9007', '', '2021-12-01 06:48:38.683266', '2021-12-01 06:48:38.683266'); args=['가게명#7', '', '042-1234-9007', '', '2021-12-01 06:48:38.683266', '2021-12-01 06:48:38.683266']\n"
     ]
    },
    {
     "name": "stdout",
     "output_type": "stream",
     "text": [
      "가게명#8 042-1234-9008\n"
     ]
    },
    {
     "name": "stderr",
     "output_type": "stream",
     "text": [
      "(0.000) INSERT INTO \"mall_shop\" (\"name\", \"description\", \"telephone\", \"photo\", \"created_at\", \"updated_at\") VALUES ('가게명#8', '', '042-1234-9008', '', '2021-12-01 06:48:38.690248', '2021-12-01 06:48:38.690248'); args=['가게명#8', '', '042-1234-9008', '', '2021-12-01 06:48:38.690248', '2021-12-01 06:48:38.690248']\n"
     ]
    },
    {
     "name": "stdout",
     "output_type": "stream",
     "text": [
      "가게명#9 042-1234-9009\n"
     ]
    },
    {
     "name": "stderr",
     "output_type": "stream",
     "text": [
      "(0.000) INSERT INTO \"mall_shop\" (\"name\", \"description\", \"telephone\", \"photo\", \"created_at\", \"updated_at\") VALUES ('가게명#9', '', '042-1234-9009', '', '2021-12-01 06:48:38.703214', '2021-12-01 06:48:38.703214'); args=['가게명#9', '', '042-1234-9009', '', '2021-12-01 06:48:38.703214', '2021-12-01 06:48:38.703214']\n"
     ]
    },
    {
     "name": "stdout",
     "output_type": "stream",
     "text": [
      "가게명#10 042-1234-9010\n"
     ]
    },
    {
     "name": "stderr",
     "output_type": "stream",
     "text": [
      "(0.015) INSERT INTO \"mall_shop\" (\"name\", \"description\", \"telephone\", \"photo\", \"created_at\", \"updated_at\") VALUES ('가게명#10', '', '042-1234-9010', '', '2021-12-01 06:48:38.713185', '2021-12-01 06:48:38.713185'); args=['가게명#10', '', '042-1234-9010', '', '2021-12-01 06:48:38.713185', '2021-12-01 06:48:38.713185']\n"
     ]
    },
    {
     "name": "stdout",
     "output_type": "stream",
     "text": [
      "가게명#11 042-1234-9011\n"
     ]
    },
    {
     "name": "stderr",
     "output_type": "stream",
     "text": [
      "(0.016) INSERT INTO \"mall_shop\" (\"name\", \"description\", \"telephone\", \"photo\", \"created_at\", \"updated_at\") VALUES ('가게명#11', '', '042-1234-9011', '', '2021-12-01 06:48:38.722162', '2021-12-01 06:48:38.722162'); args=['가게명#11', '', '042-1234-9011', '', '2021-12-01 06:48:38.722162', '2021-12-01 06:48:38.722162']\n"
     ]
    },
    {
     "name": "stdout",
     "output_type": "stream",
     "text": [
      "가게명#12 042-1234-9012\n"
     ]
    },
    {
     "name": "stderr",
     "output_type": "stream",
     "text": [
      "(0.016) INSERT INTO \"mall_shop\" (\"name\", \"description\", \"telephone\", \"photo\", \"created_at\", \"updated_at\") VALUES ('가게명#12', '', '042-1234-9012', '', '2021-12-01 06:48:38.744106', '2021-12-01 06:48:38.744106'); args=['가게명#12', '', '042-1234-9012', '', '2021-12-01 06:48:38.744106', '2021-12-01 06:48:38.744106']\n"
     ]
    },
    {
     "name": "stdout",
     "output_type": "stream",
     "text": [
      "가게명#13 042-1234-9013\n"
     ]
    },
    {
     "name": "stderr",
     "output_type": "stream",
     "text": [
      "(0.031) INSERT INTO \"mall_shop\" (\"name\", \"description\", \"telephone\", \"photo\", \"created_at\", \"updated_at\") VALUES ('가게명#13', '', '042-1234-9013', '', '2021-12-01 06:48:38.755073', '2021-12-01 06:48:38.755073'); args=['가게명#13', '', '042-1234-9013', '', '2021-12-01 06:48:38.755073', '2021-12-01 06:48:38.755073']\n"
     ]
    },
    {
     "name": "stdout",
     "output_type": "stream",
     "text": [
      "가게명#14 042-1234-9014\n"
     ]
    },
    {
     "name": "stderr",
     "output_type": "stream",
     "text": [
      "(0.000) INSERT INTO \"mall_shop\" (\"name\", \"description\", \"telephone\", \"photo\", \"created_at\", \"updated_at\") VALUES ('가게명#14', '', '042-1234-9014', '', '2021-12-01 06:48:38.783287', '2021-12-01 06:48:38.783287'); args=['가게명#14', '', '042-1234-9014', '', '2021-12-01 06:48:38.783287', '2021-12-01 06:48:38.783287']\n"
     ]
    },
    {
     "name": "stdout",
     "output_type": "stream",
     "text": [
      "가게명#15 042-1234-9015\n"
     ]
    },
    {
     "name": "stderr",
     "output_type": "stream",
     "text": [
      "(0.015) INSERT INTO \"mall_shop\" (\"name\", \"description\", \"telephone\", \"photo\", \"created_at\", \"updated_at\") VALUES ('가게명#15', '', '042-1234-9015', '', '2021-12-01 06:48:38.791264', '2021-12-01 06:48:38.791264'); args=['가게명#15', '', '042-1234-9015', '', '2021-12-01 06:48:38.791264', '2021-12-01 06:48:38.791264']\n"
     ]
    },
    {
     "name": "stdout",
     "output_type": "stream",
     "text": [
      "가게명#16 042-1234-9016\n"
     ]
    },
    {
     "name": "stderr",
     "output_type": "stream",
     "text": [
      "(0.000) INSERT INTO \"mall_shop\" (\"name\", \"description\", \"telephone\", \"photo\", \"created_at\", \"updated_at\") VALUES ('가게명#16', '', '042-1234-9016', '', '2021-12-01 06:48:38.799249', '2021-12-01 06:48:38.799249'); args=['가게명#16', '', '042-1234-9016', '', '2021-12-01 06:48:38.799249', '2021-12-01 06:48:38.799249']\n"
     ]
    },
    {
     "name": "stdout",
     "output_type": "stream",
     "text": [
      "가게명#17 042-1234-9017\n"
     ]
    },
    {
     "name": "stderr",
     "output_type": "stream",
     "text": [
      "(0.000) INSERT INTO \"mall_shop\" (\"name\", \"description\", \"telephone\", \"photo\", \"created_at\", \"updated_at\") VALUES ('가게명#17', '', '042-1234-9017', '', '2021-12-01 06:48:38.808220', '2021-12-01 06:48:38.808220'); args=['가게명#17', '', '042-1234-9017', '', '2021-12-01 06:48:38.808220', '2021-12-01 06:48:38.808220']\n"
     ]
    },
    {
     "name": "stdout",
     "output_type": "stream",
     "text": [
      "가게명#18 042-1234-9018\n"
     ]
    },
    {
     "name": "stderr",
     "output_type": "stream",
     "text": [
      "(0.016) INSERT INTO \"mall_shop\" (\"name\", \"description\", \"telephone\", \"photo\", \"created_at\", \"updated_at\") VALUES ('가게명#18', '', '042-1234-9018', '', '2021-12-01 06:48:38.817196', '2021-12-01 06:48:38.817196'); args=['가게명#18', '', '042-1234-9018', '', '2021-12-01 06:48:38.817196', '2021-12-01 06:48:38.817196']\n"
     ]
    },
    {
     "name": "stdout",
     "output_type": "stream",
     "text": [
      "가게명#19 042-1234-9019\n"
     ]
    },
    {
     "name": "stderr",
     "output_type": "stream",
     "text": [
      "(0.000) INSERT INTO \"mall_shop\" (\"name\", \"description\", \"telephone\", \"photo\", \"created_at\", \"updated_at\") VALUES ('가게명#19', '', '042-1234-9019', '', '2021-12-01 06:48:38.830201', '2021-12-01 06:48:38.830201'); args=['가게명#19', '', '042-1234-9019', '', '2021-12-01 06:48:38.830201', '2021-12-01 06:48:38.830201']\n"
     ]
    },
    {
     "name": "stdout",
     "output_type": "stream",
     "text": [
      "가게명#20 042-1234-9020\n"
     ]
    },
    {
     "name": "stderr",
     "output_type": "stream",
     "text": [
      "(0.015) INSERT INTO \"mall_shop\" (\"name\", \"description\", \"telephone\", \"photo\", \"created_at\", \"updated_at\") VALUES ('가게명#20', '', '042-1234-9020', '', '2021-12-01 06:48:38.838181', '2021-12-01 06:48:38.838181'); args=['가게명#20', '', '042-1234-9020', '', '2021-12-01 06:48:38.838181', '2021-12-01 06:48:38.838181']\n"
     ]
    },
    {
     "name": "stdout",
     "output_type": "stream",
     "text": [
      "가게명#21 042-1234-9021\n"
     ]
    },
    {
     "name": "stderr",
     "output_type": "stream",
     "text": [
      "(0.000) INSERT INTO \"mall_shop\" (\"name\", \"description\", \"telephone\", \"photo\", \"created_at\", \"updated_at\") VALUES ('가게명#21', '', '042-1234-9021', '', '2021-12-01 06:48:38.847154', '2021-12-01 06:48:38.847154'); args=['가게명#21', '', '042-1234-9021', '', '2021-12-01 06:48:38.847154', '2021-12-01 06:48:38.847154']\n"
     ]
    },
    {
     "name": "stdout",
     "output_type": "stream",
     "text": [
      "가게명#22 042-1234-9022\n"
     ]
    },
    {
     "name": "stderr",
     "output_type": "stream",
     "text": [
      "(0.000) INSERT INTO \"mall_shop\" (\"name\", \"description\", \"telephone\", \"photo\", \"created_at\", \"updated_at\") VALUES ('가게명#22', '', '042-1234-9022', '', '2021-12-01 06:48:38.856129', '2021-12-01 06:48:38.856129'); args=['가게명#22', '', '042-1234-9022', '', '2021-12-01 06:48:38.856129', '2021-12-01 06:48:38.856129']\n"
     ]
    },
    {
     "name": "stdout",
     "output_type": "stream",
     "text": [
      "가게명#23 042-1234-9023\n"
     ]
    },
    {
     "name": "stderr",
     "output_type": "stream",
     "text": [
      "(0.000) INSERT INTO \"mall_shop\" (\"name\", \"description\", \"telephone\", \"photo\", \"created_at\", \"updated_at\") VALUES ('가게명#23', '', '042-1234-9023', '', '2021-12-01 06:48:38.865107', '2021-12-01 06:48:38.865107'); args=['가게명#23', '', '042-1234-9023', '', '2021-12-01 06:48:38.865107', '2021-12-01 06:48:38.865107']\n"
     ]
    },
    {
     "name": "stdout",
     "output_type": "stream",
     "text": [
      "가게명#24 042-1234-9024\n"
     ]
    },
    {
     "name": "stderr",
     "output_type": "stream",
     "text": [
      "(0.000) INSERT INTO \"mall_shop\" (\"name\", \"description\", \"telephone\", \"photo\", \"created_at\", \"updated_at\") VALUES ('가게명#24', '', '042-1234-9024', '', '2021-12-01 06:48:38.872088', '2021-12-01 06:48:38.872088'); args=['가게명#24', '', '042-1234-9024', '', '2021-12-01 06:48:38.872088', '2021-12-01 06:48:38.872088']\n"
     ]
    },
    {
     "name": "stdout",
     "output_type": "stream",
     "text": [
      "가게명#25 042-1234-9025\n"
     ]
    },
    {
     "name": "stderr",
     "output_type": "stream",
     "text": [
      "(0.015) INSERT INTO \"mall_shop\" (\"name\", \"description\", \"telephone\", \"photo\", \"created_at\", \"updated_at\") VALUES ('가게명#25', '', '042-1234-9025', '', '2021-12-01 06:48:38.881080', '2021-12-01 06:48:38.882062'); args=['가게명#25', '', '042-1234-9025', '', '2021-12-01 06:48:38.881080', '2021-12-01 06:48:38.882062']\n"
     ]
    },
    {
     "name": "stdout",
     "output_type": "stream",
     "text": [
      "가게명#26 042-1234-9026\n"
     ]
    },
    {
     "name": "stderr",
     "output_type": "stream",
     "text": [
      "(0.000) INSERT INTO \"mall_shop\" (\"name\", \"description\", \"telephone\", \"photo\", \"created_at\", \"updated_at\") VALUES ('가게명#26', '', '042-1234-9026', '', '2021-12-01 06:48:38.889042', '2021-12-01 06:48:38.889042'); args=['가게명#26', '', '042-1234-9026', '', '2021-12-01 06:48:38.889042', '2021-12-01 06:48:38.889042']\n"
     ]
    },
    {
     "name": "stdout",
     "output_type": "stream",
     "text": [
      "가게명#27 042-1234-9027\n"
     ]
    },
    {
     "name": "stderr",
     "output_type": "stream",
     "text": [
      "(0.016) INSERT INTO \"mall_shop\" (\"name\", \"description\", \"telephone\", \"photo\", \"created_at\", \"updated_at\") VALUES ('가게명#27', '', '042-1234-9027', '', '2021-12-01 06:48:38.897021', '2021-12-01 06:48:38.897021'); args=['가게명#27', '', '042-1234-9027', '', '2021-12-01 06:48:38.897021', '2021-12-01 06:48:38.897021']\n"
     ]
    },
    {
     "name": "stdout",
     "output_type": "stream",
     "text": [
      "가게명#28 042-1234-9028\n"
     ]
    },
    {
     "name": "stderr",
     "output_type": "stream",
     "text": [
      "(0.000) INSERT INTO \"mall_shop\" (\"name\", \"description\", \"telephone\", \"photo\", \"created_at\", \"updated_at\") VALUES ('가게명#28', '', '042-1234-9028', '', '2021-12-01 06:48:38.904001', '2021-12-01 06:48:38.904001'); args=['가게명#28', '', '042-1234-9028', '', '2021-12-01 06:48:38.904001', '2021-12-01 06:48:38.904001']\n"
     ]
    },
    {
     "name": "stdout",
     "output_type": "stream",
     "text": [
      "가게명#29 042-1234-9029\n"
     ]
    },
    {
     "name": "stderr",
     "output_type": "stream",
     "text": [
      "(0.015) INSERT INTO \"mall_shop\" (\"name\", \"description\", \"telephone\", \"photo\", \"created_at\", \"updated_at\") VALUES ('가게명#29', '', '042-1234-9029', '', '2021-12-01 06:48:38.912980', '2021-12-01 06:48:38.912980'); args=['가게명#29', '', '042-1234-9029', '', '2021-12-01 06:48:38.912980', '2021-12-01 06:48:38.912980']\n"
     ]
    },
    {
     "name": "stdout",
     "output_type": "stream",
     "text": [
      "가게명#30 042-1234-9030\n"
     ]
    },
    {
     "name": "stderr",
     "output_type": "stream",
     "text": [
      "(0.000) INSERT INTO \"mall_shop\" (\"name\", \"description\", \"telephone\", \"photo\", \"created_at\", \"updated_at\") VALUES ('가게명#30', '', '042-1234-9030', '', '2021-12-01 06:48:38.919958', '2021-12-01 06:48:38.920956'); args=['가게명#30', '', '042-1234-9030', '', '2021-12-01 06:48:38.919958', '2021-12-01 06:48:38.920956']\n"
     ]
    },
    {
     "name": "stdout",
     "output_type": "stream",
     "text": [
      "가게명#31 042-1234-9031\n"
     ]
    },
    {
     "name": "stderr",
     "output_type": "stream",
     "text": [
      "(0.016) INSERT INTO \"mall_shop\" (\"name\", \"description\", \"telephone\", \"photo\", \"created_at\", \"updated_at\") VALUES ('가게명#31', '', '042-1234-9031', '', '2021-12-01 06:48:38.927937', '2021-12-01 06:48:38.927937'); args=['가게명#31', '', '042-1234-9031', '', '2021-12-01 06:48:38.927937', '2021-12-01 06:48:38.927937']\n"
     ]
    },
    {
     "name": "stdout",
     "output_type": "stream",
     "text": [
      "가게명#32 042-1234-9032\n"
     ]
    },
    {
     "name": "stderr",
     "output_type": "stream",
     "text": [
      "(0.000) INSERT INTO \"mall_shop\" (\"name\", \"description\", \"telephone\", \"photo\", \"created_at\", \"updated_at\") VALUES ('가게명#32', '', '042-1234-9032', '', '2021-12-01 06:48:38.936912', '2021-12-01 06:48:38.936912'); args=['가게명#32', '', '042-1234-9032', '', '2021-12-01 06:48:38.936912', '2021-12-01 06:48:38.936912']\n"
     ]
    },
    {
     "name": "stdout",
     "output_type": "stream",
     "text": [
      "가게명#33 042-1234-9033\n"
     ]
    },
    {
     "name": "stderr",
     "output_type": "stream",
     "text": [
      "(0.016) INSERT INTO \"mall_shop\" (\"name\", \"description\", \"telephone\", \"photo\", \"created_at\", \"updated_at\") VALUES ('가게명#33', '', '042-1234-9033', '', '2021-12-01 06:48:38.944892', '2021-12-01 06:48:38.944892'); args=['가게명#33', '', '042-1234-9033', '', '2021-12-01 06:48:38.944892', '2021-12-01 06:48:38.944892']\n"
     ]
    },
    {
     "name": "stdout",
     "output_type": "stream",
     "text": [
      "가게명#34 042-1234-9034\n"
     ]
    },
    {
     "name": "stderr",
     "output_type": "stream",
     "text": [
      "(0.000) INSERT INTO \"mall_shop\" (\"name\", \"description\", \"telephone\", \"photo\", \"created_at\", \"updated_at\") VALUES ('가게명#34', '', '042-1234-9034', '', '2021-12-01 06:48:38.952202', '2021-12-01 06:48:38.953201'); args=['가게명#34', '', '042-1234-9034', '', '2021-12-01 06:48:38.952202', '2021-12-01 06:48:38.953201']\n"
     ]
    },
    {
     "name": "stdout",
     "output_type": "stream",
     "text": [
      "가게명#35 042-1234-9035\n"
     ]
    },
    {
     "name": "stderr",
     "output_type": "stream",
     "text": [
      "(0.015) INSERT INTO \"mall_shop\" (\"name\", \"description\", \"telephone\", \"photo\", \"created_at\", \"updated_at\") VALUES ('가게명#35', '', '042-1234-9035', '', '2021-12-01 06:48:38.962176', '2021-12-01 06:48:38.962176'); args=['가게명#35', '', '042-1234-9035', '', '2021-12-01 06:48:38.962176', '2021-12-01 06:48:38.962176']\n"
     ]
    },
    {
     "name": "stdout",
     "output_type": "stream",
     "text": [
      "가게명#36 042-1234-9036\n"
     ]
    },
    {
     "name": "stderr",
     "output_type": "stream",
     "text": [
      "(0.000) INSERT INTO \"mall_shop\" (\"name\", \"description\", \"telephone\", \"photo\", \"created_at\", \"updated_at\") VALUES ('가게명#36', '', '042-1234-9036', '', '2021-12-01 06:48:38.970155', '2021-12-01 06:48:38.970155'); args=['가게명#36', '', '042-1234-9036', '', '2021-12-01 06:48:38.970155', '2021-12-01 06:48:38.970155']\n"
     ]
    },
    {
     "name": "stdout",
     "output_type": "stream",
     "text": [
      "가게명#37 042-1234-9037\n"
     ]
    },
    {
     "name": "stderr",
     "output_type": "stream",
     "text": [
      "(0.016) INSERT INTO \"mall_shop\" (\"name\", \"description\", \"telephone\", \"photo\", \"created_at\", \"updated_at\") VALUES ('가게명#37', '', '042-1234-9037', '', '2021-12-01 06:48:38.977142', '2021-12-01 06:48:38.977142'); args=['가게명#37', '', '042-1234-9037', '', '2021-12-01 06:48:38.977142', '2021-12-01 06:48:38.977142']\n"
     ]
    },
    {
     "name": "stdout",
     "output_type": "stream",
     "text": [
      "가게명#38 042-1234-9038\n"
     ]
    },
    {
     "name": "stderr",
     "output_type": "stream",
     "text": [
      "(0.000) INSERT INTO \"mall_shop\" (\"name\", \"description\", \"telephone\", \"photo\", \"created_at\", \"updated_at\") VALUES ('가게명#38', '', '042-1234-9038', '', '2021-12-01 06:48:38.988558', '2021-12-01 06:48:38.988558'); args=['가게명#38', '', '042-1234-9038', '', '2021-12-01 06:48:38.988558', '2021-12-01 06:48:38.988558']\n"
     ]
    },
    {
     "name": "stdout",
     "output_type": "stream",
     "text": [
      "가게명#39 042-1234-9039\n"
     ]
    },
    {
     "name": "stderr",
     "output_type": "stream",
     "text": [
      "(0.000) INSERT INTO \"mall_shop\" (\"name\", \"description\", \"telephone\", \"photo\", \"created_at\", \"updated_at\") VALUES ('가게명#39', '', '042-1234-9039', '', '2021-12-01 06:48:38.997535', '2021-12-01 06:48:38.997535'); args=['가게명#39', '', '042-1234-9039', '', '2021-12-01 06:48:38.997535', '2021-12-01 06:48:38.997535']\n"
     ]
    },
    {
     "name": "stdout",
     "output_type": "stream",
     "text": [
      "가게명#40 042-1234-9040\n"
     ]
    },
    {
     "name": "stderr",
     "output_type": "stream",
     "text": [
      "(0.000) INSERT INTO \"mall_shop\" (\"name\", \"description\", \"telephone\", \"photo\", \"created_at\", \"updated_at\") VALUES ('가게명#40', '', '042-1234-9040', '', '2021-12-01 06:48:39.004516', '2021-12-01 06:48:39.004516'); args=['가게명#40', '', '042-1234-9040', '', '2021-12-01 06:48:39.004516', '2021-12-01 06:48:39.004516']\n"
     ]
    },
    {
     "name": "stdout",
     "output_type": "stream",
     "text": [
      "가게명#41 042-1234-9041\n"
     ]
    },
    {
     "name": "stderr",
     "output_type": "stream",
     "text": [
      "(0.000) INSERT INTO \"mall_shop\" (\"name\", \"description\", \"telephone\", \"photo\", \"created_at\", \"updated_at\") VALUES ('가게명#41', '', '042-1234-9041', '', '2021-12-01 06:48:39.012495', '2021-12-01 06:48:39.012495'); args=['가게명#41', '', '042-1234-9041', '', '2021-12-01 06:48:39.012495', '2021-12-01 06:48:39.012495']\n"
     ]
    },
    {
     "name": "stdout",
     "output_type": "stream",
     "text": [
      "가게명#42 042-1234-9042\n"
     ]
    },
    {
     "name": "stderr",
     "output_type": "stream",
     "text": [
      "(0.000) INSERT INTO \"mall_shop\" (\"name\", \"description\", \"telephone\", \"photo\", \"created_at\", \"updated_at\") VALUES ('가게명#42', '', '042-1234-9042', '', '2021-12-01 06:48:39.020304', '2021-12-01 06:48:39.020304'); args=['가게명#42', '', '042-1234-9042', '', '2021-12-01 06:48:39.020304', '2021-12-01 06:48:39.020304']\n"
     ]
    },
    {
     "name": "stdout",
     "output_type": "stream",
     "text": [
      "가게명#43 042-1234-9043\n"
     ]
    },
    {
     "name": "stderr",
     "output_type": "stream",
     "text": [
      "(0.000) INSERT INTO \"mall_shop\" (\"name\", \"description\", \"telephone\", \"photo\", \"created_at\", \"updated_at\") VALUES ('가게명#43', '', '042-1234-9043', '', '2021-12-01 06:48:39.029282', '2021-12-01 06:48:39.029282'); args=['가게명#43', '', '042-1234-9043', '', '2021-12-01 06:48:39.029282', '2021-12-01 06:48:39.029282']\n"
     ]
    },
    {
     "name": "stdout",
     "output_type": "stream",
     "text": [
      "가게명#44 042-1234-9044\n"
     ]
    },
    {
     "name": "stderr",
     "output_type": "stream",
     "text": [
      "(0.015) INSERT INTO \"mall_shop\" (\"name\", \"description\", \"telephone\", \"photo\", \"created_at\", \"updated_at\") VALUES ('가게명#44', '', '042-1234-9044', '', '2021-12-01 06:48:39.036262', '2021-12-01 06:48:39.036262'); args=['가게명#44', '', '042-1234-9044', '', '2021-12-01 06:48:39.036262', '2021-12-01 06:48:39.036262']\n"
     ]
    },
    {
     "name": "stdout",
     "output_type": "stream",
     "text": [
      "가게명#45 042-1234-9045\n"
     ]
    },
    {
     "name": "stderr",
     "output_type": "stream",
     "text": [
      "(0.000) INSERT INTO \"mall_shop\" (\"name\", \"description\", \"telephone\", \"photo\", \"created_at\", \"updated_at\") VALUES ('가게명#45', '', '042-1234-9045', '', '2021-12-01 06:48:39.045239', '2021-12-01 06:48:39.045239'); args=['가게명#45', '', '042-1234-9045', '', '2021-12-01 06:48:39.045239', '2021-12-01 06:48:39.045239']\n"
     ]
    },
    {
     "name": "stdout",
     "output_type": "stream",
     "text": [
      "가게명#46 042-1234-9046\n"
     ]
    },
    {
     "name": "stderr",
     "output_type": "stream",
     "text": [
      "(0.000) INSERT INTO \"mall_shop\" (\"name\", \"description\", \"telephone\", \"photo\", \"created_at\", \"updated_at\") VALUES ('가게명#46', '', '042-1234-9046', '', '2021-12-01 06:48:39.052219', '2021-12-01 06:48:39.052219'); args=['가게명#46', '', '042-1234-9046', '', '2021-12-01 06:48:39.052219', '2021-12-01 06:48:39.052219']\n"
     ]
    },
    {
     "name": "stdout",
     "output_type": "stream",
     "text": [
      "가게명#47 042-1234-9047\n"
     ]
    },
    {
     "name": "stderr",
     "output_type": "stream",
     "text": [
      "(0.000) INSERT INTO \"mall_shop\" (\"name\", \"description\", \"telephone\", \"photo\", \"created_at\", \"updated_at\") VALUES ('가게명#47', '', '042-1234-9047', '', '2021-12-01 06:48:39.061195', '2021-12-01 06:48:39.061195'); args=['가게명#47', '', '042-1234-9047', '', '2021-12-01 06:48:39.061195', '2021-12-01 06:48:39.061195']\n"
     ]
    },
    {
     "name": "stdout",
     "output_type": "stream",
     "text": [
      "가게명#48 042-1234-9048\n"
     ]
    },
    {
     "name": "stderr",
     "output_type": "stream",
     "text": [
      "(0.016) INSERT INTO \"mall_shop\" (\"name\", \"description\", \"telephone\", \"photo\", \"created_at\", \"updated_at\") VALUES ('가게명#48', '', '042-1234-9048', '', '2021-12-01 06:48:39.069174', '2021-12-01 06:48:39.069174'); args=['가게명#48', '', '042-1234-9048', '', '2021-12-01 06:48:39.069174', '2021-12-01 06:48:39.069174']\n"
     ]
    },
    {
     "name": "stdout",
     "output_type": "stream",
     "text": [
      "가게명#49 042-1234-9049\n"
     ]
    },
    {
     "name": "stderr",
     "output_type": "stream",
     "text": [
      "(0.000) INSERT INTO \"mall_shop\" (\"name\", \"description\", \"telephone\", \"photo\", \"created_at\", \"updated_at\") VALUES ('가게명#49', '', '042-1234-9049', '', '2021-12-01 06:48:39.081171', '2021-12-01 06:48:39.081171'); args=['가게명#49', '', '042-1234-9049', '', '2021-12-01 06:48:39.081171', '2021-12-01 06:48:39.081171']\n"
     ]
    },
    {
     "name": "stdout",
     "output_type": "stream",
     "text": [
      "가게명#50 042-1234-9050\n"
     ]
    },
    {
     "name": "stderr",
     "output_type": "stream",
     "text": [
      "(0.000) INSERT INTO \"mall_shop\" (\"name\", \"description\", \"telephone\", \"photo\", \"created_at\", \"updated_at\") VALUES ('가게명#50', '', '042-1234-9050', '', '2021-12-01 06:48:39.091139', '2021-12-01 06:48:39.091139'); args=['가게명#50', '', '042-1234-9050', '', '2021-12-01 06:48:39.091139', '2021-12-01 06:48:39.091139']\n"
     ]
    },
    {
     "name": "stdout",
     "output_type": "stream",
     "text": [
      "가게명#51 042-1234-9051\n"
     ]
    },
    {
     "name": "stderr",
     "output_type": "stream",
     "text": [
      "(0.016) INSERT INTO \"mall_shop\" (\"name\", \"description\", \"telephone\", \"photo\", \"created_at\", \"updated_at\") VALUES ('가게명#51', '', '042-1234-9051', '', '2021-12-01 06:48:39.102110', '2021-12-01 06:48:39.102110'); args=['가게명#51', '', '042-1234-9051', '', '2021-12-01 06:48:39.102110', '2021-12-01 06:48:39.102110']\n"
     ]
    },
    {
     "name": "stdout",
     "output_type": "stream",
     "text": [
      "가게명#52 042-1234-9052\n"
     ]
    },
    {
     "name": "stderr",
     "output_type": "stream",
     "text": [
      "(0.000) INSERT INTO \"mall_shop\" (\"name\", \"description\", \"telephone\", \"photo\", \"created_at\", \"updated_at\") VALUES ('가게명#52', '', '042-1234-9052', '', '2021-12-01 06:48:39.114079', '2021-12-01 06:48:39.114079'); args=['가게명#52', '', '042-1234-9052', '', '2021-12-01 06:48:39.114079', '2021-12-01 06:48:39.114079']\n"
     ]
    },
    {
     "name": "stdout",
     "output_type": "stream",
     "text": [
      "가게명#53 042-1234-9053\n"
     ]
    },
    {
     "name": "stderr",
     "output_type": "stream",
     "text": [
      "(0.000) INSERT INTO \"mall_shop\" (\"name\", \"description\", \"telephone\", \"photo\", \"created_at\", \"updated_at\") VALUES ('가게명#53', '', '042-1234-9053', '', '2021-12-01 06:48:39.122056', '2021-12-01 06:48:39.122056'); args=['가게명#53', '', '042-1234-9053', '', '2021-12-01 06:48:39.122056', '2021-12-01 06:48:39.122056']\n"
     ]
    },
    {
     "name": "stdout",
     "output_type": "stream",
     "text": [
      "가게명#54 042-1234-9054\n"
     ]
    },
    {
     "name": "stderr",
     "output_type": "stream",
     "text": [
      "(0.015) INSERT INTO \"mall_shop\" (\"name\", \"description\", \"telephone\", \"photo\", \"created_at\", \"updated_at\") VALUES ('가게명#54', '', '042-1234-9054', '', '2021-12-01 06:48:39.130036', '2021-12-01 06:48:39.131032'); args=['가게명#54', '', '042-1234-9054', '', '2021-12-01 06:48:39.130036', '2021-12-01 06:48:39.131032']\n"
     ]
    },
    {
     "name": "stdout",
     "output_type": "stream",
     "text": [
      "가게명#55 042-1234-9055\n"
     ]
    },
    {
     "name": "stderr",
     "output_type": "stream",
     "text": [
      "(0.000) INSERT INTO \"mall_shop\" (\"name\", \"description\", \"telephone\", \"photo\", \"created_at\", \"updated_at\") VALUES ('가게명#55', '', '042-1234-9055', '', '2021-12-01 06:48:39.140626', '2021-12-01 06:48:39.140626'); args=['가게명#55', '', '042-1234-9055', '', '2021-12-01 06:48:39.140626', '2021-12-01 06:48:39.140626']\n"
     ]
    },
    {
     "name": "stdout",
     "output_type": "stream",
     "text": [
      "가게명#56 042-1234-9056\n"
     ]
    },
    {
     "name": "stderr",
     "output_type": "stream",
     "text": [
      "(0.016) INSERT INTO \"mall_shop\" (\"name\", \"description\", \"telephone\", \"photo\", \"created_at\", \"updated_at\") VALUES ('가게명#56', '', '042-1234-9056', '', '2021-12-01 06:48:39.149602', '2021-12-01 06:48:39.149602'); args=['가게명#56', '', '042-1234-9056', '', '2021-12-01 06:48:39.149602', '2021-12-01 06:48:39.149602']\n"
     ]
    },
    {
     "name": "stdout",
     "output_type": "stream",
     "text": [
      "가게명#57 042-1234-9057\n"
     ]
    },
    {
     "name": "stderr",
     "output_type": "stream",
     "text": [
      "(0.000) INSERT INTO \"mall_shop\" (\"name\", \"description\", \"telephone\", \"photo\", \"created_at\", \"updated_at\") VALUES ('가게명#57', '', '042-1234-9057', '', '2021-12-01 06:48:39.156085', '2021-12-01 06:48:39.156085'); args=['가게명#57', '', '042-1234-9057', '', '2021-12-01 06:48:39.156085', '2021-12-01 06:48:39.156085']\n"
     ]
    },
    {
     "name": "stdout",
     "output_type": "stream",
     "text": [
      "가게명#58 042-1234-9058\n"
     ]
    },
    {
     "name": "stderr",
     "output_type": "stream",
     "text": [
      "(0.031) INSERT INTO \"mall_shop\" (\"name\", \"description\", \"telephone\", \"photo\", \"created_at\", \"updated_at\") VALUES ('가게명#58', '', '042-1234-9058', '', '2021-12-01 06:48:39.164063', '2021-12-01 06:48:39.164063'); args=['가게명#58', '', '042-1234-9058', '', '2021-12-01 06:48:39.164063', '2021-12-01 06:48:39.164063']\n"
     ]
    },
    {
     "name": "stdout",
     "output_type": "stream",
     "text": [
      "가게명#59 042-1234-9059\n"
     ]
    },
    {
     "name": "stderr",
     "output_type": "stream",
     "text": [
      "(0.000) INSERT INTO \"mall_shop\" (\"name\", \"description\", \"telephone\", \"photo\", \"created_at\", \"updated_at\") VALUES ('가게명#59', '', '042-1234-9059', '', '2021-12-01 06:48:39.189574', '2021-12-01 06:48:39.189574'); args=['가게명#59', '', '042-1234-9059', '', '2021-12-01 06:48:39.189574', '2021-12-01 06:48:39.189574']\n"
     ]
    },
    {
     "name": "stdout",
     "output_type": "stream",
     "text": [
      "가게명#60 042-1234-9060\n"
     ]
    },
    {
     "name": "stderr",
     "output_type": "stream",
     "text": [
      "(0.016) INSERT INTO \"mall_shop\" (\"name\", \"description\", \"telephone\", \"photo\", \"created_at\", \"updated_at\") VALUES ('가게명#60', '', '042-1234-9060', '', '2021-12-01 06:48:39.197551', '2021-12-01 06:48:39.197551'); args=['가게명#60', '', '042-1234-9060', '', '2021-12-01 06:48:39.197551', '2021-12-01 06:48:39.197551']\n"
     ]
    },
    {
     "name": "stdout",
     "output_type": "stream",
     "text": [
      "가게명#61 042-1234-9061\n"
     ]
    },
    {
     "name": "stderr",
     "output_type": "stream",
     "text": [
      "(0.000) INSERT INTO \"mall_shop\" (\"name\", \"description\", \"telephone\", \"photo\", \"created_at\", \"updated_at\") VALUES ('가게명#61', '', '042-1234-9061', '', '2021-12-01 06:48:39.206527', '2021-12-01 06:48:39.206527'); args=['가게명#61', '', '042-1234-9061', '', '2021-12-01 06:48:39.206527', '2021-12-01 06:48:39.206527']\n"
     ]
    },
    {
     "name": "stdout",
     "output_type": "stream",
     "text": [
      "가게명#62 042-1234-9062\n"
     ]
    },
    {
     "name": "stderr",
     "output_type": "stream",
     "text": [
      "(0.000) INSERT INTO \"mall_shop\" (\"name\", \"description\", \"telephone\", \"photo\", \"created_at\", \"updated_at\") VALUES ('가게명#62', '', '042-1234-9062', '', '2021-12-01 06:48:39.215505', '2021-12-01 06:48:39.215505'); args=['가게명#62', '', '042-1234-9062', '', '2021-12-01 06:48:39.215505', '2021-12-01 06:48:39.215505']\n"
     ]
    },
    {
     "name": "stdout",
     "output_type": "stream",
     "text": [
      "가게명#63 042-1234-9063\n"
     ]
    },
    {
     "name": "stderr",
     "output_type": "stream",
     "text": [
      "(0.000) INSERT INTO \"mall_shop\" (\"name\", \"description\", \"telephone\", \"photo\", \"created_at\", \"updated_at\") VALUES ('가게명#63', '', '042-1234-9063', '', '2021-12-01 06:48:39.222484', '2021-12-01 06:48:39.222484'); args=['가게명#63', '', '042-1234-9063', '', '2021-12-01 06:48:39.222484', '2021-12-01 06:48:39.222484']\n"
     ]
    },
    {
     "name": "stdout",
     "output_type": "stream",
     "text": [
      "가게명#64 042-1234-9064\n"
     ]
    },
    {
     "name": "stderr",
     "output_type": "stream",
     "text": [
      "(0.000) INSERT INTO \"mall_shop\" (\"name\", \"description\", \"telephone\", \"photo\", \"created_at\", \"updated_at\") VALUES ('가게명#64', '', '042-1234-9064', '', '2021-12-01 06:48:39.230464', '2021-12-01 06:48:39.230464'); args=['가게명#64', '', '042-1234-9064', '', '2021-12-01 06:48:39.230464', '2021-12-01 06:48:39.230464']\n"
     ]
    },
    {
     "name": "stdout",
     "output_type": "stream",
     "text": [
      "가게명#65 042-1234-9065\n"
     ]
    },
    {
     "name": "stderr",
     "output_type": "stream",
     "text": [
      "(0.016) INSERT INTO \"mall_shop\" (\"name\", \"description\", \"telephone\", \"photo\", \"created_at\", \"updated_at\") VALUES ('가게명#65', '', '042-1234-9065', '', '2021-12-01 06:48:39.240436', '2021-12-01 06:48:39.240436'); args=['가게명#65', '', '042-1234-9065', '', '2021-12-01 06:48:39.240436', '2021-12-01 06:48:39.240436']\n"
     ]
    },
    {
     "name": "stdout",
     "output_type": "stream",
     "text": [
      "가게명#66 042-1234-9066\n"
     ]
    },
    {
     "name": "stderr",
     "output_type": "stream",
     "text": [
      "(0.000) INSERT INTO \"mall_shop\" (\"name\", \"description\", \"telephone\", \"photo\", \"created_at\", \"updated_at\") VALUES ('가게명#66', '', '042-1234-9066', '', '2021-12-01 06:48:39.247417', '2021-12-01 06:48:39.247417'); args=['가게명#66', '', '042-1234-9066', '', '2021-12-01 06:48:39.247417', '2021-12-01 06:48:39.247417']\n"
     ]
    },
    {
     "name": "stdout",
     "output_type": "stream",
     "text": [
      "가게명#67 042-1234-9067\n"
     ]
    },
    {
     "name": "stderr",
     "output_type": "stream",
     "text": [
      "(0.015) INSERT INTO \"mall_shop\" (\"name\", \"description\", \"telephone\", \"photo\", \"created_at\", \"updated_at\") VALUES ('가게명#67', '', '042-1234-9067', '', '2021-12-01 06:48:39.256393', '2021-12-01 06:48:39.256393'); args=['가게명#67', '', '042-1234-9067', '', '2021-12-01 06:48:39.256393', '2021-12-01 06:48:39.256393']\n"
     ]
    },
    {
     "name": "stdout",
     "output_type": "stream",
     "text": [
      "가게명#68 042-1234-9068\n"
     ]
    },
    {
     "name": "stderr",
     "output_type": "stream",
     "text": [
      "(0.000) INSERT INTO \"mall_shop\" (\"name\", \"description\", \"telephone\", \"photo\", \"created_at\", \"updated_at\") VALUES ('가게명#68', '', '042-1234-9068', '', '2021-12-01 06:48:39.266367', '2021-12-01 06:48:39.266367'); args=['가게명#68', '', '042-1234-9068', '', '2021-12-01 06:48:39.266367', '2021-12-01 06:48:39.266367']\n"
     ]
    },
    {
     "name": "stdout",
     "output_type": "stream",
     "text": [
      "가게명#69 042-1234-9069\n"
     ]
    },
    {
     "name": "stderr",
     "output_type": "stream",
     "text": [
      "(0.000) INSERT INTO \"mall_shop\" (\"name\", \"description\", \"telephone\", \"photo\", \"created_at\", \"updated_at\") VALUES ('가게명#69', '', '042-1234-9069', '', '2021-12-01 06:48:39.278370', '2021-12-01 06:48:39.278370'); args=['가게명#69', '', '042-1234-9069', '', '2021-12-01 06:48:39.278370', '2021-12-01 06:48:39.278370']\n"
     ]
    },
    {
     "name": "stdout",
     "output_type": "stream",
     "text": [
      "가게명#70 042-1234-9070\n"
     ]
    },
    {
     "name": "stderr",
     "output_type": "stream",
     "text": [
      "(0.000) INSERT INTO \"mall_shop\" (\"name\", \"description\", \"telephone\", \"photo\", \"created_at\", \"updated_at\") VALUES ('가게명#70', '', '042-1234-9070', '', '2021-12-01 06:48:39.286349', '2021-12-01 06:48:39.286349'); args=['가게명#70', '', '042-1234-9070', '', '2021-12-01 06:48:39.286349', '2021-12-01 06:48:39.286349']\n"
     ]
    },
    {
     "name": "stdout",
     "output_type": "stream",
     "text": [
      "가게명#71 042-1234-9071\n"
     ]
    },
    {
     "name": "stderr",
     "output_type": "stream",
     "text": [
      "(0.000) INSERT INTO \"mall_shop\" (\"name\", \"description\", \"telephone\", \"photo\", \"created_at\", \"updated_at\") VALUES ('가게명#71', '', '042-1234-9071', '', '2021-12-01 06:48:39.294328', '2021-12-01 06:48:39.294328'); args=['가게명#71', '', '042-1234-9071', '', '2021-12-01 06:48:39.294328', '2021-12-01 06:48:39.294328']\n"
     ]
    },
    {
     "name": "stdout",
     "output_type": "stream",
     "text": [
      "가게명#72 042-1234-9072\n"
     ]
    },
    {
     "name": "stderr",
     "output_type": "stream",
     "text": [
      "(0.000) INSERT INTO \"mall_shop\" (\"name\", \"description\", \"telephone\", \"photo\", \"created_at\", \"updated_at\") VALUES ('가게명#72', '', '042-1234-9072', '', '2021-12-01 06:48:39.302307', '2021-12-01 06:48:39.302307'); args=['가게명#72', '', '042-1234-9072', '', '2021-12-01 06:48:39.302307', '2021-12-01 06:48:39.302307']\n"
     ]
    },
    {
     "name": "stdout",
     "output_type": "stream",
     "text": [
      "가게명#73 042-1234-9073\n"
     ]
    },
    {
     "name": "stderr",
     "output_type": "stream",
     "text": [
      "(0.000) INSERT INTO \"mall_shop\" (\"name\", \"description\", \"telephone\", \"photo\", \"created_at\", \"updated_at\") VALUES ('가게명#73', '', '042-1234-9073', '', '2021-12-01 06:48:39.310292', '2021-12-01 06:48:39.310292'); args=['가게명#73', '', '042-1234-9073', '', '2021-12-01 06:48:39.310292', '2021-12-01 06:48:39.310292']\n"
     ]
    },
    {
     "name": "stdout",
     "output_type": "stream",
     "text": [
      "가게명#74 042-1234-9074\n"
     ]
    },
    {
     "name": "stderr",
     "output_type": "stream",
     "text": [
      "(0.016) INSERT INTO \"mall_shop\" (\"name\", \"description\", \"telephone\", \"photo\", \"created_at\", \"updated_at\") VALUES ('가게명#74', '', '042-1234-9074', '', '2021-12-01 06:48:39.318371', '2021-12-01 06:48:39.318371'); args=['가게명#74', '', '042-1234-9074', '', '2021-12-01 06:48:39.318371', '2021-12-01 06:48:39.318371']\n"
     ]
    },
    {
     "name": "stdout",
     "output_type": "stream",
     "text": [
      "가게명#75 042-1234-9075\n"
     ]
    },
    {
     "name": "stderr",
     "output_type": "stream",
     "text": [
      "(0.000) INSERT INTO \"mall_shop\" (\"name\", \"description\", \"telephone\", \"photo\", \"created_at\", \"updated_at\") VALUES ('가게명#75', '', '042-1234-9075', '', '2021-12-01 06:48:39.325612', '2021-12-01 06:48:39.325612'); args=['가게명#75', '', '042-1234-9075', '', '2021-12-01 06:48:39.325612', '2021-12-01 06:48:39.325612']\n"
     ]
    },
    {
     "name": "stdout",
     "output_type": "stream",
     "text": [
      "가게명#76 042-1234-9076\n"
     ]
    },
    {
     "name": "stderr",
     "output_type": "stream",
     "text": [
      "(0.015) INSERT INTO \"mall_shop\" (\"name\", \"description\", \"telephone\", \"photo\", \"created_at\", \"updated_at\") VALUES ('가게명#76', '', '042-1234-9076', '', '2021-12-01 06:48:39.334587', '2021-12-01 06:48:39.334587'); args=['가게명#76', '', '042-1234-9076', '', '2021-12-01 06:48:39.334587', '2021-12-01 06:48:39.334587']\n"
     ]
    },
    {
     "name": "stdout",
     "output_type": "stream",
     "text": [
      "가게명#77 042-1234-9077\n"
     ]
    },
    {
     "name": "stderr",
     "output_type": "stream",
     "text": [
      "(0.000) INSERT INTO \"mall_shop\" (\"name\", \"description\", \"telephone\", \"photo\", \"created_at\", \"updated_at\") VALUES ('가게명#77', '', '042-1234-9077', '', '2021-12-01 06:48:39.341567', '2021-12-01 06:48:39.341567'); args=['가게명#77', '', '042-1234-9077', '', '2021-12-01 06:48:39.341567', '2021-12-01 06:48:39.341567']\n"
     ]
    },
    {
     "name": "stdout",
     "output_type": "stream",
     "text": [
      "가게명#78 042-1234-9078\n"
     ]
    },
    {
     "name": "stderr",
     "output_type": "stream",
     "text": [
      "(0.016) INSERT INTO \"mall_shop\" (\"name\", \"description\", \"telephone\", \"photo\", \"created_at\", \"updated_at\") VALUES ('가게명#78', '', '042-1234-9078', '', '2021-12-01 06:48:39.350544', '2021-12-01 06:48:39.350544'); args=['가게명#78', '', '042-1234-9078', '', '2021-12-01 06:48:39.350544', '2021-12-01 06:48:39.350544']\n"
     ]
    },
    {
     "name": "stdout",
     "output_type": "stream",
     "text": [
      "가게명#79 042-1234-9079\n"
     ]
    },
    {
     "name": "stderr",
     "output_type": "stream",
     "text": [
      "(0.000) INSERT INTO \"mall_shop\" (\"name\", \"description\", \"telephone\", \"photo\", \"created_at\", \"updated_at\") VALUES ('가게명#79', '', '042-1234-9079', '', '2021-12-01 06:48:39.357526', '2021-12-01 06:48:39.358523'); args=['가게명#79', '', '042-1234-9079', '', '2021-12-01 06:48:39.357526', '2021-12-01 06:48:39.358523']\n"
     ]
    },
    {
     "name": "stdout",
     "output_type": "stream",
     "text": [
      "가게명#80 042-1234-9080\n"
     ]
    },
    {
     "name": "stderr",
     "output_type": "stream",
     "text": [
      "(0.016) INSERT INTO \"mall_shop\" (\"name\", \"description\", \"telephone\", \"photo\", \"created_at\", \"updated_at\") VALUES ('가게명#80', '', '042-1234-9080', '', '2021-12-01 06:48:39.368497', '2021-12-01 06:48:39.368497'); args=['가게명#80', '', '042-1234-9080', '', '2021-12-01 06:48:39.368497', '2021-12-01 06:48:39.368497']\n"
     ]
    },
    {
     "name": "stdout",
     "output_type": "stream",
     "text": [
      "가게명#81 042-1234-9081\n"
     ]
    },
    {
     "name": "stderr",
     "output_type": "stream",
     "text": [
      "(0.000) INSERT INTO \"mall_shop\" (\"name\", \"description\", \"telephone\", \"photo\", \"created_at\", \"updated_at\") VALUES ('가게명#81', '', '042-1234-9081', '', '2021-12-01 06:48:39.375563', '2021-12-01 06:48:39.375563'); args=['가게명#81', '', '042-1234-9081', '', '2021-12-01 06:48:39.375563', '2021-12-01 06:48:39.375563']\n"
     ]
    },
    {
     "name": "stdout",
     "output_type": "stream",
     "text": [
      "가게명#82 042-1234-9082\n"
     ]
    },
    {
     "name": "stderr",
     "output_type": "stream",
     "text": [
      "(0.015) INSERT INTO \"mall_shop\" (\"name\", \"description\", \"telephone\", \"photo\", \"created_at\", \"updated_at\") VALUES ('가게명#82', '', '042-1234-9082', '', '2021-12-01 06:48:39.383542', '2021-12-01 06:48:39.383542'); args=['가게명#82', '', '042-1234-9082', '', '2021-12-01 06:48:39.383542', '2021-12-01 06:48:39.383542']\n"
     ]
    },
    {
     "name": "stdout",
     "output_type": "stream",
     "text": [
      "가게명#83 042-1234-9083\n"
     ]
    },
    {
     "name": "stderr",
     "output_type": "stream",
     "text": [
      "(0.000) INSERT INTO \"mall_shop\" (\"name\", \"description\", \"telephone\", \"photo\", \"created_at\", \"updated_at\") VALUES ('가게명#83', '', '042-1234-9083', '', '2021-12-01 06:48:39.391520', '2021-12-01 06:48:39.391520'); args=['가게명#83', '', '042-1234-9083', '', '2021-12-01 06:48:39.391520', '2021-12-01 06:48:39.391520']\n"
     ]
    },
    {
     "name": "stdout",
     "output_type": "stream",
     "text": [
      "가게명#84 042-1234-9084\n"
     ]
    },
    {
     "name": "stderr",
     "output_type": "stream",
     "text": [
      "(0.016) INSERT INTO \"mall_shop\" (\"name\", \"description\", \"telephone\", \"photo\", \"created_at\", \"updated_at\") VALUES ('가게명#84', '', '042-1234-9084', '', '2021-12-01 06:48:39.400497', '2021-12-01 06:48:39.400497'); args=['가게명#84', '', '042-1234-9084', '', '2021-12-01 06:48:39.400497', '2021-12-01 06:48:39.400497']\n"
     ]
    },
    {
     "name": "stdout",
     "output_type": "stream",
     "text": [
      "가게명#85 042-1234-9085\n"
     ]
    },
    {
     "name": "stderr",
     "output_type": "stream",
     "text": [
      "(0.000) INSERT INTO \"mall_shop\" (\"name\", \"description\", \"telephone\", \"photo\", \"created_at\", \"updated_at\") VALUES ('가게명#85', '', '042-1234-9085', '', '2021-12-01 06:48:39.407478', '2021-12-01 06:48:39.407478'); args=['가게명#85', '', '042-1234-9085', '', '2021-12-01 06:48:39.407478', '2021-12-01 06:48:39.407478']\n"
     ]
    },
    {
     "name": "stdout",
     "output_type": "stream",
     "text": [
      "가게명#86 042-1234-9086\n"
     ]
    },
    {
     "name": "stderr",
     "output_type": "stream",
     "text": [
      "(0.015) INSERT INTO \"mall_shop\" (\"name\", \"description\", \"telephone\", \"photo\", \"created_at\", \"updated_at\") VALUES ('가게명#86', '', '042-1234-9086', '', '2021-12-01 06:48:39.416454', '2021-12-01 06:48:39.416454'); args=['가게명#86', '', '042-1234-9086', '', '2021-12-01 06:48:39.416454', '2021-12-01 06:48:39.416454']\n"
     ]
    },
    {
     "name": "stdout",
     "output_type": "stream",
     "text": [
      "가게명#87 042-1234-9087\n"
     ]
    },
    {
     "name": "stderr",
     "output_type": "stream",
     "text": [
      "(0.016) INSERT INTO \"mall_shop\" (\"name\", \"description\", \"telephone\", \"photo\", \"created_at\", \"updated_at\") VALUES ('가게명#87', '', '042-1234-9087', '', '2021-12-01 06:48:39.423723', '2021-12-01 06:48:39.423723'); args=['가게명#87', '', '042-1234-9087', '', '2021-12-01 06:48:39.423723', '2021-12-01 06:48:39.423723']\n"
     ]
    },
    {
     "name": "stdout",
     "output_type": "stream",
     "text": [
      "가게명#88 042-1234-9088\n"
     ]
    },
    {
     "name": "stderr",
     "output_type": "stream",
     "text": [
      "(0.000) INSERT INTO \"mall_shop\" (\"name\", \"description\", \"telephone\", \"photo\", \"created_at\", \"updated_at\") VALUES ('가게명#88', '', '042-1234-9088', '', '2021-12-01 06:48:39.438560', '2021-12-01 06:48:39.438560'); args=['가게명#88', '', '042-1234-9088', '', '2021-12-01 06:48:39.438560', '2021-12-01 06:48:39.438560']\n"
     ]
    },
    {
     "name": "stdout",
     "output_type": "stream",
     "text": [
      "가게명#89 042-1234-9089\n"
     ]
    },
    {
     "name": "stderr",
     "output_type": "stream",
     "text": [
      "(0.000) INSERT INTO \"mall_shop\" (\"name\", \"description\", \"telephone\", \"photo\", \"created_at\", \"updated_at\") VALUES ('가게명#89', '', '042-1234-9089', '', '2021-12-01 06:48:39.448533', '2021-12-01 06:48:39.448533'); args=['가게명#89', '', '042-1234-9089', '', '2021-12-01 06:48:39.448533', '2021-12-01 06:48:39.448533']\n"
     ]
    },
    {
     "name": "stdout",
     "output_type": "stream",
     "text": [
      "가게명#90 042-1234-9090\n"
     ]
    },
    {
     "name": "stderr",
     "output_type": "stream",
     "text": [
      "(0.000) INSERT INTO \"mall_shop\" (\"name\", \"description\", \"telephone\", \"photo\", \"created_at\", \"updated_at\") VALUES ('가게명#90', '', '042-1234-9090', '', '2021-12-01 06:48:39.455514', '2021-12-01 06:48:39.455514'); args=['가게명#90', '', '042-1234-9090', '', '2021-12-01 06:48:39.455514', '2021-12-01 06:48:39.455514']\n"
     ]
    },
    {
     "name": "stdout",
     "output_type": "stream",
     "text": [
      "가게명#91 042-1234-9091\n"
     ]
    },
    {
     "name": "stderr",
     "output_type": "stream",
     "text": [
      "(0.015) INSERT INTO \"mall_shop\" (\"name\", \"description\", \"telephone\", \"photo\", \"created_at\", \"updated_at\") VALUES ('가게명#91', '', '042-1234-9091', '', '2021-12-01 06:48:39.463494', '2021-12-01 06:48:39.463494'); args=['가게명#91', '', '042-1234-9091', '', '2021-12-01 06:48:39.463494', '2021-12-01 06:48:39.463494']\n"
     ]
    },
    {
     "name": "stdout",
     "output_type": "stream",
     "text": [
      "가게명#92 042-1234-9092\n"
     ]
    },
    {
     "name": "stderr",
     "output_type": "stream",
     "text": [
      "(0.016) INSERT INTO \"mall_shop\" (\"name\", \"description\", \"telephone\", \"photo\", \"created_at\", \"updated_at\") VALUES ('가게명#92', '', '042-1234-9092', '', '2021-12-01 06:48:39.472472', '2021-12-01 06:48:39.472472'); args=['가게명#92', '', '042-1234-9092', '', '2021-12-01 06:48:39.472472', '2021-12-01 06:48:39.472472']\n"
     ]
    },
    {
     "name": "stdout",
     "output_type": "stream",
     "text": [
      "가게명#93 042-1234-9093\n"
     ]
    },
    {
     "name": "stderr",
     "output_type": "stream",
     "text": [
      "(0.000) INSERT INTO \"mall_shop\" (\"name\", \"description\", \"telephone\", \"photo\", \"created_at\", \"updated_at\") VALUES ('가게명#93', '', '042-1234-9093', '', '2021-12-01 06:48:39.484448', '2021-12-01 06:48:39.484448'); args=['가게명#93', '', '042-1234-9093', '', '2021-12-01 06:48:39.484448', '2021-12-01 06:48:39.484448']\n"
     ]
    },
    {
     "name": "stdout",
     "output_type": "stream",
     "text": [
      "가게명#94 042-1234-9094\n"
     ]
    },
    {
     "name": "stderr",
     "output_type": "stream",
     "text": [
      "(0.016) INSERT INTO \"mall_shop\" (\"name\", \"description\", \"telephone\", \"photo\", \"created_at\", \"updated_at\") VALUES ('가게명#94', '', '042-1234-9094', '', '2021-12-01 06:48:39.492416', '2021-12-01 06:48:39.492416'); args=['가게명#94', '', '042-1234-9094', '', '2021-12-01 06:48:39.492416', '2021-12-01 06:48:39.492416']\n"
     ]
    },
    {
     "name": "stdout",
     "output_type": "stream",
     "text": [
      "가게명#95 042-1234-9095\n"
     ]
    },
    {
     "name": "stderr",
     "output_type": "stream",
     "text": [
      "(0.000) INSERT INTO \"mall_shop\" (\"name\", \"description\", \"telephone\", \"photo\", \"created_at\", \"updated_at\") VALUES ('가게명#95', '', '042-1234-9095', '', '2021-12-01 06:48:39.503388', '2021-12-01 06:48:39.503388'); args=['가게명#95', '', '042-1234-9095', '', '2021-12-01 06:48:39.503388', '2021-12-01 06:48:39.503388']\n"
     ]
    },
    {
     "name": "stdout",
     "output_type": "stream",
     "text": [
      "가게명#96 042-1234-9096\n"
     ]
    },
    {
     "name": "stderr",
     "output_type": "stream",
     "text": [
      "(0.000) INSERT INTO \"mall_shop\" (\"name\", \"description\", \"telephone\", \"photo\", \"created_at\", \"updated_at\") VALUES ('가게명#96', '', '042-1234-9096', '', '2021-12-01 06:48:39.511398', '2021-12-01 06:48:39.512394'); args=['가게명#96', '', '042-1234-9096', '', '2021-12-01 06:48:39.511398', '2021-12-01 06:48:39.512394']\n"
     ]
    },
    {
     "name": "stdout",
     "output_type": "stream",
     "text": [
      "가게명#97 042-1234-9097\n"
     ]
    },
    {
     "name": "stderr",
     "output_type": "stream",
     "text": [
      "(0.000) INSERT INTO \"mall_shop\" (\"name\", \"description\", \"telephone\", \"photo\", \"created_at\", \"updated_at\") VALUES ('가게명#97', '', '042-1234-9097', '', '2021-12-01 06:48:39.519377', '2021-12-01 06:48:39.519377'); args=['가게명#97', '', '042-1234-9097', '', '2021-12-01 06:48:39.519377', '2021-12-01 06:48:39.519377']\n"
     ]
    },
    {
     "name": "stdout",
     "output_type": "stream",
     "text": [
      "가게명#98 042-1234-9098\n"
     ]
    },
    {
     "name": "stderr",
     "output_type": "stream",
     "text": [
      "(0.000) INSERT INTO \"mall_shop\" (\"name\", \"description\", \"telephone\", \"photo\", \"created_at\", \"updated_at\") VALUES ('가게명#98', '', '042-1234-9098', '', '2021-12-01 06:48:39.528352', '2021-12-01 06:48:39.528352'); args=['가게명#98', '', '042-1234-9098', '', '2021-12-01 06:48:39.528352', '2021-12-01 06:48:39.528352']\n"
     ]
    },
    {
     "name": "stdout",
     "output_type": "stream",
     "text": [
      "가게명#99 042-1234-9099\n"
     ]
    },
    {
     "name": "stderr",
     "output_type": "stream",
     "text": [
      "(0.000) INSERT INTO \"mall_shop\" (\"name\", \"description\", \"telephone\", \"photo\", \"created_at\", \"updated_at\") VALUES ('가게명#99', '', '042-1234-9099', '', '2021-12-01 06:48:39.536330', '2021-12-01 06:48:39.536330'); args=['가게명#99', '', '042-1234-9099', '', '2021-12-01 06:48:39.536330', '2021-12-01 06:48:39.536330']\n"
     ]
    },
    {
     "name": "stdout",
     "output_type": "stream",
     "text": [
      "가게명#100 042-1234-9100\n"
     ]
    },
    {
     "name": "stderr",
     "output_type": "stream",
     "text": [
      "(0.000) INSERT INTO \"mall_shop\" (\"name\", \"description\", \"telephone\", \"photo\", \"created_at\", \"updated_at\") VALUES ('가게명#100', '', '042-1234-9100', '', '2021-12-01 06:48:39.544308', '2021-12-01 06:48:39.544308'); args=['가게명#100', '', '042-1234-9100', '', '2021-12-01 06:48:39.544308', '2021-12-01 06:48:39.544308']\n"
     ]
    }
   ],
   "source": [
    "for i in range(1,101):\n",
    "    name = f\"가게명#{i}\"\n",
    "    telephone = f\"042-1234-9{i:03}\"# 3자리를 확보해서 쓰겠고, 빈자리를 0으로 채우겠다.\n",
    "    print(name, telephone)\n",
    "    Shop.objects.create(\n",
    "        name=name,\n",
    "        telephone=telephone,)"
   ]
  },
  {
   "cell_type": "markdown",
   "id": "404b9f39",
   "metadata": {},
   "source": [
    "# Slicing"
   ]
  },
  {
   "cell_type": "code",
   "execution_count": 14,
   "id": "8432acf1",
   "metadata": {},
   "outputs": [],
   "source": [
    "qs = Shop.objects.all()"
   ]
  },
  {
   "cell_type": "code",
   "execution_count": 15,
   "id": "6c8c166f",
   "metadata": {},
   "outputs": [
    {
     "name": "stderr",
     "output_type": "stream",
     "text": [
      "(0.000) SELECT \"mall_shop\".\"id\", \"mall_shop\".\"name\", \"mall_shop\".\"description\", \"mall_shop\".\"telephone\", \"mall_shop\".\"photo\", \"mall_shop\".\"created_at\", \"mall_shop\".\"updated_at\" FROM \"mall_shop\" ORDER BY \"mall_shop\".\"id\" DESC LIMIT 10; args=()\n"
     ]
    },
    {
     "data": {
      "text/plain": [
       "<QuerySet [<Shop: Shop object (206)>, <Shop: Shop object (205)>, <Shop: Shop object (204)>, <Shop: Shop object (203)>, <Shop: Shop object (202)>, <Shop: Shop object (201)>, <Shop: Shop object (200)>, <Shop: Shop object (199)>, <Shop: Shop object (198)>, <Shop: Shop object (197)>]>"
      ]
     },
     "execution_count": 15,
     "metadata": {},
     "output_type": "execute_result"
    }
   ],
   "source": [
    "qs[:10] # 0번 인덱스부터 ~ 9까지 \n",
    "# first 10 rows"
   ]
  },
  {
   "cell_type": "code",
   "execution_count": 16,
   "id": "65214be8",
   "metadata": {},
   "outputs": [
    {
     "name": "stderr",
     "output_type": "stream",
     "text": [
      "(0.000) SELECT \"mall_shop\".\"id\", \"mall_shop\".\"name\", \"mall_shop\".\"description\", \"mall_shop\".\"telephone\", \"mall_shop\".\"photo\", \"mall_shop\".\"created_at\", \"mall_shop\".\"updated_at\" FROM \"mall_shop\" ORDER BY \"mall_shop\".\"id\" DESC LIMIT 10; args=()\n"
     ]
    },
    {
     "data": {
      "text/plain": [
       "[<Shop: Shop object (206)>,\n",
       " <Shop: Shop object (204)>,\n",
       " <Shop: Shop object (202)>,\n",
       " <Shop: Shop object (200)>,\n",
       " <Shop: Shop object (198)>]"
      ]
     },
     "execution_count": 16,
     "metadata": {},
     "output_type": "execute_result"
    }
   ],
   "source": [
    "qs[0:10:2] # 쿼리를 보면, DB에서는 10개를 가져온 셈.\n",
    "# 데이터베이스에서는 건너뛰면서 몇개를 가져오겠다~ 라는 개념이 없음\n"
   ]
  },
  {
   "cell_type": "code",
   "execution_count": 17,
   "id": "1cc05727",
   "metadata": {},
   "outputs": [
    {
     "ename": "AssertionError",
     "evalue": "Negative indexing is not supported.",
     "output_type": "error",
     "traceback": [
      "\u001b[1;31m---------------------------------------------------------------------------\u001b[0m",
      "\u001b[1;31mAssertionError\u001b[0m                            Traceback (most recent call last)",
      "\u001b[1;32m~\\AppData\\Local\\Temp/ipykernel_15964/3642468256.py\u001b[0m in \u001b[0;36m<module>\u001b[1;34m\u001b[0m\n\u001b[1;32m----> 1\u001b[1;33m \u001b[0mqs\u001b[0m\u001b[1;33m[\u001b[0m\u001b[1;33m-\u001b[0m\u001b[1;36m10\u001b[0m\u001b[1;33m:\u001b[0m\u001b[1;33m]\u001b[0m \u001b[1;31m# last 10개\u001b[0m\u001b[1;33m\u001b[0m\u001b[1;33m\u001b[0m\u001b[0m\n\u001b[0m",
      "\u001b[1;32m~\\AppData\\Local\\Programs\\Python\\Python310\\lib\\site-packages\\django\\db\\models\\query.py\u001b[0m in \u001b[0;36m__getitem__\u001b[1;34m(self, k)\u001b[0m\n\u001b[0;32m    292\u001b[0m                 \u001b[1;33m%\u001b[0m \u001b[0mtype\u001b[0m\u001b[1;33m(\u001b[0m\u001b[0mk\u001b[0m\u001b[1;33m)\u001b[0m\u001b[1;33m.\u001b[0m\u001b[0m__name__\u001b[0m\u001b[1;33m\u001b[0m\u001b[1;33m\u001b[0m\u001b[0m\n\u001b[0;32m    293\u001b[0m             )\n\u001b[1;32m--> 294\u001b[1;33m         assert ((not isinstance(k, slice) and (k >= 0)) or\n\u001b[0m\u001b[0;32m    295\u001b[0m                 (isinstance(k, slice) and (k.start is None or k.start >= 0) and\n\u001b[0;32m    296\u001b[0m                  (k.stop is None or k.stop >= 0))), \\\n",
      "\u001b[1;31mAssertionError\u001b[0m: Negative indexing is not supported."
     ]
    }
   ],
   "source": [
    "qs[-10:] # last 10개 ? -> 이것도 파이썬만의 문법! DB는 이런 개념이 없음\n",
    "# 그냥 몇번 인덱스부터 몇개~ 이정도만 있다 \n"
   ]
  },
  {
   "cell_type": "code",
   "execution_count": 18,
   "id": "7a4841e5",
   "metadata": {},
   "outputs": [
    {
     "name": "stderr",
     "output_type": "stream",
     "text": [
      "(0.000) SELECT \"mall_shop\".\"id\", \"mall_shop\".\"name\", \"mall_shop\".\"description\", \"mall_shop\".\"telephone\", \"mall_shop\".\"photo\", \"mall_shop\".\"created_at\", \"mall_shop\".\"updated_at\" FROM \"mall_shop\" ORDER BY \"mall_shop\".\"id\" ASC LIMIT 10; args=()\n"
     ]
    },
    {
     "data": {
      "text/plain": [
       "<QuerySet [<Shop: Shop object (1)>, <Shop: Shop object (2)>, <Shop: Shop object (3)>, <Shop: Shop object (4)>, <Shop: Shop object (5)>, <Shop: Shop object (6)>, <Shop: Shop object (7)>, <Shop: Shop object (8)>, <Shop: Shop object (9)>, <Shop: Shop object (10)>]>"
      ]
     },
     "execution_count": 18,
     "metadata": {},
     "output_type": "execute_result"
    }
   ],
   "source": [
    "qs.order_by(\"id\")[:10]"
   ]
  },
  {
   "cell_type": "code",
   "execution_count": 19,
   "id": "c3a2bb6c",
   "metadata": {},
   "outputs": [
    {
     "name": "stderr",
     "output_type": "stream",
     "text": [
      "(0.000) SELECT \"mall_shop\".\"id\", \"mall_shop\".\"name\", \"mall_shop\".\"description\", \"mall_shop\".\"telephone\", \"mall_shop\".\"photo\", \"mall_shop\".\"created_at\", \"mall_shop\".\"updated_at\" FROM \"mall_shop\" ORDER BY \"mall_shop\".\"id\" ASC LIMIT 10; args=()\n"
     ]
    },
    {
     "name": "stdout",
     "output_type": "stream",
     "text": [
      "10 가게명#6 042-1234-9006\n",
      "9 가게명#5 042-1234-9005\n",
      "8 가게명#4 042-1234-9004\n",
      "7 가게명#3 042-1234-9003\n",
      "6 가게명#2 042-1234-9002\n",
      "5 가게명#1 042-1234-9001\n",
      "4 셀프24시빨래방 010-1234-4321\n",
      "3 투썸플레이스 042-1234-1234\n",
      "2 셀프24시빨래방 010-1234-4321\n",
      "1 투썸플레이스 042-1234-1234\n"
     ]
    }
   ],
   "source": [
    "for shop in reversed(qs.order_by(\"id\")[:10]):\n",
    "    print(shop.pk, shop.name, shop.telephone)\n",
    "\n",
    "# reversed를 통해 ~ 머 근데 이렇게 할일은 별로 없긴 함 \n"
   ]
  },
  {
   "cell_type": "markdown",
   "id": "c774bedb",
   "metadata": {},
   "source": [
    "# Conditions 조건주기 "
   ]
  },
  {
   "cell_type": "code",
   "execution_count": 20,
   "id": "efe859ad",
   "metadata": {},
   "outputs": [],
   "source": [
    "qs = Shop.objects.all()"
   ]
  },
  {
   "cell_type": "code",
   "execution_count": 21,
   "id": "472e6b9f",
   "metadata": {},
   "outputs": [
    {
     "name": "stderr",
     "output_type": "stream",
     "text": [
      "(0.000) SELECT \"mall_shop\".\"id\", \"mall_shop\".\"name\", \"mall_shop\".\"description\", \"mall_shop\".\"telephone\", \"mall_shop\".\"photo\", \"mall_shop\".\"created_at\", \"mall_shop\".\"updated_at\" FROM \"mall_shop\" WHERE \"mall_shop\".\"id\" = 1 ORDER BY \"mall_shop\".\"id\" DESC LIMIT 21; args=(1,)\n"
     ]
    },
    {
     "data": {
      "text/plain": [
       "<QuerySet [<Shop: Shop object (1)>]>"
      ]
     },
     "execution_count": 21,
     "metadata": {},
     "output_type": "execute_result"
    }
   ],
   "source": [
    "# filter<- > exclude  서로 반대의 성격\n",
    "\n",
    "qs.filter(pk=1)#Where조건에서 id(primary key)가 1인것\n",
    "\n"
   ]
  },
  {
   "cell_type": "code",
   "execution_count": 22,
   "id": "20124105",
   "metadata": {
    "scrolled": true
   },
   "outputs": [
    {
     "name": "stderr",
     "output_type": "stream",
     "text": [
      "(0.000) SELECT \"mall_shop\".\"id\", \"mall_shop\".\"name\", \"mall_shop\".\"description\", \"mall_shop\".\"telephone\", \"mall_shop\".\"photo\", \"mall_shop\".\"created_at\", \"mall_shop\".\"updated_at\" FROM \"mall_shop\" WHERE NOT (\"mall_shop\".\"id\" = 1) ORDER BY \"mall_shop\".\"id\" DESC LIMIT 21; args=(1,)\n"
     ]
    },
    {
     "data": {
      "text/plain": [
       "<QuerySet [<Shop: Shop object (206)>, <Shop: Shop object (205)>, <Shop: Shop object (204)>, <Shop: Shop object (203)>, <Shop: Shop object (202)>, <Shop: Shop object (201)>, <Shop: Shop object (200)>, <Shop: Shop object (199)>, <Shop: Shop object (198)>, <Shop: Shop object (197)>, <Shop: Shop object (196)>, <Shop: Shop object (195)>, <Shop: Shop object (194)>, <Shop: Shop object (193)>, <Shop: Shop object (192)>, <Shop: Shop object (191)>, <Shop: Shop object (190)>, <Shop: Shop object (189)>, <Shop: Shop object (188)>, <Shop: Shop object (187)>, '...(remaining elements truncated)...']>"
      ]
     },
     "execution_count": 22,
     "metadata": {},
     "output_type": "execute_result"
    }
   ],
   "source": [
    "qs.exclude(pk=1) # WHERE NOT (\"mall_shop\".\"id\" = 1) "
   ]
  },
  {
   "cell_type": "markdown",
   "id": "ad87625f",
   "metadata": {},
   "source": [
    "    # lt -> less than의 약자 \n",
    "    # lte -> less than equal 작거나 같다\n",
    "    # gt -> greater than\n",
    "    # gte -> greather than equal "
   ]
  },
  {
   "cell_type": "code",
   "execution_count": 25,
   "id": "9542e671",
   "metadata": {},
   "outputs": [
    {
     "name": "stderr",
     "output_type": "stream",
     "text": [
      "(0.000) SELECT \"mall_shop\".\"id\", \"mall_shop\".\"name\", \"mall_shop\".\"description\", \"mall_shop\".\"telephone\", \"mall_shop\".\"photo\", \"mall_shop\".\"created_at\", \"mall_shop\".\"updated_at\" FROM \"mall_shop\" WHERE (\"mall_shop\".\"id\" >= 5 AND \"mall_shop\".\"id\" < 10) ORDER BY \"mall_shop\".\"id\" DESC LIMIT 21; args=(5, 10)\n"
     ]
    },
    {
     "data": {
      "text/plain": [
       "<QuerySet [<Shop: Shop object (9)>, <Shop: Shop object (8)>, <Shop: Shop object (7)>, <Shop: Shop object (6)>, <Shop: Shop object (5)>]>"
      ]
     },
     "execution_count": 25,
     "metadata": {},
     "output_type": "execute_result"
    }
   ],
   "source": [
    "qs.filter(\n",
    "    pk__gte=5, #pk가 5보다 크거나 작고,  \n",
    "    pk__lt =10, # pk(id)가 10보다 작은 것 \n",
    "    # lt -> less than의 약자 \n",
    "    # lte -> less than equal 작거나 같다\n",
    "    # gt -> greater than\n",
    "    # gte -> greather than equal \n",
    "    \n",
    ")"
   ]
  },
  {
   "cell_type": "code",
   "execution_count": null,
   "id": "226cfb4f",
   "metadata": {},
   "outputs": [],
   "source": [
    "qs.filter(pk__gte=5).filter(pk__lt=10)\n",
    "# filter를 수행하면, 이 조건이 부여된 새로운 셋이 만들어짐 \n",
    "# chaining 체이닝 \n"
   ]
  },
  {
   "cell_type": "code",
   "execution_count": 27,
   "id": "ffb36b41",
   "metadata": {},
   "outputs": [],
   "source": [
    "qs1 = Shop.objects.all() # 수행해도 출력 X \n",
    "qs1 = qs1.filter(pk__gte=5) # 이렇게 수행해도 출력 x \n",
    "qs1 = qs1.filter(pk__lt=10)"
   ]
  },
  {
   "cell_type": "code",
   "execution_count": 29,
   "id": "65e6ba72",
   "metadata": {},
   "outputs": [],
   "source": [
    "qs2 = Shop.objects.all().filter(pk__gte=5).filter(pk__lt=10)\n",
    "# 쿼리를 하려고 기다리는 상태\n",
    "# filter를 하면서 계속 조건을 누적해나감\n",
    "# 최대한 기다림\n"
   ]
  },
  {
   "cell_type": "code",
   "execution_count": 30,
   "id": "eb057de2",
   "metadata": {},
   "outputs": [],
   "source": [
    "# QuerySet is Laze.\n"
   ]
  },
  {
   "cell_type": "code",
   "execution_count": 31,
   "id": "e0eeaf41",
   "metadata": {},
   "outputs": [],
   "source": [
    "qs = Shop.objects.all() # 출력이 없기때문에 dB접근 안함\n"
   ]
  },
  {
   "cell_type": "code",
   "execution_count": 32,
   "id": "f82404f4",
   "metadata": {},
   "outputs": [
    {
     "name": "stderr",
     "output_type": "stream",
     "text": [
      "(0.000) SELECT \"mall_shop\".\"id\", \"mall_shop\".\"name\", \"mall_shop\".\"description\", \"mall_shop\".\"telephone\", \"mall_shop\".\"photo\", \"mall_shop\".\"created_at\", \"mall_shop\".\"updated_at\" FROM \"mall_shop\" ORDER BY \"mall_shop\".\"id\" DESC LIMIT 21; args=()\n"
     ]
    },
    {
     "data": {
      "text/plain": [
       "<QuerySet [<Shop: Shop object (206)>, <Shop: Shop object (205)>, <Shop: Shop object (204)>, <Shop: Shop object (203)>, <Shop: Shop object (202)>, <Shop: Shop object (201)>, <Shop: Shop object (200)>, <Shop: Shop object (199)>, <Shop: Shop object (198)>, <Shop: Shop object (197)>, <Shop: Shop object (196)>, <Shop: Shop object (195)>, <Shop: Shop object (194)>, <Shop: Shop object (193)>, <Shop: Shop object (192)>, <Shop: Shop object (191)>, <Shop: Shop object (190)>, <Shop: Shop object (189)>, <Shop: Shop object (188)>, <Shop: Shop object (187)>, '...(remaining elements truncated)...']>"
      ]
     },
     "execution_count": 32,
     "metadata": {},
     "output_type": "execute_result"
    }
   ],
   "source": [
    "Shop.objects.all() # 이렇게 쓰면 DB접근을 함 \n",
    "# Out 으로 값을 보여주는 것은? jupyther"
   ]
  },
  {
   "cell_type": "code",
   "execution_count": 33,
   "id": "64191997",
   "metadata": {},
   "outputs": [],
   "source": [
    "# 위에 두 개의 차이는?\n"
   ]
  },
  {
   "cell_type": "code",
   "execution_count": 36,
   "id": "84c9453f",
   "metadata": {},
   "outputs": [
    {
     "name": "stderr",
     "output_type": "stream",
     "text": [
      "(0.000) SELECT \"mall_shop\".\"id\", \"mall_shop\".\"name\", \"mall_shop\".\"description\", \"mall_shop\".\"telephone\", \"mall_shop\".\"photo\", \"mall_shop\".\"created_at\", \"mall_shop\".\"updated_at\" FROM \"mall_shop\" ORDER BY \"mall_shop\".\"id\" DESC; args=()\n"
     ]
    }
   ],
   "source": [
    "qs = Shop.objects.all()\n",
    "shop_list = list(qs)  # 리스트화 한다는것은 데이터를 올린다는 것\n",
    "# 그런데 데이터가 많으면 많을수록 위험한 코드\n",
    "\n",
    "# 리스트화 시키지 마라~~ \n"
   ]
  },
  {
   "cell_type": "markdown",
   "id": "751dbd9e",
   "metadata": {},
   "source": [
    "# Conditions (OR)"
   ]
  },
  {
   "cell_type": "code",
   "execution_count": 51,
   "id": "536c3cf9",
   "metadata": {},
   "outputs": [
    {
     "name": "stderr",
     "output_type": "stream",
     "text": [
      "(0.000) SELECT \"mall_shop\".\"id\", \"mall_shop\".\"name\", \"mall_shop\".\"description\", \"mall_shop\".\"telephone\", \"mall_shop\".\"photo\", \"mall_shop\".\"created_at\", \"mall_shop\".\"updated_at\" FROM \"mall_shop\" WHERE (\"mall_shop\".\"id\" >= 5 AND \"mall_shop\".\"id\" < 10) ORDER BY \"mall_shop\".\"id\" DESC LIMIT 21; args=(5, 10)\n"
     ]
    },
    {
     "data": {
      "text/plain": [
       "<QuerySet [<Shop: Shop object (9)>, <Shop: Shop object (8)>, <Shop: Shop object (7)>, <Shop: Shop object (6)>, <Shop: Shop object (5)>]>"
      ]
     },
     "execution_count": 51,
     "metadata": {},
     "output_type": "execute_result"
    }
   ],
   "source": [
    "qs = Shop.objects.all()\n",
    "qs.filter(pk__gte=5, pk__lt=10) # AND 조건으로 묶여있음\n"
   ]
  },
  {
   "cell_type": "code",
   "execution_count": 52,
   "id": "820ae4f3",
   "metadata": {},
   "outputs": [],
   "source": [
    "from django.db.models import Q"
   ]
  },
  {
   "cell_type": "code",
   "execution_count": null,
   "id": "f4f87d07",
   "metadata": {},
   "outputs": [],
   "source": [
    "# 필터를 적용하기 전에, Q를 통해서 컨디션을 적용할 수 있음"
   ]
  },
  {
   "cell_type": "code",
   "execution_count": 53,
   "id": "fad9a266",
   "metadata": {},
   "outputs": [
    {
     "data": {
      "text/plain": [
       "<Q: (AND: ('pk__gte', 5))>"
      ]
     },
     "execution_count": 53,
     "metadata": {},
     "output_type": "execute_result"
    }
   ],
   "source": [
    "Q(pk__gte=5) "
   ]
  },
  {
   "cell_type": "code",
   "execution_count": 54,
   "id": "98dbd2bb",
   "metadata": {},
   "outputs": [
    {
     "data": {
      "text/plain": [
       "<Q: (AND: ('pk__lt', 10))>"
      ]
     },
     "execution_count": 54,
     "metadata": {},
     "output_type": "execute_result"
    }
   ],
   "source": [
    "Q(pk__lt=10)# 별도의 객체 "
   ]
  },
  {
   "cell_type": "markdown",
   "id": "4231d053",
   "metadata": {},
   "source": [
    "## AND"
   ]
  },
  {
   "cell_type": "code",
   "execution_count": 55,
   "id": "f14a72cc",
   "metadata": {},
   "outputs": [
    {
     "data": {
      "text/plain": [
       "<Q: (AND: ('pk__gte', 5), ('pk__lt', 10))>"
      ]
     },
     "execution_count": 55,
     "metadata": {},
     "output_type": "execute_result"
    }
   ],
   "source": [
    "Q(pk__gte=5) & Q(pk__lt=10) # & 한개만 ! -> AND조건 \n"
   ]
  },
  {
   "cell_type": "markdown",
   "id": "76982842",
   "metadata": {},
   "source": [
    "## OR"
   ]
  },
  {
   "cell_type": "code",
   "execution_count": 56,
   "id": "7fd195af",
   "metadata": {},
   "outputs": [
    {
     "data": {
      "text/plain": [
       "<Q: (OR: ('pk__gte', 5), ('pk__lt', 10))>"
      ]
     },
     "execution_count": 56,
     "metadata": {},
     "output_type": "execute_result"
    }
   ],
   "source": [
    "Q(pk__gte=5) | Q(pk__lt=10)"
   ]
  },
  {
   "cell_type": "code",
   "execution_count": null,
   "id": "993e240c",
   "metadata": {},
   "outputs": [],
   "source": []
  },
  {
   "cell_type": "code",
   "execution_count": 58,
   "id": "b3d3dd0f",
   "metadata": {},
   "outputs": [
    {
     "name": "stderr",
     "output_type": "stream",
     "text": [
      "(0.016) SELECT \"mall_shop\".\"id\", \"mall_shop\".\"name\", \"mall_shop\".\"description\", \"mall_shop\".\"telephone\", \"mall_shop\".\"photo\", \"mall_shop\".\"created_at\", \"mall_shop\".\"updated_at\" FROM \"mall_shop\" WHERE (\"mall_shop\".\"id\" >= 5 OR \"mall_shop\".\"id\" < 10) ORDER BY \"mall_shop\".\"id\" DESC LIMIT 21; args=(5, 10)\n"
     ]
    },
    {
     "data": {
      "text/plain": [
       "<QuerySet [<Shop: Shop object (206)>, <Shop: Shop object (205)>, <Shop: Shop object (204)>, <Shop: Shop object (203)>, <Shop: Shop object (202)>, <Shop: Shop object (201)>, <Shop: Shop object (200)>, <Shop: Shop object (199)>, <Shop: Shop object (198)>, <Shop: Shop object (197)>, <Shop: Shop object (196)>, <Shop: Shop object (195)>, <Shop: Shop object (194)>, <Shop: Shop object (193)>, <Shop: Shop object (192)>, <Shop: Shop object (191)>, <Shop: Shop object (190)>, <Shop: Shop object (189)>, <Shop: Shop object (188)>, <Shop: Shop object (187)>, '...(remaining elements truncated)...']>"
      ]
     },
     "execution_count": 58,
     "metadata": {},
     "output_type": "execute_result"
    }
   ],
   "source": [
    "qs = Shop.objects.all()\n",
    "qs.filter(\n",
    "    Q(pk__gte=5) | Q(pk__lt=10)\n",
    ")"
   ]
  },
  {
   "cell_type": "code",
   "execution_count": null,
   "id": "8f968d7c",
   "metadata": {},
   "outputs": [],
   "source": []
  },
  {
   "cell_type": "code",
   "execution_count": null,
   "id": "a38c1c30",
   "metadata": {},
   "outputs": [],
   "source": [
    "conditions = Q(pk__gte=5)\n",
    "conditions = conditions | Q(pk__lt=10)\n"
   ]
  },
  {
   "cell_type": "code",
   "execution_count": null,
   "id": "77ee5d06",
   "metadata": {},
   "outputs": [],
   "source": [
    "conditions |= Q(pk__lt=10)\n",
    "# 위에거랑 동일함 "
   ]
  },
  {
   "cell_type": "code",
   "execution_count": null,
   "id": "02ca7992",
   "metadata": {},
   "outputs": [],
   "source": []
  },
  {
   "cell_type": "markdown",
   "id": "9e824bbc",
   "metadata": {},
   "source": [
    "# Get 1 Row"
   ]
  },
  {
   "cell_type": "markdown",
   "id": "1589fdc5",
   "metadata": {},
   "source": [
    "## Get 사용 "
   ]
  },
  {
   "cell_type": "code",
   "execution_count": 38,
   "id": "ed350199",
   "metadata": {
    "scrolled": true
   },
   "outputs": [
    {
     "name": "stderr",
     "output_type": "stream",
     "text": [
      "(0.000) SELECT \"mall_shop\".\"id\", \"mall_shop\".\"name\", \"mall_shop\".\"description\", \"mall_shop\".\"telephone\", \"mall_shop\".\"photo\", \"mall_shop\".\"created_at\", \"mall_shop\".\"updated_at\" FROM \"mall_shop\" WHERE \"mall_shop\".\"id\" = 10 LIMIT 21; args=(10,)\n"
     ]
    },
    {
     "data": {
      "text/plain": [
       "<Shop: Shop object (10)>"
      ]
     },
     "execution_count": 38,
     "metadata": {},
     "output_type": "execute_result"
    }
   ],
   "source": [
    "pk = 10 #한 개의 조건\n",
    "shop = Shop.objects.get(pk=pk) # 가져올 대상이 한 개임을 기대한다.\n",
    "# 한 개가 아니면 예외가 발생\n",
    "shop "
   ]
  },
  {
   "cell_type": "markdown",
   "id": "fb343f00",
   "metadata": {},
   "source": [
    "## filter 사용"
   ]
  },
  {
   "cell_type": "code",
   "execution_count": null,
   "id": "77930a46",
   "metadata": {},
   "outputs": [],
   "source": [
    "shop = Shop.objects.filter(pk=pk)"
   ]
  },
  {
   "cell_type": "code",
   "execution_count": 44,
   "id": "3c9466d7",
   "metadata": {},
   "outputs": [],
   "source": [
    "pk = 10\n",
    "not_existed_pk = 100000"
   ]
  },
  {
   "cell_type": "code",
   "execution_count": 45,
   "id": "4c968f60",
   "metadata": {},
   "outputs": [
    {
     "name": "stderr",
     "output_type": "stream",
     "text": [
      "(0.000) SELECT \"mall_shop\".\"id\", \"mall_shop\".\"name\", \"mall_shop\".\"description\", \"mall_shop\".\"telephone\", \"mall_shop\".\"photo\", \"mall_shop\".\"created_at\", \"mall_shop\".\"updated_at\" FROM \"mall_shop\" WHERE \"mall_shop\".\"id\" = 10 LIMIT 21; args=(10,)\n"
     ]
    }
   ],
   "source": [
    "shop = Shop.objects.get(pk=pk)"
   ]
  },
  {
   "cell_type": "code",
   "execution_count": 46,
   "id": "ae1ab9db",
   "metadata": {},
   "outputs": [
    {
     "name": "stderr",
     "output_type": "stream",
     "text": [
      "(0.000) SELECT \"mall_shop\".\"id\", \"mall_shop\".\"name\", \"mall_shop\".\"description\", \"mall_shop\".\"telephone\", \"mall_shop\".\"photo\", \"mall_shop\".\"created_at\", \"mall_shop\".\"updated_at\" FROM \"mall_shop\" WHERE \"mall_shop\".\"id\" = 100000 LIMIT 21; args=(100000,)\n"
     ]
    },
    {
     "ename": "DoesNotExist",
     "evalue": "Shop matching query does not exist.",
     "output_type": "error",
     "traceback": [
      "\u001b[1;31m---------------------------------------------------------------------------\u001b[0m",
      "\u001b[1;31mDoesNotExist\u001b[0m                              Traceback (most recent call last)",
      "\u001b[1;32m~\\AppData\\Local\\Temp/ipykernel_15964/2871177696.py\u001b[0m in \u001b[0;36m<module>\u001b[1;34m\u001b[0m\n\u001b[1;32m----> 1\u001b[1;33m \u001b[0mShop\u001b[0m\u001b[1;33m.\u001b[0m\u001b[0mobjects\u001b[0m\u001b[1;33m.\u001b[0m\u001b[0mget\u001b[0m\u001b[1;33m(\u001b[0m\u001b[0mpk\u001b[0m\u001b[1;33m=\u001b[0m \u001b[0mnot_existed_pk\u001b[0m\u001b[1;33m)\u001b[0m\u001b[1;33m\u001b[0m\u001b[1;33m\u001b[0m\u001b[0m\n\u001b[0m",
      "\u001b[1;32m~\\AppData\\Local\\Programs\\Python\\Python310\\lib\\site-packages\\django\\db\\models\\manager.py\u001b[0m in \u001b[0;36mmanager_method\u001b[1;34m(self, *args, **kwargs)\u001b[0m\n\u001b[0;32m     83\u001b[0m         \u001b[1;32mdef\u001b[0m \u001b[0mcreate_method\u001b[0m\u001b[1;33m(\u001b[0m\u001b[0mname\u001b[0m\u001b[1;33m,\u001b[0m \u001b[0mmethod\u001b[0m\u001b[1;33m)\u001b[0m\u001b[1;33m:\u001b[0m\u001b[1;33m\u001b[0m\u001b[1;33m\u001b[0m\u001b[0m\n\u001b[0;32m     84\u001b[0m             \u001b[1;32mdef\u001b[0m \u001b[0mmanager_method\u001b[0m\u001b[1;33m(\u001b[0m\u001b[0mself\u001b[0m\u001b[1;33m,\u001b[0m \u001b[1;33m*\u001b[0m\u001b[0margs\u001b[0m\u001b[1;33m,\u001b[0m \u001b[1;33m**\u001b[0m\u001b[0mkwargs\u001b[0m\u001b[1;33m)\u001b[0m\u001b[1;33m:\u001b[0m\u001b[1;33m\u001b[0m\u001b[1;33m\u001b[0m\u001b[0m\n\u001b[1;32m---> 85\u001b[1;33m                 \u001b[1;32mreturn\u001b[0m \u001b[0mgetattr\u001b[0m\u001b[1;33m(\u001b[0m\u001b[0mself\u001b[0m\u001b[1;33m.\u001b[0m\u001b[0mget_queryset\u001b[0m\u001b[1;33m(\u001b[0m\u001b[1;33m)\u001b[0m\u001b[1;33m,\u001b[0m \u001b[0mname\u001b[0m\u001b[1;33m)\u001b[0m\u001b[1;33m(\u001b[0m\u001b[1;33m*\u001b[0m\u001b[0margs\u001b[0m\u001b[1;33m,\u001b[0m \u001b[1;33m**\u001b[0m\u001b[0mkwargs\u001b[0m\u001b[1;33m)\u001b[0m\u001b[1;33m\u001b[0m\u001b[1;33m\u001b[0m\u001b[0m\n\u001b[0m\u001b[0;32m     86\u001b[0m             \u001b[0mmanager_method\u001b[0m\u001b[1;33m.\u001b[0m\u001b[0m__name__\u001b[0m \u001b[1;33m=\u001b[0m \u001b[0mmethod\u001b[0m\u001b[1;33m.\u001b[0m\u001b[0m__name__\u001b[0m\u001b[1;33m\u001b[0m\u001b[1;33m\u001b[0m\u001b[0m\n\u001b[0;32m     87\u001b[0m             \u001b[0mmanager_method\u001b[0m\u001b[1;33m.\u001b[0m\u001b[0m__doc__\u001b[0m \u001b[1;33m=\u001b[0m \u001b[0mmethod\u001b[0m\u001b[1;33m.\u001b[0m\u001b[0m__doc__\u001b[0m\u001b[1;33m\u001b[0m\u001b[1;33m\u001b[0m\u001b[0m\n",
      "\u001b[1;32m~\\AppData\\Local\\Programs\\Python\\Python310\\lib\\site-packages\\django\\db\\models\\query.py\u001b[0m in \u001b[0;36mget\u001b[1;34m(self, *args, **kwargs)\u001b[0m\n\u001b[0;32m    433\u001b[0m             \u001b[1;32mreturn\u001b[0m \u001b[0mclone\u001b[0m\u001b[1;33m.\u001b[0m\u001b[0m_result_cache\u001b[0m\u001b[1;33m[\u001b[0m\u001b[1;36m0\u001b[0m\u001b[1;33m]\u001b[0m\u001b[1;33m\u001b[0m\u001b[1;33m\u001b[0m\u001b[0m\n\u001b[0;32m    434\u001b[0m         \u001b[1;32mif\u001b[0m \u001b[1;32mnot\u001b[0m \u001b[0mnum\u001b[0m\u001b[1;33m:\u001b[0m\u001b[1;33m\u001b[0m\u001b[1;33m\u001b[0m\u001b[0m\n\u001b[1;32m--> 435\u001b[1;33m             raise self.model.DoesNotExist(\n\u001b[0m\u001b[0;32m    436\u001b[0m                 \u001b[1;34m\"%s matching query does not exist.\"\u001b[0m \u001b[1;33m%\u001b[0m\u001b[1;33m\u001b[0m\u001b[1;33m\u001b[0m\u001b[0m\n\u001b[0;32m    437\u001b[0m                 \u001b[0mself\u001b[0m\u001b[1;33m.\u001b[0m\u001b[0mmodel\u001b[0m\u001b[1;33m.\u001b[0m\u001b[0m_meta\u001b[0m\u001b[1;33m.\u001b[0m\u001b[0mobject_name\u001b[0m\u001b[1;33m\u001b[0m\u001b[1;33m\u001b[0m\u001b[0m\n",
      "\u001b[1;31mDoesNotExist\u001b[0m: Shop matching query does not exist."
     ]
    }
   ],
   "source": [
    "Shop.objects.get(pk= not_existed_pk)"
   ]
  },
  {
   "cell_type": "code",
   "execution_count": 49,
   "id": "d279217b",
   "metadata": {},
   "outputs": [
    {
     "name": "stderr",
     "output_type": "stream",
     "text": [
      "(0.000) SELECT \"mall_shop\".\"id\", \"mall_shop\".\"name\", \"mall_shop\".\"description\", \"mall_shop\".\"telephone\", \"mall_shop\".\"photo\", \"mall_shop\".\"created_at\", \"mall_shop\".\"updated_at\" FROM \"mall_shop\" WHERE \"mall_shop\".\"id\" = 100000 ORDER BY \"mall_shop\".\"id\" DESC LIMIT 1; args=(100000,)\n"
     ]
    },
    {
     "ename": "IndexError",
     "evalue": "list index out of range",
     "output_type": "error",
     "traceback": [
      "\u001b[1;31m---------------------------------------------------------------------------\u001b[0m",
      "\u001b[1;31mIndexError\u001b[0m                                Traceback (most recent call last)",
      "\u001b[1;32m~\\AppData\\Local\\Temp/ipykernel_15964/1689393790.py\u001b[0m in \u001b[0;36m<module>\u001b[1;34m\u001b[0m\n\u001b[1;32m----> 1\u001b[1;33m \u001b[0mShop\u001b[0m\u001b[1;33m.\u001b[0m\u001b[0mobjects\u001b[0m\u001b[1;33m.\u001b[0m\u001b[0mfilter\u001b[0m\u001b[1;33m(\u001b[0m\u001b[0mpk\u001b[0m\u001b[1;33m=\u001b[0m\u001b[0mnot_existed_pk\u001b[0m\u001b[1;33m)\u001b[0m\u001b[1;33m[\u001b[0m\u001b[1;36m0\u001b[0m\u001b[1;33m]\u001b[0m\u001b[1;33m\u001b[0m\u001b[1;33m\u001b[0m\u001b[0m\n\u001b[0m",
      "\u001b[1;32m~\\AppData\\Local\\Programs\\Python\\Python310\\lib\\site-packages\\django\\db\\models\\query.py\u001b[0m in \u001b[0;36m__getitem__\u001b[1;34m(self, k)\u001b[0m\n\u001b[0;32m    316\u001b[0m         \u001b[0mqs\u001b[0m\u001b[1;33m.\u001b[0m\u001b[0mquery\u001b[0m\u001b[1;33m.\u001b[0m\u001b[0mset_limits\u001b[0m\u001b[1;33m(\u001b[0m\u001b[0mk\u001b[0m\u001b[1;33m,\u001b[0m \u001b[0mk\u001b[0m \u001b[1;33m+\u001b[0m \u001b[1;36m1\u001b[0m\u001b[1;33m)\u001b[0m\u001b[1;33m\u001b[0m\u001b[1;33m\u001b[0m\u001b[0m\n\u001b[0;32m    317\u001b[0m         \u001b[0mqs\u001b[0m\u001b[1;33m.\u001b[0m\u001b[0m_fetch_all\u001b[0m\u001b[1;33m(\u001b[0m\u001b[1;33m)\u001b[0m\u001b[1;33m\u001b[0m\u001b[1;33m\u001b[0m\u001b[0m\n\u001b[1;32m--> 318\u001b[1;33m         \u001b[1;32mreturn\u001b[0m \u001b[0mqs\u001b[0m\u001b[1;33m.\u001b[0m\u001b[0m_result_cache\u001b[0m\u001b[1;33m[\u001b[0m\u001b[1;36m0\u001b[0m\u001b[1;33m]\u001b[0m\u001b[1;33m\u001b[0m\u001b[1;33m\u001b[0m\u001b[0m\n\u001b[0m\u001b[0;32m    319\u001b[0m \u001b[1;33m\u001b[0m\u001b[0m\n\u001b[0;32m    320\u001b[0m     \u001b[1;32mdef\u001b[0m \u001b[0m__class_getitem__\u001b[0m\u001b[1;33m(\u001b[0m\u001b[0mcls\u001b[0m\u001b[1;33m,\u001b[0m \u001b[1;33m*\u001b[0m\u001b[0margs\u001b[0m\u001b[1;33m,\u001b[0m \u001b[1;33m**\u001b[0m\u001b[0mkwargs\u001b[0m\u001b[1;33m)\u001b[0m\u001b[1;33m:\u001b[0m\u001b[1;33m\u001b[0m\u001b[1;33m\u001b[0m\u001b[0m\n",
      "\u001b[1;31mIndexError\u001b[0m: list index out of range"
     ]
    }
   ],
   "source": [
    "Shop.objects.filter(pk=not_existed_pk)[0] # 오류발생"
   ]
  },
  {
   "cell_type": "code",
   "execution_count": 50,
   "id": "00915629",
   "metadata": {},
   "outputs": [
    {
     "name": "stderr",
     "output_type": "stream",
     "text": [
      "(0.000) SELECT \"mall_shop\".\"id\", \"mall_shop\".\"name\", \"mall_shop\".\"description\", \"mall_shop\".\"telephone\", \"mall_shop\".\"photo\", \"mall_shop\".\"created_at\", \"mall_shop\".\"updated_at\" FROM \"mall_shop\" WHERE \"mall_shop\".\"id\" = 100000 ORDER BY \"mall_shop\".\"id\" DESC LIMIT 1; args=(100000,)\n"
     ]
    }
   ],
   "source": [
    "Shop.objects.filter(pk=not_existed_pk).first()\n",
    "# 지정 Row가 없다면 None을 반환할 뿐, 예외는 발생하지 않는다.\n"
   ]
  },
  {
   "cell_type": "code",
   "execution_count": null,
   "id": "7222a0e9",
   "metadata": {},
   "outputs": [],
   "source": []
  },
  {
   "cell_type": "code",
   "execution_count": null,
   "id": "bd4a3c0d",
   "metadata": {},
   "outputs": [],
   "source": []
  },
  {
   "cell_type": "markdown",
   "id": "ce0509cf",
   "metadata": {},
   "source": [
    "# Update Rows 수정 \n"
   ]
  },
  {
   "cell_type": "markdown",
   "id": "7cab48a9",
   "metadata": {},
   "source": [
    "## 1. 지정 Rows를 수정 \n",
    ": 좀 더 효율적인 방법"
   ]
  },
  {
   "cell_type": "code",
   "execution_count": 59,
   "id": "38fb140f",
   "metadata": {},
   "outputs": [
    {
     "name": "stderr",
     "output_type": "stream",
     "text": [
      "(0.000) SELECT \"mall_shop\".\"id\", \"mall_shop\".\"name\", \"mall_shop\".\"description\", \"mall_shop\".\"telephone\", \"mall_shop\".\"photo\", \"mall_shop\".\"created_at\", \"mall_shop\".\"updated_at\" FROM \"mall_shop\" WHERE \"mall_shop\".\"id\" = 10 LIMIT 21; args=(10,)\n"
     ]
    }
   ],
   "source": [
    "qs = Shop.objects.all()\n",
    "shop = qs.get(pk=10) #모델 객체로 가져오기\n"
   ]
  },
  {
   "cell_type": "code",
   "execution_count": 61,
   "id": "cc806bc9",
   "metadata": {},
   "outputs": [
    {
     "data": {
      "text/plain": [
       "('가게명#6', '042-1234-9006')"
      ]
     },
     "execution_count": 61,
     "metadata": {},
     "output_type": "execute_result"
    }
   ],
   "source": [
    "shop.name, shop.telephone \n",
    "# 내가 번호를 바꿔야 한다면?\n"
   ]
  },
  {
   "cell_type": "code",
   "execution_count": 62,
   "id": "5bf8b006",
   "metadata": {},
   "outputs": [],
   "source": [
    "shop.telephone = '042-1234-0006' # 그냥 shop이라는 변수에 값만 매겨놓은 것.\n",
    "# 아직 DB에 반영이 안됨"
   ]
  },
  {
   "cell_type": "code",
   "execution_count": null,
   "id": "5e4fa4b0",
   "metadata": {},
   "outputs": [],
   "source": [
    "# 이게 반영이 언제되냐 ?\n",
    "shop.save() #이렇게 .save()를 호출하면 돼! "
   ]
  },
  {
   "cell_type": "code",
   "execution_count": null,
   "id": "4de458f9",
   "metadata": {},
   "outputs": [],
   "source": []
  },
  {
   "cell_type": "code",
   "execution_count": null,
   "id": "fa806020",
   "metadata": {},
   "outputs": [],
   "source": []
  },
  {
   "cell_type": "markdown",
   "id": "07f7f6cd",
   "metadata": {},
   "source": [
    "## 2. 지정 범위의 Rows를 수정 "
   ]
  },
  {
   "cell_type": "code",
   "execution_count": 76,
   "id": "012036e0",
   "metadata": {},
   "outputs": [
    {
     "name": "stderr",
     "output_type": "stream",
     "text": [
      "(0.000) UPDATE \"mall_shop\" SET \"description\" = 'Not used description' WHERE \"mall_shop\".\"id\" <= 10; args=('Not used description', 10)\n"
     ]
    },
    {
     "data": {
      "text/plain": [
       "10"
      ]
     },
     "execution_count": 76,
     "metadata": {},
     "output_type": "execute_result"
    }
   ],
   "source": [
    "# 여러개를 변경해야 한다면? 쿼리 셋을 찾아서 바꿔주는 것이 좋음 \n",
    "qs = Shop.objects.all()\n",
    "qs = qs.filter(pk__lte=10)\n",
    "qs.update(\n",
    "    description=\"Not used description\",\n",
    ")\n",
    "# Shop이라는 테이블에 있는 모든 행에 대해서 하려는 것 "
   ]
  },
  {
   "cell_type": "code",
   "execution_count": 71,
   "id": "32b7d75b",
   "metadata": {},
   "outputs": [],
   "source": [
    "qs = qs.filter(pk__lte=10) # pk가 10보다 작거나 같은 조건에 부합하는 행으로만 줄여짐"
   ]
  },
  {
   "cell_type": "code",
   "execution_count": 77,
   "id": "4fd48673",
   "metadata": {},
   "outputs": [
    {
     "name": "stderr",
     "output_type": "stream",
     "text": [
      "(0.000) UPDATE \"mall_shop\" SET \"description\" = 'Not used description' WHERE \"mall_shop\".\"id\" <= 10; args=('Not used description', 10)\n"
     ]
    },
    {
     "data": {
      "text/plain": [
       "10"
      ]
     },
     "execution_count": 77,
     "metadata": {},
     "output_type": "execute_result"
    }
   ],
   "source": [
    "qs.update(description=\"Not used description\",)"
   ]
  },
  {
   "cell_type": "code",
   "execution_count": 73,
   "id": "967c034e",
   "metadata": {},
   "outputs": [
    {
     "name": "stderr",
     "output_type": "stream",
     "text": [
      "(0.000) SELECT \"mall_shop\".\"id\", \"mall_shop\".\"name\", \"mall_shop\".\"description\", \"mall_shop\".\"telephone\", \"mall_shop\".\"photo\", \"mall_shop\".\"created_at\", \"mall_shop\".\"updated_at\" FROM \"mall_shop\" WHERE \"mall_shop\".\"id\" <= 10 ORDER BY \"mall_shop\".\"id\" DESC; args=(10,)\n",
      "(0.047) UPDATE \"mall_shop\" SET \"name\" = '가게명#6', \"description\" = 'not used description', \"telephone\" = '042-1234-9006', \"photo\" = '', \"created_at\" = '2021-12-01 06:45:14.751552', \"updated_at\" = '2021-12-01 07:41:54.211714' WHERE \"mall_shop\".\"id\" = 10; args=('가게명#6', 'not used description', '042-1234-9006', '', '2021-12-01 06:45:14.751552', '2021-12-01 07:41:54.211714', 10)\n",
      "(0.000) UPDATE \"mall_shop\" SET \"name\" = '가게명#5', \"description\" = 'not used description', \"telephone\" = '042-1234-9005', \"photo\" = '', \"created_at\" = '2021-12-01 06:45:14.737855', \"updated_at\" = '2021-12-01 07:41:54.253834' WHERE \"mall_shop\".\"id\" = 9; args=('가게명#5', 'not used description', '042-1234-9005', '', '2021-12-01 06:45:14.737855', '2021-12-01 07:41:54.253834', 9)\n",
      "(0.015) UPDATE \"mall_shop\" SET \"name\" = '가게명#4', \"description\" = 'not used description', \"telephone\" = '042-1234-9004', \"photo\" = '', \"created_at\" = '2021-12-01 06:45:14.727881', \"updated_at\" = '2021-12-01 07:41:54.259818' WHERE \"mall_shop\".\"id\" = 8; args=('가게명#4', 'not used description', '042-1234-9004', '', '2021-12-01 06:45:14.727881', '2021-12-01 07:41:54.259818', 8)\n",
      "(0.000) UPDATE \"mall_shop\" SET \"name\" = '가게명#3', \"description\" = 'not used description', \"telephone\" = '042-1234-9003', \"photo\" = '', \"created_at\" = '2021-12-01 06:45:14.719905', \"updated_at\" = '2021-12-01 07:41:54.267796' WHERE \"mall_shop\".\"id\" = 7; args=('가게명#3', 'not used description', '042-1234-9003', '', '2021-12-01 06:45:14.719905', '2021-12-01 07:41:54.267796', 7)\n",
      "(0.016) UPDATE \"mall_shop\" SET \"name\" = '가게명#2', \"description\" = 'not used description', \"telephone\" = '042-1234-9002', \"photo\" = '', \"created_at\" = '2021-12-01 06:45:14.706938', \"updated_at\" = '2021-12-01 07:41:54.273780' WHERE \"mall_shop\".\"id\" = 6; args=('가게명#2', 'not used description', '042-1234-9002', '', '2021-12-01 06:45:14.706938', '2021-12-01 07:41:54.273780', 6)\n",
      "(0.000) UPDATE \"mall_shop\" SET \"name\" = '가게명#1', \"description\" = 'not used description', \"telephone\" = '042-1234-9001', \"photo\" = '', \"created_at\" = '2021-12-01 06:45:14.688634', \"updated_at\" = '2021-12-01 07:41:54.281764' WHERE \"mall_shop\".\"id\" = 5; args=('가게명#1', 'not used description', '042-1234-9001', '', '2021-12-01 06:45:14.688634', '2021-12-01 07:41:54.281764', 5)\n",
      "(0.015) UPDATE \"mall_shop\" SET \"name\" = '셀프24시빨래방', \"description\" = 'not used description', \"telephone\" = '010-1234-4321', \"photo\" = '', \"created_at\" = '2021-12-01 06:41:15.208367', \"updated_at\" = '2021-12-01 07:41:54.288740' WHERE \"mall_shop\".\"id\" = 4; args=('셀프24시빨래방', 'not used description', '010-1234-4321', '', '2021-12-01 06:41:15.208367', '2021-12-01 07:41:54.288740', 4)\n",
      "(0.000) UPDATE \"mall_shop\" SET \"name\" = '투썸플레이스', \"description\" = 'not used description', \"telephone\" = '042-1234-1234', \"photo\" = '', \"created_at\" = '2021-12-01 06:41:14.489386', \"updated_at\" = '2021-12-01 07:41:54.294724' WHERE \"mall_shop\".\"id\" = 3; args=('투썸플레이스', 'not used description', '042-1234-1234', '', '2021-12-01 06:41:14.489386', '2021-12-01 07:41:54.294724', 3)\n",
      "(0.016) UPDATE \"mall_shop\" SET \"name\" = '셀프24시빨래방', \"description\" = 'not used description', \"telephone\" = '010-1234-4321', \"photo\" = '', \"created_at\" = '2021-12-01 06:05:02.878983', \"updated_at\" = '2021-12-01 07:41:54.305836' WHERE \"mall_shop\".\"id\" = 2; args=('셀프24시빨래방', 'not used description', '010-1234-4321', '', '2021-12-01 06:05:02.878983', '2021-12-01 07:41:54.305836', 2)\n",
      "(0.000) UPDATE \"mall_shop\" SET \"name\" = '투썸플레이스', \"description\" = 'not used description', \"telephone\" = '042-1234-1234', \"photo\" = '', \"created_at\" = '2021-12-01 06:02:41.342895', \"updated_at\" = '2021-12-01 07:41:54.311823' WHERE \"mall_shop\".\"id\" = 1; args=('투썸플레이스', 'not used description', '042-1234-1234', '', '2021-12-01 06:02:41.342895', '2021-12-01 07:41:54.311823', 1)\n"
     ]
    }
   ],
   "source": [
    "qs = Shop.objects.all()\n",
    "qs = qs.filter(pk__lte=10)\n",
    "# qs는 순회가능하다.\n",
    "for shop in qs:\n",
    "    shop.description = \"not used description\"\n",
    "    shop.save()"
   ]
  },
  {
   "cell_type": "code",
   "execution_count": null,
   "id": "676da7a3",
   "metadata": {},
   "outputs": [],
   "source": []
  },
  {
   "cell_type": "code",
   "execution_count": null,
   "id": "2f9e54bb",
   "metadata": {},
   "outputs": [],
   "source": []
  },
  {
   "cell_type": "code",
   "execution_count": null,
   "id": "0dd37b0e",
   "metadata": {},
   "outputs": [],
   "source": []
  }
 ],
 "metadata": {
  "kernelspec": {
   "display_name": "Python 3 (ipykernel)",
   "language": "python",
   "name": "python3"
  },
  "language_info": {
   "codemirror_mode": {
    "name": "ipython",
    "version": 3
   },
   "file_extension": ".py",
   "mimetype": "text/x-python",
   "name": "python",
   "nbconvert_exporter": "python",
   "pygments_lexer": "ipython3",
   "version": "3.10.0"
  }
 },
 "nbformat": 4,
 "nbformat_minor": 5
}
