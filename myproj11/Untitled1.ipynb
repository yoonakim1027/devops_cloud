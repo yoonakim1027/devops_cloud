{
 "cells": [
  {
   "cell_type": "code",
   "execution_count": 3,
   "id": "a05d0610",
   "metadata": {},
   "outputs": [
    {
     "name": "stdout",
     "output_type": "stream",
     "text": [
      "9\n",
      "15\n"
     ]
    }
   ],
   "source": [
    "### 1번 풀이 (가장 많이 사용 )\n",
    "\n",
    "# from _typeshed import OpenBinaryModeUpdating\n",
    "\n",
    "\n",
    "def myfilter(filter_fn, alter_value):\n",
    "    def wrap(fn):\n",
    "        def inner(*args):\n",
    "            new_args = []\n",
    "            for arg in args:\n",
    "                if filter_fn(arg):\n",
    "                    new_args.append(alter_value)\n",
    "                else:\n",
    "                    new_args.append(arg)\n",
    "            return fn(*new_args)\n",
    "        return inner\n",
    "    return wrap\n",
    "\n",
    "@myfilter(lambda i: i % 2 == 0, 0)\n",
    "def mysum(a, b, c, d, e):\n",
    "    return a + b + c + d + e\n",
    "\n",
    "\n",
    "@myfilter(lambda i: i % 2 == 0, 1)\n",
    "def mymultiply(a, b, c, d, e):\n",
    "    return a * b * c * d * e\n",
    "\n",
    "\n",
    "print(mysum(1, 2, 3, 4, 5))  # 9\n",
    "print(mymultiply(1, 2, 3, 4, 5))  # 15\n"
   ]
  },
  {
   "cell_type": "code",
   "execution_count": null,
   "id": "6e2d37bd",
   "metadata": {},
   "outputs": [],
   "source": []
  }
 ],
 "metadata": {
  "kernelspec": {
   "display_name": "Python 3",
   "language": "python",
   "name": "python3"
  },
  "language_info": {
   "codemirror_mode": {
    "name": "ipython",
    "version": 3
   },
   "file_extension": ".py",
   "mimetype": "text/x-python",
   "name": "python",
   "nbconvert_exporter": "python",
   "pygments_lexer": "ipython3",
   "version": "3.8.8"
  }
 },
 "nbformat": 4,
 "nbformat_minor": 5
}
