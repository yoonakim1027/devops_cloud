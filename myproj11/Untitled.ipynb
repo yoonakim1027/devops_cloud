{
 "cells": [
  {
   "cell_type": "code",
   "execution_count": 5,
   "id": "cc05a2fc",
   "metadata": {},
   "outputs": [
    {
     "name": "stdout",
     "output_type": "stream",
     "text": [
      "9\n",
      "15\n"
     ]
    }
   ],
   "source": [
    "\n",
    "# myfilter(함수, 가변인자)\n",
    "def myfilter(filter_fn, alter_value):\n",
    "    def wrap(fn):  # 감싸기 : 인자로 어떤 함수를 받겠다는 것 그 이름이 fn\n",
    "        # myfilter가 호출될때마다 새로 wrap함수가 fn인자를 받아서 호출되는 것\n",
    "        def inner(*args):  # 가변인자 . 그니까 여기에 가변인자가 들어오는 것.\n",
    "            # TODO # new_args를 적절히 구성해 주세요    \n",
    "            # new_args는 리스트 및 튜플 자료구조가 가능             \n",
    "            \n",
    "            # 그니까 args는 내가 받을 숫자들이 되는 것\n",
    "            # 이제 얘네가 filter_fn에 맞는 지 확인하는 함수를 만들어야 함 \n",
    "            \n",
    "            new_args = [] # 새로운 리스트 \n",
    "            for i in args: # args의 값을 하나씩 i에 할당 \n",
    "                if filter_fn(i) == True: #  if filter_fn(i): 동일한 뜻 \n",
    "                    i = alter_value\n",
    "                    new_args.append(i)\n",
    "                else:\n",
    "                    new_args.append(i)\n",
    "                            \n",
    "            \n",
    "            # key : 위에서 받은 가변인자를 리스트에 저장한 곳\n",
    "            # (2) 이 리스트를 하나하나씩 함수에 대입하는 식을 만들어야 함\n",
    "            \n",
    "            # new_args = args # 그러니까 new_args는 변한 애들이 리스트나 튜플로 나와야 함 \n",
    "            return fn(*new_args) \n",
    "            # 여기서 보면 fn은 함수(filter_fn)와 alter_value(가변인자)를 받는 것\n",
    "            # 그래서 fn이라는 함수 값안에 (*new_args)라는 가변 인자를 받는 것. \n",
    "\n",
    "        # args의 값을 fn 함수로 전달\n",
    "\n",
    "        return inner\n",
    "\n",
    "    return wrap\n",
    "\n",
    "\n",
    "# 짝수 제외 홀수만 더하기\n",
    "@myfilter(lambda i: i % 2 == 0, 0)  # myfilter(함수, 가변인자)\n",
    "def mysum(a, b, c, d, e):\n",
    "    return a + b + c + d + e\n",
    "\n",
    "# 근까 함수 값이 들어오면 그거에 if True == 0으로 바꿔줘 라는 내용인데,\n",
    "# 밑에 보면 def mysum(여기는 함수인자 없이 그냥 몇개 인자 받을건지만 나와있음)\n",
    "\n",
    "# 내가 만들어야 할 myfilter에서 필요한 인자는(함수, 그래서 해당하는 값을 뭘로바꿀래?(숫자))\n",
    "# 근까 받은 값들을 함수에 하나씩 넣어서 해당하는 값을 바꿀 숫자로 넣어주는 것 \n",
    "\n",
    "# 짝수는 1로 해서 곱하기\n",
    "@myfilter(lambda i: i % 2 == 0, 1)\n",
    "def mymultiply(a, b, c, d, e):\n",
    "    return a * b * c * d * e\n",
    "\n",
    "\n",
    "# 계산은 그대로 출력이 됨.\n",
    "print(mysum(1, 2, 3, 4, 5))  # 출력값 = 9\n",
    "print(mymultiply(1, 2, 3, 4, 5))  # 출력값 = 15\n"
   ]
  },
  {
   "cell_type": "code",
   "execution_count": null,
   "id": "ae511f1d",
   "metadata": {},
   "outputs": [],
   "source": []
  }
 ],
 "metadata": {
  "kernelspec": {
   "display_name": "Python 3",
   "language": "python",
   "name": "python3"
  },
  "language_info": {
   "codemirror_mode": {
    "name": "ipython",
    "version": 3
   },
   "file_extension": ".py",
   "mimetype": "text/x-python",
   "name": "python",
   "nbconvert_exporter": "python",
   "pygments_lexer": "ipython3",
   "version": "3.8.8"
  }
 },
 "nbformat": 4,
 "nbformat_minor": 5
}
