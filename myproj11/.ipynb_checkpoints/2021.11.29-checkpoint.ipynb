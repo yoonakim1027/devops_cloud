{
 "cells": [
  {
   "cell_type": "code",
   "execution_count": 2,
   "id": "635c594c",
   "metadata": {},
   "outputs": [
    {
     "data": {
      "text/plain": [
       "5"
      ]
     },
     "execution_count": 2,
     "metadata": {},
     "output_type": "execute_result"
    }
   ],
   "source": [
    "3+2"
   ]
  },
  {
   "cell_type": "markdown",
   "id": "6656c0fe",
   "metadata": {},
   "source": [
    "Shift + Enter  -> 실행 "
   ]
  },
  {
   "cell_type": "markdown",
   "id": "dff0c2fb",
   "metadata": {},
   "source": [
    "pip install xlwings (명령 프롬포트에서 )"
   ]
  },
  {
   "cell_type": "code",
   "execution_count": 5,
   "id": "6576a826",
   "metadata": {},
   "outputs": [],
   "source": [
    "import xlwings"
   ]
  },
  {
   "cell_type": "code",
   "execution_count": 6,
   "id": "ad35d991",
   "metadata": {},
   "outputs": [
    {
     "data": {
      "text/plain": [
       "Sheets([<Sheet [통합 문서1]Sheet1>])"
      ]
     },
     "execution_count": 6,
     "metadata": {},
     "output_type": "execute_result"
    }
   ],
   "source": [
    "xlwings.sheets"
   ]
  },
  {
   "cell_type": "code",
   "execution_count": 7,
   "id": "67881371",
   "metadata": {},
   "outputs": [
    {
     "data": {
      "text/plain": [
       "[['message', 'browser'],\n",
       " ['첫 로그', 'chrome'],\n",
       " ['두 번째 로그', 'chrome'],\n",
       " ['세 번째 로그', 'chrome'],\n",
       " ['로그 #4', 'chrome'],\n",
       " ['로그 #5', 'chrome'],\n",
       " ['로그 #6', 'chrome'],\n",
       " ['로그 #7', 'chrome'],\n",
       " ['로그 #8', 'chrome'],\n",
       " ['로그 #9', 'chrome'],\n",
       " ['로그 #10', 'chrome']]"
      ]
     },
     "execution_count": 7,
     "metadata": {},
     "output_type": "execute_result"
    }
   ],
   "source": [
    "xlwings.Range(\"A1\").expand().value"
   ]
  },
  {
   "cell_type": "code",
   "execution_count": 8,
   "id": "0012c648",
   "metadata": {},
   "outputs": [],
   "source": [
    "# 엑셀에서 파이썬 함수 호출도 가능함 "
   ]
  },
  {
   "cell_type": "code",
   "execution_count": 9,
   "id": "45c9696d",
   "metadata": {},
   "outputs": [
    {
     "ename": "SyntaxError",
     "evalue": "invalid syntax (<ipython-input-9-6b84d36d0254>, line 1)",
     "output_type": "error",
     "traceback": [
      "\u001b[1;36m  File \u001b[1;32m\"<ipython-input-9-6b84d36d0254>\"\u001b[1;36m, line \u001b[1;32m1\u001b[0m\n\u001b[1;33m    .value\u001b[0m\n\u001b[1;37m    ^\u001b[0m\n\u001b[1;31mSyntaxError\u001b[0m\u001b[1;31m:\u001b[0m invalid syntax\n"
     ]
    }
   ],
   "source": [
    ".value"
   ]
  },
  {
   "cell_type": "markdown",
   "id": "3140c261",
   "metadata": {},
   "source": [
    "첫번째 줄이 컬럼 \n",
    "\n",
    "두번째 줄부터 데이터\n"
   ]
  },
  {
   "cell_type": "code",
   "execution_count": 8,
   "id": "95242a5c",
   "metadata": {},
   "outputs": [
    {
     "data": {
      "text/plain": [
       "[['message', 'browser'],\n",
       " ['첫 로그', 'chrome'],\n",
       " ['두 번째 로그', 'chrome'],\n",
       " ['세 번째 로그', 'chrome'],\n",
       " ['로그 #4', 'chrome'],\n",
       " ['로그 #5', 'chrome'],\n",
       " ['로그 #6', 'chrome'],\n",
       " ['로그 #7', 'chrome'],\n",
       " ['로그 #8', 'chrome'],\n",
       " ['로그 #9', 'chrome'],\n",
       " ['로그 #10', 'chrome']]"
      ]
     },
     "execution_count": 8,
     "metadata": {},
     "output_type": "execute_result"
    }
   ],
   "source": [
    "total_rows = xlwings.Range(\"A1\").expand().value\n",
    "total_rows # 첫번째 줄이 컬럼명 / 두 번째 줄부터가 실제 데이터"
   ]
  },
  {
   "cell_type": "markdown",
   "id": "453bbe15",
   "metadata": {},
   "source": [
    "리스트는 각각의 값들을 구분할 수 있는 식별자가 인덱스\n"
   ]
  },
  {
   "cell_type": "code",
   "execution_count": null,
   "id": "11d57cd4",
   "metadata": {},
   "outputs": [],
   "source": []
  },
  {
   "cell_type": "code",
   "execution_count": 11,
   "id": "aacf9110",
   "metadata": {},
   "outputs": [],
   "source": [
    "# 리스트를 사전으로 형변환 하기 "
   ]
  },
  {
   "cell_type": "code",
   "execution_count": 9,
   "id": "599036e9",
   "metadata": {},
   "outputs": [
    {
     "data": {
      "text/plain": [
       "['message', 'browser']"
      ]
     },
     "execution_count": 9,
     "metadata": {},
     "output_type": "execute_result"
    }
   ],
   "source": [
    "column_names = total_rows[0]\n",
    "column_names # "
   ]
  },
  {
   "cell_type": "code",
   "execution_count": 10,
   "id": "88bd2e57",
   "metadata": {},
   "outputs": [
    {
     "data": {
      "text/plain": [
       "[['첫 로그', 'chrome'],\n",
       " ['두 번째 로그', 'chrome'],\n",
       " ['세 번째 로그', 'chrome'],\n",
       " ['로그 #4', 'chrome'],\n",
       " ['로그 #5', 'chrome'],\n",
       " ['로그 #6', 'chrome'],\n",
       " ['로그 #7', 'chrome'],\n",
       " ['로그 #8', 'chrome'],\n",
       " ['로그 #9', 'chrome'],\n",
       " ['로그 #10', 'chrome']]"
      ]
     },
     "execution_count": 10,
     "metadata": {},
     "output_type": "execute_result"
    }
   ],
   "source": [
    "total_rows[1:] # 다수의 컬럼에 대한 데이터가 중첩되어 있음 "
   ]
  },
  {
   "cell_type": "markdown",
   "id": "6f752bbf",
   "metadata": {},
   "source": [
    "zip(column_names, row) \n",
    "# 이렇게 한 다음에, 바로 dict으로 변경하려고 \n",
    "dict(zip(column_names, row))"
   ]
  },
  {
   "cell_type": "code",
   "execution_count": 14,
   "id": "8ec601a3",
   "metadata": {},
   "outputs": [
    {
     "name": "stdout",
     "output_type": "stream",
     "text": [
      "{'message': '첫 로그', 'browser': 'chrome'}\n",
      "{'message': '두 번째 로그', 'browser': 'chrome'}\n",
      "{'message': '세 번째 로그', 'browser': 'chrome'}\n",
      "{'message': '로그 #4', 'browser': 'chrome'}\n",
      "{'message': '로그 #5', 'browser': 'chrome'}\n",
      "{'message': '로그 #6', 'browser': 'chrome'}\n",
      "{'message': '로그 #7', 'browser': 'chrome'}\n",
      "{'message': '로그 #8', 'browser': 'chrome'}\n",
      "{'message': '로그 #9', 'browser': 'chrome'}\n",
      "{'message': '로그 #10', 'browser': 'chrome'}\n"
     ]
    }
   ],
   "source": [
    "for row in total_rows[1:]:\n",
    "    row_dict = dict(zip(column_names, row))\n",
    "    print(row_dict)\n",
    "    \n",
    "    # for 루프 안에서 바로 insert 쿼리를 사용할 수 있지만, \n",
    "    # 이미 만들어진 데이터를 넣어주는 것들과 분리하는 것이 중요 \n",
    "    # 섞여버리면 꼬이고꼬여서 스파게티 코드가 됨 \n",
    "    \n",
    "# 최대한 분리를 해주는 것이 중요 \n",
    "\n"
   ]
  },
  {
   "cell_type": "code",
   "execution_count": 15,
   "id": "61531cee",
   "metadata": {},
   "outputs": [
    {
     "data": {
      "text/plain": [
       "[{'message': '첫 로그', 'browser': 'chrome'},\n",
       " {'message': '두 번째 로그', 'browser': 'chrome'},\n",
       " {'message': '세 번째 로그', 'browser': 'chrome'},\n",
       " {'message': '로그 #4', 'browser': 'chrome'},\n",
       " {'message': '로그 #5', 'browser': 'chrome'},\n",
       " {'message': '로그 #6', 'browser': 'chrome'},\n",
       " {'message': '로그 #7', 'browser': 'chrome'},\n",
       " {'message': '로그 #8', 'browser': 'chrome'},\n",
       " {'message': '로그 #9', 'browser': 'chrome'},\n",
       " {'message': '로그 #10', 'browser': 'chrome'}]"
      ]
     },
     "execution_count": 15,
     "metadata": {},
     "output_type": "execute_result"
    }
   ],
   "source": [
    "# 리스트 컴프리헨션 버젼 \n",
    "[\n",
    "    dict(zip(column_names, row))\n",
    "  for row in total_rows[1:] \n",
    "] \n",
    "# 새로운 리스트 순회를 돌면서,\n",
    "# 새로운 리스트를 만들고,\n",
    "# 새로운 리스트에 append 할 대상을 for 앞에 넣어주면 됨"
   ]
  },
  {
   "cell_type": "code",
   "execution_count": 11,
   "id": "d5eea3be",
   "metadata": {},
   "outputs": [
    {
     "data": {
      "text/plain": [
       "[{'message': '첫 로그', 'browser': 'chrome'},\n",
       " {'message': '두 번째 로그', 'browser': 'chrome'},\n",
       " {'message': '세 번째 로그', 'browser': 'chrome'},\n",
       " {'message': '로그 #4', 'browser': 'chrome'},\n",
       " {'message': '로그 #5', 'browser': 'chrome'},\n",
       " {'message': '로그 #6', 'browser': 'chrome'},\n",
       " {'message': '로그 #7', 'browser': 'chrome'},\n",
       " {'message': '로그 #8', 'browser': 'chrome'},\n",
       " {'message': '로그 #9', 'browser': 'chrome'},\n",
       " {'message': '로그 #10', 'browser': 'chrome'}]"
      ]
     },
     "execution_count": 11,
     "metadata": {},
     "output_type": "execute_result"
    }
   ],
   "source": [
    "rows_data = [\n",
    "    dict(zip(column_names, row))\n",
    "    for row in total_rows[1:] \n",
    "]\n",
    "\n",
    "rows_data"
   ]
  },
  {
   "cell_type": "code",
   "execution_count": null,
   "id": "a18c355c",
   "metadata": {},
   "outputs": [],
   "source": []
  },
  {
   "cell_type": "code",
   "execution_count": null,
   "id": "f9f969df",
   "metadata": {},
   "outputs": [],
   "source": []
  },
  {
   "cell_type": "markdown",
   "id": "5ef6bf75",
   "metadata": {},
   "source": [
    "# 정리 "
   ]
  },
  {
   "cell_type": "code",
   "execution_count": 12,
   "id": "284e64eb",
   "metadata": {},
   "outputs": [
    {
     "data": {
      "text/plain": [
       "[{'message': '첫 로그', 'browser': 'chrome'},\n",
       " {'message': '두 번째 로그', 'browser': 'chrome'},\n",
       " {'message': '세 번째 로그', 'browser': 'chrome'},\n",
       " {'message': '로그 #4', 'browser': 'chrome'},\n",
       " {'message': '로그 #5', 'browser': 'chrome'},\n",
       " {'message': '로그 #6', 'browser': 'chrome'},\n",
       " {'message': '로그 #7', 'browser': 'chrome'},\n",
       " {'message': '로그 #8', 'browser': 'chrome'},\n",
       " {'message': '로그 #9', 'browser': 'chrome'},\n",
       " {'message': '로그 #10', 'browser': 'chrome'}]"
      ]
     },
     "execution_count": 12,
     "metadata": {},
     "output_type": "execute_result"
    }
   ],
   "source": [
    "def get_rows_data():\n",
    "    total_rows = xlwings.Range(\"A1\").expand().value\n",
    "    column_names = total_rows[0]\n",
    "    rows_data = [\n",
    "        dict(zip(column_names, row))\n",
    "        for row in total_rows[1:]\n",
    "    ]\n",
    "    return rows_data\n",
    "\n",
    "get_rows_data()"
   ]
  },
  {
   "cell_type": "code",
   "execution_count": 13,
   "id": "50cba371",
   "metadata": {},
   "outputs": [],
   "source": [
    "DATABASE = {\n",
    "    \"host\" : \"127.0.0.1\",\n",
    "    \"user\" : \"root\",\n",
    "    \"password\" : \"1234\",\n",
    "    \"db\" : \"myproj11_db\",\n",
    "    \"charset\" : \"utf8\"\n",
    "} "
   ]
  },
  {
   "cell_type": "code",
   "execution_count": 14,
   "id": "7bb31603",
   "metadata": {},
   "outputs": [],
   "source": [
    "import pymysql"
   ]
  },
  {
   "cell_type": "code",
   "execution_count": 15,
   "id": "08599033",
   "metadata": {},
   "outputs": [
    {
     "name": "stdout",
     "output_type": "stream",
     "text": [
      "()\n"
     ]
    }
   ],
   "source": [
    "connection = pymysql.connect(**DATABASE)\n",
    "cursor = connection.cursor()\n",
    "cursor.execute(\"SELECT * FROM log;\")\n",
    "print(cursor.fetchall())\n",
    "cursor.close()"
   ]
  },
  {
   "cell_type": "code",
   "execution_count": null,
   "id": "5fb383cf",
   "metadata": {},
   "outputs": [],
   "source": []
  },
  {
   "cell_type": "markdown",
   "id": "99d496df",
   "metadata": {},
   "source": [
    "# with 절 적용\n"
   ]
  },
  {
   "cell_type": "code",
   "execution_count": 27,
   "id": "602bc838",
   "metadata": {},
   "outputs": [],
   "source": [
    "from contextlib import contextmanager\n",
    "import pymysql\n",
    "\n",
    "\n",
    "@contextmanager #장식자\n",
    "def db_cursor():\n",
    "    connection = pymysql.connect(**DATABASE)\n",
    "    cursor = connection.cursor()\n",
    "    try:\n",
    "        yield cursor\n",
    "    finally:\n",
    "        cursor.close()\n",
    "    \n",
    "# 이렇게 db_cursor를 with 절로 사용 가능\n"
   ]
  },
  {
   "cell_type": "code",
   "execution_count": 28,
   "id": "46310562",
   "metadata": {},
   "outputs": [
    {
     "name": "stdout",
     "output_type": "stream",
     "text": [
      "((4, '첫 로그', 'chrome'),)\n"
     ]
    }
   ],
   "source": [
    "with db_cursor() as cursor:\n",
    "    cursor.execute(\"SELECT * FROM log\")\n",
    "    print(cursor.fetchall())\n",
    "    \n",
    "    # db접근때는 with를 씀! "
   ]
  },
  {
   "cell_type": "code",
   "execution_count": 18,
   "id": "a3313ae7",
   "metadata": {},
   "outputs": [
    {
     "data": {
      "text/plain": [
       "[{'message': '첫 로그', 'browser': 'chrome'},\n",
       " {'message': '두 번째 로그', 'browser': 'chrome'},\n",
       " {'message': '세 번째 로그', 'browser': 'chrome'},\n",
       " {'message': '로그 #4', 'browser': 'chrome'},\n",
       " {'message': '로그 #5', 'browser': 'chrome'},\n",
       " {'message': '로그 #6', 'browser': 'chrome'},\n",
       " {'message': '로그 #7', 'browser': 'chrome'},\n",
       " {'message': '로그 #8', 'browser': 'chrome'},\n",
       " {'message': '로그 #9', 'browser': 'chrome'},\n",
       " {'message': '로그 #10', 'browser': 'chrome'}]"
      ]
     },
     "execution_count": 18,
     "metadata": {},
     "output_type": "execute_result"
    }
   ],
   "source": [
    "get_rows_data()"
   ]
  },
  {
   "cell_type": "code",
   "execution_count": null,
   "id": "509d6800",
   "metadata": {},
   "outputs": [],
   "source": []
  },
  {
   "cell_type": "code",
   "execution_count": null,
   "id": "15dff146",
   "metadata": {},
   "outputs": [],
   "source": []
  },
  {
   "cell_type": "code",
   "execution_count": 19,
   "id": "24b6f118",
   "metadata": {},
   "outputs": [],
   "source": [
    "# Header"
   ]
  },
  {
   "cell_type": "markdown",
   "id": "01bb8326",
   "metadata": {},
   "source": [
    "명령 모드에서 M 누르면 마크다운으로 변경됨\n"
   ]
  },
  {
   "cell_type": "code",
   "execution_count": 25,
   "id": "9b837268",
   "metadata": {},
   "outputs": [
    {
     "ename": "AttributeError",
     "evalue": "'Cursor' object has no attribute 'commit'",
     "output_type": "error",
     "traceback": [
      "\u001b[1;31m---------------------------------------------------------------------------\u001b[0m",
      "\u001b[1;31mAttributeError\u001b[0m                            Traceback (most recent call last)",
      "\u001b[1;32m~\\AppData\\Local\\Temp/ipykernel_8216/615896496.py\u001b[0m in \u001b[0;36m<module>\u001b[1;34m\u001b[0m\n\u001b[0;32m      4\u001b[0m     \u001b[0msql\u001b[0m \u001b[1;33m=\u001b[0m \u001b[1;34m'INSERT INTO LOG(message,browser) VALUES(%s,%s)'\u001b[0m\u001b[1;33m\u001b[0m\u001b[1;33m\u001b[0m\u001b[0m\n\u001b[0;32m      5\u001b[0m     \u001b[0mcursor\u001b[0m\u001b[1;33m.\u001b[0m\u001b[0mexecute\u001b[0m\u001b[1;33m(\u001b[0m\u001b[0msql\u001b[0m\u001b[1;33m,\u001b[0m \u001b[1;33m[\u001b[0m\u001b[1;34m\"첫 로그\"\u001b[0m\u001b[1;33m,\u001b[0m \u001b[1;34m\"chrome\"\u001b[0m\u001b[1;33m]\u001b[0m\u001b[1;33m)\u001b[0m\u001b[1;33m\u001b[0m\u001b[1;33m\u001b[0m\u001b[0m\n\u001b[1;32m----> 6\u001b[1;33m     \u001b[0mcursor\u001b[0m\u001b[1;33m.\u001b[0m\u001b[0mcommit\u001b[0m\u001b[1;33m(\u001b[0m\u001b[1;33m)\u001b[0m\u001b[1;33m\u001b[0m\u001b[1;33m\u001b[0m\u001b[0m\n\u001b[0m",
      "\u001b[1;31mAttributeError\u001b[0m: 'Cursor' object has no attribute 'commit'"
     ]
    }
   ],
   "source": [
    "column_data = {'message': '첫 로그' , 'browser':'chrome'}\n",
    "\n",
    "with db_cursor() as cursor: # VALU\n",
    "    sql = 'INSERT INTO LOG(message,browser) VALUES(%s,%s)'\n",
    "    cursor.execute(sql, [\"첫 로그\", \"chrome\"])\n",
    "    cursor.commit()"
   ]
  },
  {
   "cell_type": "code",
   "execution_count": 24,
   "id": "ebe36385",
   "metadata": {},
   "outputs": [
    {
     "data": {
      "text/plain": [
       "[{'message': '첫 로그', 'browser': 'chrome'},\n",
       " {'message': '두 번째 로그', 'browser': 'chrome'},\n",
       " {'message': '세 번째 로그', 'browser': 'chrome'},\n",
       " {'message': '로그 #4', 'browser': 'chrome'},\n",
       " {'message': '로그 #5', 'browser': 'chrome'},\n",
       " {'message': '로그 #6', 'browser': 'chrome'},\n",
       " {'message': '로그 #7', 'browser': 'chrome'},\n",
       " {'message': '로그 #8', 'browser': 'chrome'},\n",
       " {'message': '로그 #9', 'browser': 'chrome'},\n",
       " {'message': '로그 #10', 'browser': 'chrome'}]"
      ]
     },
     "execution_count": 24,
     "metadata": {},
     "output_type": "execute_result"
    }
   ],
   "source": [
    "get_rows_data()"
   ]
  },
  {
   "cell_type": "markdown",
   "id": "a952a977",
   "metadata": {},
   "source": [
    "- 우리가 sql문자열을 직접 조합하면 X \n",
    "- 조합하게 되면? 보안 실수를 범하게 되는 코드가 됨 \n"
   ]
  },
  {
   "cell_type": "code",
   "execution_count": null,
   "id": "2dd58d2b",
   "metadata": {},
   "outputs": [],
   "source": [
    "    # 영역에 값을 지정해주는 것은 우리가 해주는 게 아니라 라이브러리에서자동으로 하게 하는 것"
   ]
  },
  {
   "cell_type": "code",
   "execution_count": null,
   "id": "64a43204",
   "metadata": {},
   "outputs": [],
   "source": [
    "with db_cursor() as cursor: # VALU\n",
    "    for row_dict in get_rows_data():\n",
    "        sql = 'INSERT INTO LOG(message,browser) VALUES(%(message)s,%(browser)s)'\n",
    "        cursor.execute(sql, [\"첫 로그\", \"chrome\"])\n"
   ]
  },
  {
   "cell_type": "markdown",
   "id": "bab85325",
   "metadata": {},
   "source": [
    "# insert"
   ]
  },
  {
   "cell_type": "code",
   "execution_count": 29,
   "id": "3c5e1550",
   "metadata": {},
   "outputs": [],
   "source": [
    "column_data = {'message': '첫 로그', 'browser': 'chrome'}\n",
    "\n",
    "with db_cursor() as cursor:\n",
    "    for row_dict in get_rows_data():\n",
    "        sql = \"INSERT INTO LOG(message, browser) VALUES(%(message)s, %(browser)s)\"\n",
    "        cursor.execute(sql, row_dict)"
   ]
  },
  {
   "cell_type": "code",
   "execution_count": null,
   "id": "06ecccfb",
   "metadata": {},
   "outputs": [],
   "source": []
  },
  {
   "cell_type": "markdown",
   "id": "f9cf9152",
   "metadata": {},
   "source": [
    "# select"
   ]
  },
  {
   "cell_type": "markdown",
   "id": "00ffb4ae",
   "metadata": {},
   "source": [
    "##버전1"
   ]
  },
  {
   "cell_type": "code",
   "execution_count": 32,
   "id": "73215af1",
   "metadata": {},
   "outputs": [
    {
     "name": "stdout",
     "output_type": "stream",
     "text": [
      "(4, '첫 로그', 'chrome')\n",
      "(15, '두번째 로그', 'chrome')\n"
     ]
    }
   ],
   "source": [
    "with db_cursor() as cursor:\n",
    "    sql = \"SELECT * FROM LOG\"\n",
    "    cursor.execute(sql)\n",
    "    while True:\n",
    "        row = cursor.fetchone()\n",
    "        if row is None:\n",
    "            break\n",
    "        print(row)"
   ]
  },
  {
   "cell_type": "markdown",
   "id": "762496be",
   "metadata": {},
   "source": [
    "##버전2 -> 보통 이 버전으로 써야 훨씬 값을 자연스럽게 가져올 수 있음"
   ]
  },
  {
   "cell_type": "code",
   "execution_count": 33,
   "id": "e69b6bfc",
   "metadata": {
    "scrolled": true
   },
   "outputs": [
    {
     "name": "stdout",
     "output_type": "stream",
     "text": [
      "(4, '첫 로그', 'chrome')\n",
      "(15, '두번째 로그', 'chrome')\n"
     ]
    }
   ],
   "source": [
    "with db_cursor() as cursor:\n",
    "    sql = \"SELECT * FROM LOG\"\n",
    "    cursor.execute(sql)\n",
    "    for row in cursor:\n",
    "        print(row)"
   ]
  },
  {
   "cell_type": "code",
   "execution_count": null,
   "id": "08c9b899",
   "metadata": {},
   "outputs": [],
   "source": [
    "##id 찾기 "
   ]
  },
  {
   "cell_type": "code",
   "execution_count": 36,
   "id": "124ef29e",
   "metadata": {},
   "outputs": [
    {
     "name": "stdout",
     "output_type": "stream",
     "text": [
      "(4, '첫 로그', 'chrome')\n"
     ]
    }
   ],
   "source": [
    "with db_cursor() as cursor:\n",
    "    sql = \"SELECT * FROM LOG WHERE id = 4\"\n",
    "    cursor.execute(sql)\n",
    "    for row in cursor:\n",
    "        print(row)"
   ]
  },
  {
   "cell_type": "code",
   "execution_count": 37,
   "id": "ed680002",
   "metadata": {},
   "outputs": [
    {
     "name": "stdout",
     "output_type": "stream",
     "text": [
      "(4, '첫 로그', 'chrome')\n"
     ]
    }
   ],
   "source": [
    "with db_cursor() as cursor:\n",
    "    log_id = 4 #위에서는 쿼리로 불러왔던 것을 변수로 지정하기 \n",
    "    sql = \"SELECT * FROM LOG WHERE id = \" + str(log_id)\n",
    "    cursor.execute(sql)\n",
    "    for row in cursor:\n",
    "        print(row)"
   ]
  },
  {
   "cell_type": "code",
   "execution_count": null,
   "id": "730a4375",
   "metadata": {},
   "outputs": [],
   "source": [
    "# 원래는 sql에 직접 숫자를 넣었는데,\n",
    "# '1 or 1'  앞 조건이 참이거나, 뒤에 조건이 참이면 참! \n",
    "# 그럼 1 or 1 -> 앞에서 부합이 안되도, 뒤에도 1이니까 걍 참으로 나옴\n",
    "# 그러면 있는 데이터가 모두 출력될 것 \n",
    "# 이렇게 되면 안되는 거임! 그럼 어떻게 해야할까 ?\n",
    "\n",
    "with db_cursor() as cursor:\n",
    "    log_id = '1 or 1' \n",
    "    sql = \"SELECT * FROM LOG WHERE id = 1\" + str(log_id)\n",
    "    sql = \"\"\n",
    "    cursor.execute(sql)\n",
    "    for row in cursor:\n",
    "        print(row)"
   ]
  },
  {
   "cell_type": "markdown",
   "id": "555cc6ad",
   "metadata": {},
   "source": [
    "# SQL Injection 공격의 예"
   ]
  },
  {
   "cell_type": "code",
   "execution_count": 40,
   "id": "4125f89f",
   "metadata": {},
   "outputs": [],
   "source": [
    "with db_cursor() as cursor:\n",
    "    log_id = '1 or 1' \n",
    "    sql = \"SELECT * FROM LOG WHERE id = %s\" # %s 값을 넣을 공간만 확보\n",
    "    cursor.execute(sql, [log_id]) # 인자만 순서대로 지정해주면 됨 \n",
    "    for row in cursor:\n",
    "        print(row)\n",
    "        \n",
    "# 이렇게하면 출력이 없음!! \n",
    "# SQL Injection SQL 삽입공격"
   ]
  },
  {
   "cell_type": "markdown",
   "id": "254d9948",
   "metadata": {},
   "source": [
    "# 데이터 맵핑의 예 "
   ]
  },
  {
   "cell_type": "code",
   "execution_count": 46,
   "id": "34adb036",
   "metadata": {},
   "outputs": [
    {
     "data": {
      "text/plain": [
       "((4, '첫 로그', 'chrome'),\n",
       " (15, '두번째 로그', 'chrome'),\n",
       " (16, '첫 로그', 'chrome'),\n",
       " (17, '두번째 로그', 'chrome'),\n",
       " (18, '세번째 로그', 'chrome'),\n",
       " (19, '네번째 로그', 'chrome'))"
      ]
     },
     "execution_count": 46,
     "metadata": {},
     "output_type": "execute_result"
    }
   ],
   "source": [
    "with db_cursor() as cursor:\n",
    "    cursor.execute(\"SELECT * FROM log\")\n",
    "    rows_data = cursor.fetchall() # 이 자체가 전체의 데이터가 됨\n",
    "    for row in cursor:\n",
    "        # row[0] # id\n",
    "        # row[1] # message\n",
    "        # row[2] # chrome\n",
    "        print(row)\n",
    "rows_data"
   ]
  },
  {
   "cell_type": "code",
   "execution_count": 47,
   "id": "93f3b1d8",
   "metadata": {},
   "outputs": [],
   "source": [
    "# 매번 인덱스로 불러오기에는 번거롭고 어려움! \n",
    "\n",
    "# 그래서 사전으로 변경해서 하는 방법도 있음 \n"
   ]
  },
  {
   "cell_type": "markdown",
   "id": "9058f63c",
   "metadata": {},
   "source": [
    "# Dict으로의 변환 \n"
   ]
  },
  {
   "cell_type": "code",
   "execution_count": null,
   "id": "87c88638",
   "metadata": {},
   "outputs": [],
   "source": []
  },
  {
   "cell_type": "markdown",
   "id": "1a79e929",
   "metadata": {},
   "source": [
    "# namedtuple"
   ]
  },
  {
   "cell_type": "code",
   "execution_count": 48,
   "id": "1af2003d",
   "metadata": {},
   "outputs": [
    {
     "data": {
      "text/plain": [
       "((4, '첫 로그', 'chrome'),\n",
       " (15, '두번째 로그', 'chrome'),\n",
       " (16, '첫 로그', 'chrome'),\n",
       " (17, '두번째 로그', 'chrome'),\n",
       " (18, '세번째 로그', 'chrome'),\n",
       " (19, '네번째 로그', 'chrome'))"
      ]
     },
     "execution_count": 48,
     "metadata": {},
     "output_type": "execute_result"
    }
   ],
   "source": [
    "rows_data"
   ]
  },
  {
   "cell_type": "code",
   "execution_count": 49,
   "id": "e80f913c",
   "metadata": {},
   "outputs": [],
   "source": [
    "# 지금 rows_data -> 인덱스로 불러내는 것이 번거로움(컬럼의 갯수가 많아질 수록 더! )"
   ]
  },
  {
   "cell_type": "code",
   "execution_count": 52,
   "id": "813597ee",
   "metadata": {},
   "outputs": [
    {
     "data": {
      "text/plain": [
       "(1, 'message', 'chrome')"
      ]
     },
     "execution_count": 52,
     "metadata": {},
     "output_type": "execute_result"
    }
   ],
   "source": [
    "from collections import namedtuple\n",
    "\n",
    "Log = namedtuple('Log','id message browser') # 인자가 딱 두개\n",
    "# 'id message browser' : 이렇게 한 문자열로 들어가는 것 \n",
    "(1, 'message', 'chrome')"
   ]
  },
  {
   "cell_type": "code",
   "execution_count": 58,
   "id": "46ef7cb3",
   "metadata": {},
   "outputs": [
    {
     "name": "stdout",
     "output_type": "stream",
     "text": [
      "1\n",
      "message\n",
      "chrome\n"
     ]
    }
   ],
   "source": [
    "log = Log(1, 'message', 'chrome')\n",
    "print(log[0])\n",
    "print(log[1])\n",
    "print(log[2])\n",
    "# 튜플이라서 이렇게 밖에 못씀 ! \n"
   ]
  },
  {
   "cell_type": "code",
   "execution_count": 59,
   "id": "e1a0b654",
   "metadata": {},
   "outputs": [],
   "source": [
    "# id, message, browser"
   ]
  },
  {
   "cell_type": "code",
   "execution_count": 61,
   "id": "8958f622",
   "metadata": {},
   "outputs": [
    {
     "data": {
      "text/plain": [
       "(1, 'message', 'chrome')"
      ]
     },
     "execution_count": 61,
     "metadata": {},
     "output_type": "execute_result"
    }
   ],
   "source": [
    "log.id, log.message, log.browser\n",
    "# 순서대로 되어있음\n",
    "# 각각 순서에 맞춰서 이름을 부여할 수 있음\n",
    "# 하나의 데이터로 표현하는 데에 가장 심플한 형태가 튜플\n",
    "# 여기에 각각의 이름을 부여하는 것이 namedtuple\n",
    "# 그러면 이제 인덱스에 기반해서 값에 접근할 필요가 없어져서 가독성 올라감\n",
    "\n"
   ]
  },
  {
   "cell_type": "code",
   "execution_count": 63,
   "id": "c465979c",
   "metadata": {},
   "outputs": [
    {
     "data": {
      "text/plain": [
       "[Log(id=4, message='첫 로그', browser='chrome'),\n",
       " Log(id=15, message='두번째 로그', browser='chrome'),\n",
       " Log(id=16, message='첫 로그', browser='chrome'),\n",
       " Log(id=17, message='두번째 로그', browser='chrome'),\n",
       " Log(id=18, message='세번째 로그', browser='chrome'),\n",
       " Log(id=19, message='네번째 로그', browser='chrome')]"
      ]
     },
     "execution_count": 63,
     "metadata": {},
     "output_type": "execute_result"
    }
   ],
   "source": [
    "with db_cursor() as cursor:\n",
    "    cursor.execute(\"SELECT * FROM log\")\n",
    "    rows_data = [\n",
    "        Log(*row)\n",
    "        for row in cursor.fetchall()]\n",
    "    # 이 자체가 전체의 데이터가 됨\n",
    "rows_data"
   ]
  },
  {
   "cell_type": "code",
   "execution_count": null,
   "id": "fb83310c",
   "metadata": {},
   "outputs": [],
   "source": []
  }
 ],
 "metadata": {
  "kernelspec": {
   "display_name": "Python 3 (ipykernel)",
   "language": "python",
   "name": "python3"
  },
  "language_info": {
   "codemirror_mode": {
    "name": "ipython",
    "version": 3
   },
   "file_extension": ".py",
   "mimetype": "text/x-python",
   "name": "python",
   "nbconvert_exporter": "python",
   "pygments_lexer": "ipython3",
   "version": "3.10.0"
  }
 },
 "nbformat": 4,
 "nbformat_minor": 5
}
