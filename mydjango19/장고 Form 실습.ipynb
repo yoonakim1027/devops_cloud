{
 "cells": [
  {
   "cell_type": "markdown",
   "id": "b833bf1f",
   "metadata": {},
   "source": [
    "# 2021.12.09"
   ]
  },
  {
   "cell_type": "markdown",
   "id": "2d32681c",
   "metadata": {},
   "source": [
    "# 주피터 노트북에서 장고 프로젝트 초기화"
   ]
  },
  {
   "cell_type": "code",
   "execution_count": 1,
   "id": "e39cef64",
   "metadata": {},
   "outputs": [],
   "source": [
    "\n",
    "import os\n",
    "\n",
    "os.environ[\"DJANGO_SETTINGS_MODULE\"] = \"mydjango17.settings\"\n",
    "os.environ[\"DJANGO_ALLOW_ASYNC_UNSAFE\"] = \"true\"\n",
    "\n",
    "import django\n",
    "django.setup()"
   ]
  },
  {
   "cell_type": "code",
   "execution_count": 17,
   "id": "b3427ba9",
   "metadata": {},
   "outputs": [],
   "source": [
    "from django import forms\n",
    "# 장고 밑의 django.forms\n",
    "\n",
    "# 휴대폰 번호가 번호가 맞는지 유효성검사를 위해! \n",
    "from django.core.validators import RegexValidator"
   ]
  },
  {
   "cell_type": "code",
   "execution_count": 41,
   "id": "992d7ef3",
   "metadata": {},
   "outputs": [],
   "source": [
    "# 하나의 포스팅을 위해, 서식을 어떻게 작성할 거냐면?\n",
    "# 한줄 입력 박스(CharField), 여러줄 입력 박스(CharField)\n",
    "# forms에는 TextField가 없어!! 그래서 그냥 CharField를 써야 함 \n",
    "\n",
    "class PostForm(forms.Form):\n",
    "    title = forms.CharField()\n",
    "    content = forms.CharField()\n",
    "    phone = forms.CharField(\n",
    "        validators=[\n",
    "            RegexValidator(r\"^\\d{3}-?\\d{4}-?\\d{4}$\",message=\"휴대폰 번호를 입력해주세요\")\n",
    "        ]\n",
    "    \n",
    "    ) #전화번호를 따로 받는 건 없어. 다 문자열\n",
    "    #휴대폰 번호인지 아닌지 checking하려면?"
   ]
  },
  {
   "cell_type": "markdown",
   "id": "39c0d4dd",
   "metadata": {},
   "source": [
    " "
   ]
  },
  {
   "cell_type": "markdown",
   "id": "18bec49e",
   "metadata": {},
   "source": [
    "# 입력서식 보여주기"
   ]
  },
  {
   "cell_type": "code",
   "execution_count": 31,
   "id": "c2478f5d",
   "metadata": {
    "scrolled": true
   },
   "outputs": [
    {
     "data": {
      "text/plain": [
       "'<tr><th><label for=\"id_title\">Title:</label></th><td><input type=\"text\" name=\"title\" required id=\"id_title\"></td></tr>\\n<tr><th><label for=\"id_content\">Content:</label></th><td><input type=\"text\" name=\"content\" required id=\"id_content\"></td></tr>\\n<tr><th><label for=\"id_phone\">Phone:</label></th><td><input type=\"text\" name=\"phone\" required id=\"id_phone\"></td></tr>'"
      ]
     },
     "execution_count": 31,
     "metadata": {},
     "output_type": "execute_result"
    }
   ],
   "source": [
    "# django Form을 통해, 입력 서식 HTML을 자동 생성 \n",
    "form = PostForm()\n",
    "form.as_table()"
   ]
  },
  {
   "cell_type": "markdown",
   "id": "672df874",
   "metadata": {},
   "source": [
    " "
   ]
  },
  {
   "cell_type": "markdown",
   "id": "510386c1",
   "metadata": {},
   "source": [
    "# 입력 서식에 유저가 값을 기입하고, 저장(submit)을 눌렀을 때 "
   ]
  },
  {
   "cell_type": "code",
   "execution_count": 32,
   "id": "0d517f01",
   "metadata": {},
   "outputs": [
    {
     "data": {
      "text/plain": [
       "False"
      ]
     },
     "execution_count": 32,
     "metadata": {},
     "output_type": "execute_result"
    }
   ],
   "source": [
    "data = {\n",
    "    \"title\":\"\",\n",
    "    \"content\":\"\",\n",
    "    \"phone\":\"\",\n",
    "}\n",
    "\n",
    "form = PostForm(data)\n",
    "form.is_valid() # False"
   ]
  },
  {
   "cell_type": "markdown",
   "id": "1fb522df",
   "metadata": {},
   "source": [
    "- 유효성 검사를 다 해준 결과가 False \n",
    "\n",
    "- django.From안에는 값이 항상 있어야 한다는 required 옵션이 켜있는 상태\n",
    "- 그래서 .is_valid() 결과가 False\n"
   ]
  },
  {
   "cell_type": "code",
   "execution_count": 33,
   "id": "26e3ffdf",
   "metadata": {},
   "outputs": [
    {
     "name": "stdout",
     "output_type": "stream",
     "text": [
      "False\n"
     ]
    },
    {
     "data": {
      "text/plain": [
       "{'title': ['This field is required.'],\n",
       " 'content': ['This field is required.'],\n",
       " 'phone': ['This field is required.']}"
      ]
     },
     "execution_count": 33,
     "metadata": {},
     "output_type": "execute_result"
    }
   ],
   "source": [
    "data = {\n",
    "    \"title\":\"\",\n",
    "    \"content\":\"\",\n",
    "    \"phone\":\"\",\n",
    "}\n",
    "\n",
    "form = PostForm(data)\n",
    "print(form.is_valid())\n",
    "form.errors\n"
   ]
  },
  {
   "cell_type": "markdown",
   "id": "36a4605b",
   "metadata": {},
   "source": [
    "{'title': ['This field is required.'], 'content': ['This field is required.']}\n",
    "\n",
    "form.errors의 결과가 이렇게 나옴 "
   ]
  },
  {
   "cell_type": "code",
   "execution_count": 34,
   "id": "51167434",
   "metadata": {},
   "outputs": [
    {
     "name": "stdout",
     "output_type": "stream",
     "text": [
      "False\n"
     ]
    },
    {
     "data": {
      "text/plain": [
       "{'phone': ['This field is required.']}"
      ]
     },
     "execution_count": 34,
     "metadata": {},
     "output_type": "execute_result"
    }
   ],
   "source": [
    "data = {\n",
    "    \"title\":\"제목\",\n",
    "    \"content\":\"내용\",\n",
    "    \"phone\":\"\",\n",
    "}\n",
    "\n",
    "form = PostForm(data)\n",
    "print(form.is_valid())\n",
    "form.errors\n"
   ]
  },
  {
   "cell_type": "code",
   "execution_count": 42,
   "id": "a75fe6fc",
   "metadata": {},
   "outputs": [
    {
     "name": "stdout",
     "output_type": "stream",
     "text": [
      "유효성 검사에 통과한 값들 : {'title': '제목', 'content': '내용', 'phone': '010-7499-1617'}\n"
     ]
    }
   ],
   "source": [
    "data = {\n",
    "    \"title\":\"제목\",\n",
    "    \"content\":\"내용\",\n",
    "    \"phone\":\"010-7499-1617\",\n",
    "}\n",
    "\n",
    "form = PostForm(data)\n",
    "if form.is_valid():\n",
    "    print(\"유효성 검사에 통과한 값들 :\",form.cleaned_data)\n",
    "else:\n",
    "    print(\"에러 메시지 HTML:\", form.errors)\n"
   ]
  },
  {
   "cell_type": "markdown",
   "id": "d90246cc",
   "metadata": {},
   "source": [
    "서식을 보여주는 것, 값을 입력받는 것을 같은 주소에서 처리함\n",
    "\n",
    "(이게 장고 스타일 -> 주소가 같다 = 같은 뷰가 된다)"
   ]
  },
  {
   "cell_type": "code",
   "execution_count": null,
   "id": "7c6b1fec",
   "metadata": {},
   "outputs": [],
   "source": []
  }
 ],
 "metadata": {
  "kernelspec": {
   "display_name": "Python 3 (ipykernel)",
   "language": "python",
   "name": "python3"
  },
  "language_info": {
   "codemirror_mode": {
    "name": "ipython",
    "version": 3
   },
   "file_extension": ".py",
   "mimetype": "text/x-python",
   "name": "python",
   "nbconvert_exporter": "python",
   "pygments_lexer": "ipython3",
   "version": "3.10.0"
  }
 },
 "nbformat": 4,
 "nbformat_minor": 5
}
