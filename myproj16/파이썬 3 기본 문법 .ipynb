{
 "cells": [
  {
   "cell_type": "markdown",
   "id": "f41ef6ba",
   "metadata": {},
   "source": [
    "2021.12.06"
   ]
  },
  {
   "cell_type": "code",
   "execution_count": 7,
   "id": "ce3bf57c",
   "metadata": {},
   "outputs": [],
   "source": [
    "import math\n",
    "\n",
    "class Circle:\n",
    "    def __init__(self, x,y,radius): # x, y, 반지름 \n",
    "        self.x = x # 이름은 항상 의미있게 지어야 함. 보통 좌항 우항 같은 걸로 지음\n",
    "        self.y = y\n",
    "        self.radius = radius\n",
    "        \n",
    "    def get_area(self): # self가 자기 자신이기 때문에 circle은 필요가 X \n",
    "        return math.pi * self.radius * self.radius \n",
    "\n",
    "# 클래스가 있고, 거기에 들여쓰기를 해서 안에다가 넣어줘야 함 \n"
   ]
  },
  {
   "cell_type": "code",
   "execution_count": 8,
   "id": "84933337",
   "metadata": {},
   "outputs": [],
   "source": [
    "circle = Circle(20,30,10) # Circle클래스 타입의 새로운 변수를 생성하게 됨. 변수를 만들려면 할당을 해야함! \n",
    "# 변수를 만드려면 새로운 변수에 할당을 해야 함 \n",
    "# 이때 넘겨진 (20,30,10) -> 인자들은 위에서 만든 __init__(self(얘는 없는걸로 침),x,y,radius) 에 보내지게 됨\n",
    "# "
   ]
  },
  {
   "cell_type": "code",
   "execution_count": 9,
   "id": "390116ad",
   "metadata": {},
   "outputs": [
    {
     "data": {
      "text/plain": [
       "(20, 30, 10)"
      ]
     },
     "execution_count": 9,
     "metadata": {},
     "output_type": "execute_result"
    }
   ],
   "source": [
    "circle.x, circle.y, circle.radius # namedtuple도 이런식으로 씀 "
   ]
  },
  {
   "cell_type": "code",
   "execution_count": 10,
   "id": "30f064d0",
   "metadata": {},
   "outputs": [
    {
     "data": {
      "text/plain": [
       "314.1592653589793"
      ]
     },
     "execution_count": 10,
     "metadata": {},
     "output_type": "execute_result"
    }
   ],
   "source": [
    "get_area(circle)"
   ]
  },
  {
   "cell_type": "code",
   "execution_count": 11,
   "id": "3e4819e7",
   "metadata": {},
   "outputs": [
    {
     "data": {
      "text/plain": [
       "314.1592653589793"
      ]
     },
     "execution_count": 11,
     "metadata": {},
     "output_type": "execute_result"
    }
   ],
   "source": [
    "circle.get_area() # 인자 없이 호출 "
   ]
  },
  {
   "cell_type": "markdown",
   "id": "ca2ecb23",
   "metadata": {},
   "source": [
    "클래스 명은 CamelCase \n",
    "\n",
    "함수 명은 snake_case"
   ]
  },
  {
   "cell_type": "markdown",
   "id": "a76ba8fb",
   "metadata": {},
   "source": [
    "circle.a # 클래스 선언 시, a를 선언했어야 함 \n"
   ]
  },
  {
   "cell_type": "code",
   "execution_count": null,
   "id": "6299c96c",
   "metadata": {},
   "outputs": [],
   "source": []
  },
  {
   "cell_type": "code",
   "execution_count": null,
   "id": "cb13d9e7",
   "metadata": {},
   "outputs": [],
   "source": [
    "인스턴스 안에 정의되어있는 함수 -> 인스턴스함수\n",
    "클래스 안에 정의되어있는 함수 -> 클래스 함수 "
   ]
  },
  {
   "cell_type": "code",
   "execution_count": 17,
   "id": "a01ce5b0",
   "metadata": {},
   "outputs": [
    {
     "ename": "TypeError",
     "evalue": "Person() takes no arguments",
     "output_type": "error",
     "traceback": [
      "\u001b[1;31m---------------------------------------------------------------------------\u001b[0m",
      "\u001b[1;31mTypeError\u001b[0m                                 Traceback (most recent call last)",
      "\u001b[1;32m~\\AppData\\Local\\Temp/ipykernel_4256/1109996990.py\u001b[0m in \u001b[0;36m<module>\u001b[1;34m\u001b[0m\n\u001b[0;32m      6\u001b[0m \u001b[1;33m\u001b[0m\u001b[0m\n\u001b[0;32m      7\u001b[0m \u001b[1;33m\u001b[0m\u001b[0m\n\u001b[1;32m----> 8\u001b[1;33m \u001b[0mp1\u001b[0m \u001b[1;33m=\u001b[0m \u001b[0mPerson\u001b[0m\u001b[1;33m(\u001b[0m\u001b[1;34m'유나'\u001b[0m\u001b[1;33m)\u001b[0m\u001b[1;33m\u001b[0m\u001b[1;33m\u001b[0m\u001b[0m\n\u001b[0m\u001b[0;32m      9\u001b[0m \u001b[0mp1\u001b[0m\u001b[1;33m.\u001b[0m\u001b[0mname\u001b[0m\u001b[1;33m\u001b[0m\u001b[1;33m\u001b[0m\u001b[0m\n\u001b[0;32m     10\u001b[0m \u001b[0mp1\u001b[0m\u001b[1;33m.\u001b[0m\u001b[0mregion\u001b[0m \u001b[1;31m# 항상 인스턴스 변수만 참조하는 것이 아니라,\u001b[0m\u001b[1;33m\u001b[0m\u001b[1;33m\u001b[0m\u001b[0m\n",
      "\u001b[1;31mTypeError\u001b[0m: Person() takes no arguments"
     ]
    }
   ],
   "source": [
    "class Person:\n",
    "    #Class Variable\n",
    "    region = '서울'\n",
    "    def __inif__(self,name):\n",
    "        self.name = name\n",
    "        \n",
    "        \n",
    "p1 = Person('유나')\n",
    "p1.name\n",
    "p1.region # 항상 인스턴스 변수만 참조하는 것이 아니라, \n",
    "# instance variable이 있으면? -> instane variable을 참조\n",
    "# instance variabel이 없으면, Class Variable을 체크 \n",
    "\n",
    "\n",
    "p2 = Person('초롱')\n",
    "p2.name\n",
    "p2.region = '대전' #instance variable 설정 문법\n",
    "p2.region\n",
    "\n",
    "Person.region\n"
   ]
  },
  {
   "cell_type": "code",
   "execution_count": null,
   "id": "59d8319c",
   "metadata": {},
   "outputs": [],
   "source": [
    "class Person:\n",
    "\t# Class Variable\n",
    "\tregion = \"서울\"\n",
    "\t\n",
    "\tdef __init__(self, name):\n",
    "\t\t# Instance Variable\n",
    "\t\tself.name = name\n",
    "p1 = Person(\"Tom\")\n",
    "p1.name\n",
    "p1.region  # \"서울\"\n",
    "  - Instance Variable이 있으면, Instance Variable을 참조\n",
    "  - Instance Variable이 없으면, Class Variable을 체크\n",
    "  - Class Variable에도 없으면 AttributeError 발생\n",
    "p2 = Person(\"Steve\")\n",
    "p2.name\n",
    "p2.region = \"대전\"  # Intance Variable 설정 문법\n",
    "p2.region\n",
    "Person.region"
   ]
  },
  {
   "cell_type": "code",
   "execution_count": null,
   "id": "9778e415",
   "metadata": {},
   "outputs": [],
   "source": []
  },
  {
   "cell_type": "code",
   "execution_count": 18,
   "id": "77abd50b",
   "metadata": {},
   "outputs": [],
   "source": [
    "class Dog:\n",
    "    tricks = [] # class 변수\n",
    "    def add_trick(self, trick):\n",
    "        self.tricks.append(trick)\n",
    "dog1 = Dog()\n",
    "dog1.add_trick('roll over')\n",
    "\n",
    "dog2 = Dog()\n",
    "dog2.add_trick('play dead')\n",
    "\n",
    "# 별도의 클래스공간을 가지길 원하면? 인스턴스 변수문법을 써야함\n"
   ]
  },
  {
   "cell_type": "code",
   "execution_count": 20,
   "id": "2a8d789a",
   "metadata": {},
   "outputs": [
    {
     "data": {
      "text/plain": [
       "['play dead']"
      ]
     },
     "execution_count": 20,
     "metadata": {},
     "output_type": "execute_result"
    }
   ],
   "source": [
    "class Dog:\n",
    "    def __init__(self):\n",
    "        self.tricks  =[]\n",
    "        \n",
    "    def add_trick(self, trick):\n",
    "        self.tricks.append(trick)\n",
    "        \n",
    "        \n",
    "dog1 = Dog()\n",
    "dog1.add_trick('roll over')\n",
    "\n",
    "\n",
    "dog2 = Dog()\n",
    "dog2.add_trick('play dead')\n",
    "\n",
    "dog1.tricks\n",
    "dog2.tricks\n"
   ]
  },
  {
   "cell_type": "code",
   "execution_count": 21,
   "id": "234648ae",
   "metadata": {},
   "outputs": [],
   "source": [
    "class Person:\n",
    "    def __init__(self,name):\n",
    "        self.__name = name \n",
    "        \n",
    "    def say_hello(self):\n",
    "        print(\"안녕 {},\".format(self.__name)) # 인스턴스 함수 내에서는 이름 그대로 접근\n",
    "        \n",
    "    \n",
    "    \n",
    "tom = Person('tom')\n",
    "\n",
    "    "
   ]
  },
  {
   "cell_type": "code",
   "execution_count": 23,
   "id": "7969db09",
   "metadata": {},
   "outputs": [
    {
     "ename": "AttributeError",
     "evalue": "'Person' object has no attribute '__Person__name'",
     "output_type": "error",
     "traceback": [
      "\u001b[1;31m---------------------------------------------------------------------------\u001b[0m",
      "\u001b[1;31mAttributeError\u001b[0m                            Traceback (most recent call last)",
      "\u001b[1;32m~\\AppData\\Local\\Temp/ipykernel_4256/4163822967.py\u001b[0m in \u001b[0;36m<module>\u001b[1;34m\u001b[0m\n\u001b[1;32m----> 1\u001b[1;33m \u001b[0mtom\u001b[0m\u001b[1;33m.\u001b[0m\u001b[0m__Person__name\u001b[0m\u001b[1;33m\u001b[0m\u001b[1;33m\u001b[0m\u001b[0m\n\u001b[0m",
      "\u001b[1;31mAttributeError\u001b[0m: 'Person' object has no attribute '__Person__name'"
     ]
    }
   ],
   "source": [
    "\n"
   ]
  },
  {
   "cell_type": "code",
   "execution_count": null,
   "id": "47577b5b",
   "metadata": {},
   "outputs": [],
   "source": []
  },
  {
   "cell_type": "code",
   "execution_count": null,
   "id": "548b2687",
   "metadata": {},
   "outputs": [],
   "source": []
  },
  {
   "cell_type": "code",
   "execution_count": null,
   "id": "3fc8d8b8",
   "metadata": {},
   "outputs": [],
   "source": []
  },
  {
   "cell_type": "markdown",
   "id": "eda637d9",
   "metadata": {},
   "source": [
    "# 상속 "
   ]
  },
  {
   "cell_type": "markdown",
   "id": "ca8e801a",
   "metadata": {},
   "source": [
    "class Doctor(Person): - > Person은 부모! \n",
    "\n",
    "{% extend %} -> django에서는 이게 상속\n",
    "\n",
    "\n",
    "    "
   ]
  },
  {
   "cell_type": "code",
   "execution_count": null,
   "id": "3d728dbc",
   "metadata": {},
   "outputs": [],
   "source": []
  },
  {
   "cell_type": "code",
   "execution_count": null,
   "id": "03c0c298",
   "metadata": {},
   "outputs": [],
   "source": []
  },
  {
   "cell_type": "markdown",
   "id": "179ca04f",
   "metadata": {},
   "source": [
    "# Generators\n"
   ]
  },
  {
   "cell_type": "code",
   "execution_count": 25,
   "id": "074422bd",
   "metadata": {},
   "outputs": [],
   "source": [
    "def make_numbers_1():\n",
    "    numbers = []\n",
    "    for i in range(1,11):\n",
    "        numbers.append(i)\n",
    "    return numbers\n",
    "\n",
    "# 호출하면\n"
   ]
  },
  {
   "cell_type": "code",
   "execution_count": 26,
   "id": "3633f820",
   "metadata": {},
   "outputs": [
    {
     "data": {
      "text/plain": [
       "[1, 2, 3, 4, 5, 6, 7, 8, 9, 10]"
      ]
     },
     "execution_count": 26,
     "metadata": {},
     "output_type": "execute_result"
    }
   ],
   "source": [
    "make_numbers_1() #리스트가 만들어짐\n"
   ]
  },
  {
   "cell_type": "code",
   "execution_count": null,
   "id": "3d40b893",
   "metadata": {},
   "outputs": [],
   "source": []
  },
  {
   "cell_type": "code",
   "execution_count": 27,
   "id": "a7581175",
   "metadata": {},
   "outputs": [
    {
     "name": "stdout",
     "output_type": "stream",
     "text": [
      "1\n",
      "2\n",
      "3\n",
      "4\n",
      "5\n",
      "6\n",
      "7\n",
      "8\n",
      "9\n",
      "10\n"
     ]
    }
   ],
   "source": [
    "for number in make_numbers_1():\n",
    "    print(number)"
   ]
  },
  {
   "cell_type": "markdown",
   "id": "afc3dc7b",
   "metadata": {},
   "source": [
    "# 함수로 구현한 Generator Function"
   ]
  },
  {
   "cell_type": "code",
   "execution_count": 29,
   "id": "a8e216ca",
   "metadata": {},
   "outputs": [
    {
     "data": {
      "text/plain": [
       "<generator object make_numbers_2 at 0x000001540377BB50>"
      ]
     },
     "execution_count": 29,
     "metadata": {},
     "output_type": "execute_result"
    }
   ],
   "source": [
    "\n",
    "def make_numbers_2():\n",
    "    for i in range(1,11):\n",
    "        yield i\n",
    "\n",
    "make_numbers_2() "
   ]
  },
  {
   "cell_type": "code",
   "execution_count": 30,
   "id": "3b0edc3b",
   "metadata": {},
   "outputs": [
    {
     "data": {
      "text/plain": [
       "<generator object make_numbers_2 at 0x000001540377BD80>"
      ]
     },
     "execution_count": 30,
     "metadata": {},
     "output_type": "execute_result"
    }
   ],
   "source": [
    "\n",
    "# make_numbers_2 타입의 새로운 Generator 변수 (객체)\n",
    "make_numbers_2() # 위에랑 밑에의 메모리상의 주소가 다르다! \n",
    "# 다른 객체야"
   ]
  },
  {
   "cell_type": "code",
   "execution_count": 32,
   "id": "d022a220",
   "metadata": {},
   "outputs": [
    {
     "data": {
      "text/plain": [
       "1"
      ]
     },
     "execution_count": 32,
     "metadata": {},
     "output_type": "execute_result"
    }
   ],
   "source": [
    "gen_numbers = make_numbers_2()\n",
    "next(gen_numbers)"
   ]
  },
  {
   "cell_type": "code",
   "execution_count": 33,
   "id": "d49213d9",
   "metadata": {},
   "outputs": [
    {
     "data": {
      "text/plain": [
       "2"
      ]
     },
     "execution_count": 33,
     "metadata": {},
     "output_type": "execute_result"
    }
   ],
   "source": [
    "next(gen_numbers)\n"
   ]
  },
  {
   "cell_type": "code",
   "execution_count": 34,
   "id": "35858875",
   "metadata": {},
   "outputs": [
    {
     "data": {
      "text/plain": [
       "3"
      ]
     },
     "execution_count": 34,
     "metadata": {},
     "output_type": "execute_result"
    }
   ],
   "source": [
    "next(gen_numbers)"
   ]
  },
  {
   "cell_type": "code",
   "execution_count": 35,
   "id": "550023c8",
   "metadata": {},
   "outputs": [
    {
     "data": {
      "text/plain": [
       "4"
      ]
     },
     "execution_count": 35,
     "metadata": {},
     "output_type": "execute_result"
    }
   ],
   "source": [
    "next(gen_numbers)"
   ]
  },
  {
   "cell_type": "code",
   "execution_count": 36,
   "id": "79b63670",
   "metadata": {},
   "outputs": [
    {
     "data": {
      "text/plain": [
       "5"
      ]
     },
     "execution_count": 36,
     "metadata": {},
     "output_type": "execute_result"
    }
   ],
   "source": [
    "next(gen_numbers)"
   ]
  },
  {
   "cell_type": "code",
   "execution_count": 37,
   "id": "0e6d5341",
   "metadata": {},
   "outputs": [
    {
     "data": {
      "text/plain": [
       "6"
      ]
     },
     "execution_count": 37,
     "metadata": {},
     "output_type": "execute_result"
    }
   ],
   "source": [
    "next(gen_numbers)"
   ]
  },
  {
   "cell_type": "code",
   "execution_count": 38,
   "id": "2f009a92",
   "metadata": {},
   "outputs": [
    {
     "data": {
      "text/plain": [
       "7"
      ]
     },
     "execution_count": 38,
     "metadata": {},
     "output_type": "execute_result"
    }
   ],
   "source": [
    "next(gen_numbers)"
   ]
  },
  {
   "cell_type": "code",
   "execution_count": 39,
   "id": "e7ff00a0",
   "metadata": {},
   "outputs": [
    {
     "data": {
      "text/plain": [
       "8"
      ]
     },
     "execution_count": 39,
     "metadata": {},
     "output_type": "execute_result"
    }
   ],
   "source": [
    "next(gen_numbers)"
   ]
  },
  {
   "cell_type": "code",
   "execution_count": 40,
   "id": "b2cace31",
   "metadata": {},
   "outputs": [
    {
     "data": {
      "text/plain": [
       "9"
      ]
     },
     "execution_count": 40,
     "metadata": {},
     "output_type": "execute_result"
    }
   ],
   "source": [
    "next(gen_numbers)"
   ]
  },
  {
   "cell_type": "code",
   "execution_count": 41,
   "id": "a9897588",
   "metadata": {},
   "outputs": [
    {
     "data": {
      "text/plain": [
       "10"
      ]
     },
     "execution_count": 41,
     "metadata": {},
     "output_type": "execute_result"
    }
   ],
   "source": [
    "next(gen_numbers) # 공간에다가 한 개씩 출하요청을 하는 것! \n"
   ]
  },
  {
   "cell_type": "code",
   "execution_count": 42,
   "id": "f86dcc11",
   "metadata": {},
   "outputs": [
    {
     "ename": "StopIteration",
     "evalue": "",
     "output_type": "error",
     "traceback": [
      "\u001b[1;31m---------------------------------------------------------------------------\u001b[0m",
      "\u001b[1;31mStopIteration\u001b[0m                             Traceback (most recent call last)",
      "\u001b[1;32m~\\AppData\\Local\\Temp/ipykernel_4256/66070288.py\u001b[0m in \u001b[0;36m<module>\u001b[1;34m\u001b[0m\n\u001b[1;32m----> 1\u001b[1;33m \u001b[0mnext\u001b[0m\u001b[1;33m(\u001b[0m\u001b[0mgen_numbers\u001b[0m\u001b[1;33m)\u001b[0m\u001b[1;33m\u001b[0m\u001b[1;33m\u001b[0m\u001b[0m\n\u001b[0m",
      "\u001b[1;31mStopIteration\u001b[0m: "
     ]
    }
   ],
   "source": [
    "next(gen_numbers) # 더이상 출하시킬게 없어! \n"
   ]
  },
  {
   "cell_type": "code",
   "execution_count": 43,
   "id": "6667af0d",
   "metadata": {},
   "outputs": [
    {
     "name": "stdout",
     "output_type": "stream",
     "text": [
      "1\n",
      "2\n",
      "--------\n",
      "3\n",
      "4\n",
      "5\n",
      "6\n",
      "7\n",
      "8\n",
      "9\n",
      "10\n"
     ]
    }
   ],
   "source": [
    "gen_numbers2 = make_numbers_2()\n",
    "print(next(gen_numbers2)) # 1\n",
    "print(next(gen_numbers2))  # 2\n",
    "print(\"--------\")\n",
    "\n",
    "for number in gen_numbers2: # 위에서 1,2를 출하했으니 그 다음부터 나옴 \n",
    "    print(number)"
   ]
  },
  {
   "cell_type": "markdown",
   "id": "fcb67bea",
   "metadata": {},
   "source": [
    "# List Comprehension -> 대괄호\n"
   ]
  },
  {
   "cell_type": "code",
   "execution_count": null,
   "id": "da0e7b86",
   "metadata": {},
   "outputs": [],
   "source": [
    "[i for i in range(1,11)]"
   ]
  },
  {
   "cell_type": "code",
   "execution_count": 45,
   "id": "7ed6d26f",
   "metadata": {},
   "outputs": [
    {
     "data": {
      "text/plain": [
       "[1, 4, 9, 16, 25, 36, 49, 64, 81, 100]"
      ]
     },
     "execution_count": 45,
     "metadata": {},
     "output_type": "execute_result"
    }
   ],
   "source": [
    "[i**2 for i in range(1,11)]"
   ]
  },
  {
   "cell_type": "markdown",
   "id": "8d49b13c",
   "metadata": {},
   "source": [
    "# Set Comprehension (집합)"
   ]
  },
  {
   "cell_type": "code",
   "execution_count": 46,
   "id": "fa438904",
   "metadata": {},
   "outputs": [
    {
     "data": {
      "text/plain": [
       "{1, 4, 9, 16, 25, 36, 49, 64, 81, 100}"
      ]
     },
     "execution_count": 46,
     "metadata": {},
     "output_type": "execute_result"
    }
   ],
   "source": [
    "{i**2 for i in range(1,11)}"
   ]
  },
  {
   "cell_type": "markdown",
   "id": "a6aeca97",
   "metadata": {},
   "source": [
    "# Generator Expresion (표현식) -> 소괄호 "
   ]
  },
  {
   "cell_type": "code",
   "execution_count": null,
   "id": "1d99ab74",
   "metadata": {},
   "outputs": [],
   "source": [
    "gen1 = (i**2 for i in range(1,11))"
   ]
  },
  {
   "cell_type": "code",
   "execution_count": null,
   "id": "0138f519",
   "metadata": {},
   "outputs": [],
   "source": [
    "- 다 생성하지 않음! \n",
    "- 표현식이 되면? 요청이 있을 때마다 한 개씩 순차적으로 생산을 함 \n"
   ]
  },
  {
   "cell_type": "markdown",
   "id": "f2633c95",
   "metadata": {},
   "source": [
    "# 위의 Generator Expression과 동일한 Generator Function"
   ]
  },
  {
   "cell_type": "code",
   "execution_count": 49,
   "id": "2104297b",
   "metadata": {},
   "outputs": [],
   "source": [
    "\n",
    "def make_numbers_3():\n",
    "    for i in range(1,11):\n",
    "        yield i **2\n",
    "        \n",
    "gen2 = make_numbers_3() \n",
    "# 넷플릭스 스트리밍처럼? 조금씩 다운받아서 보여줌! \n",
    "\n"
   ]
  },
  {
   "cell_type": "markdown",
   "id": "4f9d5817",
   "metadata": {},
   "source": [
    "지속적인 학습이 적성에 맞으면..... "
   ]
  },
  {
   "cell_type": "markdown",
   "id": "d6853a71",
   "metadata": {},
   "source": [
    "클래스 변수에 데이터를 저장하는 목적으로 쓰면 절대 x "
   ]
  },
  {
   "cell_type": "raw",
   "id": "6a0cdc62",
   "metadata": {},
   "source": []
  }
 ],
 "metadata": {
  "kernelspec": {
   "display_name": "Python 3 (ipykernel)",
   "language": "python",
   "name": "python3"
  },
  "language_info": {
   "codemirror_mode": {
    "name": "ipython",
    "version": 3
   },
   "file_extension": ".py",
   "mimetype": "text/x-python",
   "name": "python",
   "nbconvert_exporter": "python",
   "pygments_lexer": "ipython3",
   "version": "3.10.0"
  }
 },
 "nbformat": 4,
 "nbformat_minor": 5
}
