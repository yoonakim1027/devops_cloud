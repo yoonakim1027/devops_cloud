{
 "cells": [
  {
   "cell_type": "code",
   "execution_count": 2,
   "id": "ef24b557",
   "metadata": {},
   "outputs": [],
   "source": [
    "import os\n",
    "\n",
    "os.environ[\"DJANGO_SETTINGS_MODULE\"] = \"mydjango20.settings\"\n",
    "os.environ[\"DJANGO_ALLOW_ASYNC_UNSAFE\"] = \"true\"\n",
    "\n",
    "import django\n",
    "django.setup()"
   ]
  },
  {
   "cell_type": "code",
   "execution_count": 3,
   "id": "6a68a4dd",
   "metadata": {},
   "outputs": [],
   "source": [
    "from shop.models import Shop"
   ]
  },
  {
   "cell_type": "code",
   "execution_count": 4,
   "id": "82688644",
   "metadata": {},
   "outputs": [
    {
     "data": {
      "text/plain": [
       "<Shop: 투썸플레이스 대동점>"
      ]
     },
     "execution_count": 4,
     "metadata": {},
     "output_type": "execute_result"
    }
   ],
   "source": [
    "shop = Shop.objects.get(pk=11) #우리가 생성한 pk에 맞춰서 갓 생성된 shop를 조회 \n",
    "shop"
   ]
  },
  {
   "cell_type": "code",
   "execution_count": 8,
   "id": "9032bb32",
   "metadata": {},
   "outputs": [
    {
     "data": {
      "text/plain": [
       "['카페', '투썸플레이스']"
      ]
     },
     "execution_count": 8,
     "metadata": {},
     "output_type": "execute_result"
    }
   ],
   "source": [
    "tags.split(\",\") # 콤마를 구분자로 split"
   ]
  },
  {
   "cell_type": "code",
   "execution_count": 7,
   "id": "f80331ab",
   "metadata": {},
   "outputs": [],
   "source": [
    "tags= \"카페, 투썸플레이스\""
   ]
  },
  {
   "cell_type": "code",
   "execution_count": 16,
   "id": "50509e74",
   "metadata": {},
   "outputs": [
    {
     "name": "stdout",
     "output_type": "stream",
     "text": [
      "생성\n"
     ]
    }
   ],
   "source": [
    "from shop.models import Tag\n",
    "tag_name= \"중식당\" # 이 이름의 카페 이름이 없으면 생성한다.\n",
    "\n",
    "if not Tag.objects.filter(name=tag_name).exists():\n",
    "    Tag.objects.create(name=tag_name)\n",
    "    print(\"생성\")\n",
    "else:\n",
    "    print(\"do nothing\")"
   ]
  },
  {
   "cell_type": "code",
   "execution_count": null,
   "id": "fcb59251",
   "metadata": {},
   "outputs": [],
   "source": [
    "ManyToMany 필드 처리에서, \n",
    "관계로 추가할 모델의 인스턴스 리스트가 필요합니다 \n"
   ]
  },
  {
   "cell_type": "code",
   "execution_count": 19,
   "id": "d9e83517",
   "metadata": {},
   "outputs": [],
   "source": [
    "tag_name=\"중식당\""
   ]
  },
  {
   "cell_type": "code",
   "execution_count": 20,
   "id": "c1a92ddb",
   "metadata": {},
   "outputs": [
    {
     "data": {
      "text/plain": [
       "(<Tag: 중식당>, True)"
      ]
     },
     "execution_count": 20,
     "metadata": {},
     "output_type": "execute_result"
    }
   ],
   "source": [
    "Tag.objects.get_or_create(name=tag_name) # 있으면 가져오고, 없으면 생성하고 \n",
    "# 튜플로 나오는데, False가 나오면? 생성이 안됬다는 것 "
   ]
  },
  {
   "cell_type": "code",
   "execution_count": 22,
   "id": "d84633cb",
   "metadata": {},
   "outputs": [
    {
     "data": {
      "text/plain": [
       "<Tag: 중식당>"
      ]
     },
     "execution_count": 22,
     "metadata": {},
     "output_type": "execute_result"
    }
   ],
   "source": [
    "# 신경쓰고 싶지 않다 : _ (파이썬) / __ (장고)\n",
    "tag, __ = Tag.objects.get_or_create(name=tag_name)\n",
    "tag"
   ]
  },
  {
   "cell_type": "code",
   "execution_count": null,
   "id": "8496ce95",
   "metadata": {},
   "outputs": [],
   "source": []
  },
  {
   "cell_type": "code",
   "execution_count": 25,
   "id": "11af21f8",
   "metadata": {},
   "outputs": [
    {
     "data": {
      "text/plain": [
       "[<Tag: 카페>, <Tag: 투썸플레이스>]"
      ]
     },
     "execution_count": 25,
     "metadata": {},
     "output_type": "execute_result"
    }
   ],
   "source": [
    "tag_list =[]\n",
    "for word in tags.split(\",\"):\n",
    "    tag_name = word.strip() # 좌우 공백제거 \n",
    "    tag, __ = Tag.objects.get_or_create(name=tag_name)\n",
    "    tag_list.append(tag)\n",
    "    \n",
    "tag_list"
   ]
  },
  {
   "cell_type": "code",
   "execution_count": 26,
   "id": "ce4ea797",
   "metadata": {},
   "outputs": [
    {
     "data": {
      "text/plain": [
       "<Shop: 투썸플레이스 대동점>"
      ]
     },
     "execution_count": 26,
     "metadata": {},
     "output_type": "execute_result"
    }
   ],
   "source": [
    "shop"
   ]
  },
  {
   "cell_type": "code",
   "execution_count": 27,
   "id": "9f751ed2",
   "metadata": {},
   "outputs": [
    {
     "data": {
      "text/plain": [
       "<QuerySet []>"
      ]
     },
     "execution_count": 27,
     "metadata": {},
     "output_type": "execute_result"
    }
   ],
   "source": [
    "# shop에 현재 등록된 태그 목록을 보려면?\n",
    "shop.tag_set.all()"
   ]
  },
  {
   "cell_type": "code",
   "execution_count": 31,
   "id": "f9d716fd",
   "metadata": {},
   "outputs": [],
   "source": [
    "# 추가를 하려면?\n",
    "shop.tag_set.add(*tag_list) # 중복 add에 대한 처리가 내부적으로 되어있어요"
   ]
  },
  {
   "cell_type": "code",
   "execution_count": 32,
   "id": "cb2f1f88",
   "metadata": {},
   "outputs": [
    {
     "data": {
      "text/plain": [
       "<QuerySet [<Tag: 카페>, <Tag: 투썸플레이스>]>"
      ]
     },
     "execution_count": 32,
     "metadata": {},
     "output_type": "execute_result"
    }
   ],
   "source": [
    "shop.tag_set.all()"
   ]
  },
  {
   "cell_type": "code",
   "execution_count": 33,
   "id": "27c1a81f",
   "metadata": {},
   "outputs": [],
   "source": [
    "shop.tag_set.clear()\n"
   ]
  },
  {
   "cell_type": "code",
   "execution_count": null,
   "id": "1357a1e3",
   "metadata": {},
   "outputs": [],
   "source": [
    "집합은 중복을 허용하지 않는다.\n",
    "얘도 약간 집합의 성격을 가지고 있는 것 \n",
    "*을 쓴 이유는 ?\n",
    "언팩 - > 항목안에 들어있는 갯수대로 풀어서~~ \n"
   ]
  },
  {
   "cell_type": "code",
   "execution_count": null,
   "id": "18e6b635",
   "metadata": {},
   "outputs": [],
   "source": []
  }
 ],
 "metadata": {
  "kernelspec": {
   "display_name": "Python 3 (ipykernel)",
   "language": "python",
   "name": "python3"
  },
  "language_info": {
   "codemirror_mode": {
    "name": "ipython",
    "version": 3
   },
   "file_extension": ".py",
   "mimetype": "text/x-python",
   "name": "python",
   "nbconvert_exporter": "python",
   "pygments_lexer": "ipython3",
   "version": "3.10.0"
  }
 },
 "nbformat": 4,
 "nbformat_minor": 5
}
