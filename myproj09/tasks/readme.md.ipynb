{
 "cells": [
  {
   "cell_type": "code",
   "execution_count": 3,
   "metadata": {
    "collapsed": true,
    "pycharm": {
     "name": "#%%\n"
    }
   },
   "outputs": [
    {
     "data": {
      "text/plain": "'\\n2021.11.12\\n1. 정규 표현식\\n- 문자열의 패턴, 규칙, Rule 을 정하는 방법\\n\\n---- 휴대폰 번호 정규표현식 방법 ----\\n<원본>\\n\"01[016789][123456789][123456789]\\n[123456789][123456789][123456789]\\n[123456789][123456789]\"\\n\\n\\n\"01[016-9][1-9]\\\\d\\\\d\\\\d\\\\d\\\\d\\\\d\\\\d\"\\n\\n\"01[016-9][1-9]\\\\d{7}\" -> {중괄호 7 -> 정확하게 같은 게 7번}\\n\\n\"01[016-9]-[1-9]\\\\d{7}\"\\n[대괄호 안의 - 는 연속된다는 거고] 밖의 -는 빼기임\\n\\n\"01[016-9]-{1}[1-9]\\\\d{7}\"\\n{중괄호 1 은 무조건 1번 반복이라는 건데 1은 생략해도 됨}\\n\\n\"01[016-9]-{0,1}[1-9]\\\\d{7}\"\\n{0,1} -> 0회 이상 1번 이하 -> 있을 수도 있고 없을 수도 있다.\\n\\n\"01[016-9]-?[1-9]\\\\d{7}\"\\n? -> 있을 수도 있고 없을 수도 있다.\\n\\n\\n<<<<최종 ! 이게 핸드폰 번호의 정규표현식>>>>\\n\"01[016-9]-?[1-9]\\\\d{2,3}-?\\\\d{4}\"\\n\\n\\n\"\\\\d+\" : 숫자 문자열이 1번이상 숫자가 반복되는 것\\nre.findall(\"\\\\d+\") : 숫자 문자열이 1번 이상 숫자가 반복되는 것을 찾아라(re.findall)\\n\\nre.findall(r\"\\\\d+\")# 정규표현식 쓸 때는 항상 앞에 r을 쓰도록!\\n# 이 r이 파이썬에서 중요한 역할을 하는 것.\\n\\n<원본>\\n\"01[016789][123456789][123456789]\\n[123456789][123456789][123456789]\\n[123456789][123456789]\"\\n\\n\\n\\n\\nimport random\\nrandom.sample() # 중복없이 !\\n\\nrandom.sample? -> 물음표 붙혀서 실행하면 영어로 공식 메뉴얼이 뜸\\n\\nrandom.smaple(range(1,46,7)\\n# 랜덤하게 값을 뽑았기 때문에 정렬도 안되어서 나옴\\n\\na,b,c,d,e,f,g = random.sample(range(1,46,7))\\n*numbers,bonus = random.sample(range(1,46,7))\\n값을 할당받을 때 인덱스로 접근하는 것 보다,\\n이렇게 *를 지정해서 접근해서 값을 할당받는 것이 유연하고 가독성이 더 좋은 방식임\\n\\nnumbers자체는 정렬이 안되어있다.\\n정렬 하려면? numbers.sorted로 하거나\\nnumbers가 list기 때문에 numbers.sort를 하면 알아서 리스트가 오름차순 정렬으로 바뀜뀜\\n\\n\\n\\n- 네이버에서 볼 때 페이지 소스 보기\\n- 페이지 소스 보기에서는 없는데 개발자도구 띄워서 봤을 때 우리가 찾는 정보가 있다면 ?\\n- 페이지 소스 보기에서 띄웠을때 있어야 우리가 html으로 크롤링 가능임\\n\\n<< 교수님이 알려주신 크롤링 강의 참고 >>\\n\\nurl = https://search.naver.com/search.naver?where=nexearch&sm=top_sug.pre&fbm=0&acr=1&acq=%EB%A1%9C%EB%98%90&qdt=0&ie=utf8&query=%EB%A1%9C%EB%98%90%EB%8B%B9%EC%B2%A8%EB%B2%88%ED%98%B8%EC%A1%B0%ED%9A%8C\\n\\n\\n\\n\\n\\n\\n\\n\\n\\n\\n\\n\\n\\n\\n\\n\\n\\n\\n\\n\\n\\n\\n\\n\\n\\n'"
     },
     "execution_count": 3,
     "metadata": {},
     "output_type": "execute_result"
    }
   ],
   "source": [
    "\"\"\"\n",
    "2021.11.12\n",
    "1. 정규 표현식\n",
    "- 문자열의 패턴, 규칙, Rule 을 정하는 방법\n",
    "\n",
    "---- 휴대폰 번호 정규표현식 방법 ----\n",
    "<원본>\n",
    "\"01[016789][123456789][123456789]\n",
    "[123456789][123456789][123456789]\n",
    "[123456789][123456789]\"\n",
    "\n",
    "\n",
    "\"01[016-9][1-9]\\d\\d\\d\\d\\d\\d\\d\"\n",
    "\n",
    "\"01[016-9][1-9]\\d{7}\" -> {중괄호 7 -> 정확하게 같은 게 7번}\n",
    "\n",
    "\"01[016-9]-[1-9]\\d{7}\"\n",
    "[대괄호 안의 - 는 연속된다는 거고] 밖의 -는 빼기임\n",
    "\n",
    "\"01[016-9]-{1}[1-9]\\d{7}\"\n",
    "{중괄호 1 은 무조건 1번 반복이라는 건데 1은 생략해도 됨}\n",
    "\n",
    "\"01[016-9]-{0,1}[1-9]\\d{7}\"\n",
    "{0,1} -> 0회 이상 1번 이하 -> 있을 수도 있고 없을 수도 있다.\n",
    "\n",
    "\"01[016-9]-?[1-9]\\d{7}\"\n",
    "? -> 있을 수도 있고 없을 수도 있다.\n",
    "\n",
    "\n",
    "<<<<최종 ! 이게 핸드폰 번호의 정규표현식>>>>\n",
    "\"01[016-9]-?[1-9]\\d{2,3}-?\\d{4}\"\n",
    "\n",
    "\n",
    "\"\\d+\" : 숫자 문자열이 1번이상 숫자가 반복되는 것\n",
    "re.findall(\"\\d+\") : 숫자 문자열이 1번 이상 숫자가 반복되는 것을 찾아라(re.findall)\n",
    "\n",
    "re.findall(r\"\\d+\")# 정규표현식 쓸 때는 항상 앞에 r을 쓰도록!\n",
    "# 이 r이 파이썬에서 중요한 역할을 하는 것.\n",
    "\n",
    "<원본>\n",
    "\"01[016789][123456789][123456789]\n",
    "[123456789][123456789][123456789]\n",
    "[123456789][123456789]\"\n",
    "\n",
    "\n",
    "\n",
    "\n",
    "import random\n",
    "random.sample() # 중복없이 !\n",
    "\n",
    "random.sample? -> 물음표 붙혀서 실행하면 영어로 공식 메뉴얼이 뜸\n",
    "\n",
    "random.sample(range(1,46,7)\n",
    "# 랜덤하게 값을 뽑았기 때문에 정렬도 안되어서 나옴\n",
    "\n",
    "a,b,c,d,e,f,g = random.sample(range(1,46,7))\n",
    "*numbers,bonus = random.sample(range(1,46,7))\n",
    "값을 할당받을 때 인덱스로 접근하는 것 보다,\n",
    "이렇게 *를 지정해서 접근해서 값을 할당받는 것이 유연하고 가독성이 더 좋은 방식임\n",
    "\n",
    "numbers자체는 정렬이 안되어있다.\n",
    "정렬 하려면? numbers.sorted로 하거나\n",
    "numbers가 list기 때문에 numbers.sort를 하면 알아서 리스트가 오름차순 정렬으로 바뀜뀜\n",
    "\n",
    "\n",
    "\n",
    "- 네이버에서 볼 때 페이지 소스 보기\n",
    "- 페이지 소스 보기에서는 없는데 개발자도구 띄워서 봤을 때 우리가 찾는 정보가 있다면 ?\n",
    "- 페이지 소스 보기에서 띄웠을때 있어야 우리가 html으로 크롤링 가능임\n",
    "\n",
    "<< 교수님이 알려주신 크롤링 강의 참고 >>\n",
    "\n",
    "url = \"https://search.naver.com/search.naver?where=nexearch&sm=top_sug.pre&fbm=0&acr=1&acq=%EB%A1%9C%EB%98%90&qdt=0&ie=utf8&query=%EB%A1%9C%EB%98%90%EB%8B%B9%EC%B2%A8%EB%B2%88%ED%98%B8%EC%A1%B0%ED%9A%8C\"\n",
    "\n",
    "import requests\n",
    "from bs4 import BeautifulSoup\n",
    "response = requests.get(url)\n",
    "html = reponse.text\n",
    "soup = BeautifulSoup(html,'html.parser')\n",
    "soup.select(\"._lotto-btn-current\") # ._는 클래스를 뜻함\n",
    "tag_list = soup.select(\"._lotto_wrap .num_box .num\")\n",
    "tag_list[0].text\n",
    "[tag.text for tag in tag_list]\n",
    "soup.select(\"._lotto-btn-current\")\n",
    "soup.select_one(\"._lotto-btn-current\").text\n",
    "\n",
    "\n",
    "<<\n",
    "구조적으로 보기 위해서는 개발자 도구로 해야함\n",
    "구글에서 점세개 클릭하면 도구 더보기에 개발자 도구 가 있음.\n",
    "\n",
    "개발자 도구에서\n",
    "\n",
    ">>\n",
    "\n",
    "def로 지정한 함수들 사이의 공백은 두줄씩\n",
    "\n",
    "\n",
    "\n",
    "\n",
    "\n",
    "\n",
    "\n",
    "\n",
    "\n",
    "\n",
    "\n",
    "\n",
    "\n",
    "\n",
    "\n",
    "\n",
    "\n",
    "\n",
    "\n",
    "\n",
    "\"\"\""
   ]
  },
  {
   "cell_type": "code",
   "execution_count": null,
   "outputs": [],
   "source": [],
   "metadata": {
    "collapsed": false,
    "pycharm": {
     "name": "#%%\n"
    }
   }
  },
  {
   "cell_type": "code",
   "execution_count": null,
   "outputs": [],
   "source": [],
   "metadata": {
    "collapsed": false,
    "pycharm": {
     "name": "#%%\n"
    }
   }
  }
 ],
 "metadata": {
  "kernelspec": {
   "display_name": "Python 3",
   "language": "python",
   "name": "python3"
  },
  "language_info": {
   "codemirror_mode": {
    "name": "ipython",
    "version": 2
   },
   "file_extension": ".py",
   "mimetype": "text/x-python",
   "name": "python",
   "nbconvert_exporter": "python",
   "pygments_lexer": "ipython2",
   "version": "2.7.6"
  }
 },
 "nbformat": 4,
 "nbformat_minor": 0
}